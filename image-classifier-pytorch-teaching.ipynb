{
 "cells": [
  {
   "cell_type": "markdown",
   "id": "ed4fa43e-5d3b-4e82-8288-df800d8056ad",
   "metadata": {},
   "source": [
    "# Image classifier PyTorch\n",
    "\n",
    "Scratchpad to teach building an image classifier in PyTorch. Materials are from various sources."
   ]
  },
  {
   "cell_type": "markdown",
   "id": "7ef0060c-5bd3-4153-ba6e-3776ab000dc3",
   "metadata": {},
   "source": [
    "## Basic imports"
   ]
  },
  {
   "cell_type": "code",
   "execution_count": 1,
   "id": "953774ca-cf56-4de2-82c1-2c415924c493",
   "metadata": {},
   "outputs": [],
   "source": [
    "import torch\n",
    "import torch.nn as nn\n",
    "from torch.utils.data import Dataset, DataLoader\n",
    "from torch.optim import Adam "
   ]
  },
  {
   "cell_type": "code",
   "execution_count": 2,
   "id": "e26cad94-f6bc-4f11-a218-581287aff65a",
   "metadata": {},
   "outputs": [],
   "source": [
    "import torchvision\n",
    "import torchvision.transforms.v2 as transforms\n",
    "import torchvision.transforms.functional as F\n",
    "import matplotlib.pyplot as plt"
   ]
  },
  {
   "cell_type": "markdown",
   "id": "f281f46d-d750-44dc-b81b-4fadcfa34b42",
   "metadata": {},
   "source": [
    "## Setting device to use metal shader backend, if available"
   ]
  },
  {
   "cell_type": "code",
   "execution_count": 3,
   "id": "e730dae8-876a-4d29-b0a5-4df9a28a0a94",
   "metadata": {},
   "outputs": [
    {
     "name": "stdout",
     "output_type": "stream",
     "text": [
      "mps\n"
     ]
    }
   ],
   "source": [
    "device = 'mps' if torch.mps.is_available() else 'cpu'\n",
    "print(device)"
   ]
  },
  {
   "cell_type": "markdown",
   "id": "1f0fdcb3-c69b-464b-a7fc-a10b8e6bcfc8",
   "metadata": {},
   "source": [
    "## Dataset MNIST"
   ]
  },
  {
   "cell_type": "code",
   "execution_count": 4,
   "id": "a0b54d48-8d03-4f2d-8899-79bc5c54b55a",
   "metadata": {},
   "outputs": [],
   "source": [
    "train_set = torchvision.datasets.MNIST('./data/', train=True, download=True)\n",
    "test_set = torchvision.datasets.MNIST('./data/', train=False, download=True)"
   ]
  },
  {
   "cell_type": "code",
   "execution_count": 5,
   "id": "0305f896-d463-4eda-bac4-8c8339373614",
   "metadata": {},
   "outputs": [
    {
     "name": "stdout",
     "output_type": "stream",
     "text": [
      "Dataset MNIST\n",
      "    Number of datapoints: 60000\n",
      "    Root location: ./data/\n",
      "    Split: Train\n"
     ]
    }
   ],
   "source": [
    "print(train_set)"
   ]
  },
  {
   "cell_type": "code",
   "execution_count": 6,
   "id": "51a0ad1c-f951-451a-af58-0a68a043e271",
   "metadata": {},
   "outputs": [
    {
     "name": "stdout",
     "output_type": "stream",
     "text": [
      "Dataset MNIST\n",
      "    Number of datapoints: 10000\n",
      "    Root location: ./data/\n",
      "    Split: Test\n"
     ]
    }
   ],
   "source": [
    "print(test_set)"
   ]
  },
  {
   "cell_type": "code",
   "execution_count": 7,
   "id": "32b60487-93cd-4b96-8d46-d2726269ab5f",
   "metadata": {},
   "outputs": [
    {
     "data": {
      "image/jpeg": "[encoded data removed]",
      "image/png": "[encoded data removed]",
      "text/plain": [
       "<PIL.Image.Image image mode=L size=28x28>"
      ]
     },
     "execution_count": 7,
     "metadata": {},
     "output_type": "execute_result"
    }
   ],
   "source": [
    "image, label = train_set[0]\n",
    "image"
   ]
  },
  {
   "cell_type": "code",
   "execution_count": 8,
   "id": "5bfb7f67-7fb4-47f4-917b-3dcd74037df7",
   "metadata": {},
   "outputs": [
    {
     "data": {
      "text/plain": [
       "(PIL.Image.Image, int)"
      ]
     },
     "execution_count": 8,
     "metadata": {},
     "output_type": "execute_result"
    }
   ],
   "source": [
    "type(image), type(label)"
   ]
  },
  {
   "cell_type": "code",
   "execution_count": 9,
   "id": "8bc7d974-da03-4027-b455-281770e18325",
   "metadata": {},
   "outputs": [
    {
     "data": {
      "text/plain": [
       "(torch.Tensor, torch.Size([1, 28, 28]))"
      ]
     },
     "execution_count": 9,
     "metadata": {},
     "output_type": "execute_result"
    }
   ],
   "source": [
    "image_tensor = F.to_tensor(image)\n",
    "type(image_tensor), image_tensor.shape"
   ]
  },
  {
   "cell_type": "code",
   "execution_count": 10,
   "id": "f1e2a969-1652-483d-a988-a2b1b2502379",
   "metadata": {},
   "outputs": [
    {
     "data": {
      "text/plain": [
       "(torch.Tensor, tensor(1.), tensor(0.), torch.Size([1, 28, 28]))"
      ]
     },
     "execution_count": 10,
     "metadata": {},
     "output_type": "execute_result"
    }
   ],
   "source": [
    "trn = transforms.Compose([lambda img: F.to_tensor(img)])\n",
    "img_tensor = trn(image)\n",
    "type(img_tensor), torch.max(img_tensor), torch.min(image_tensor), image_tensor.shape"
   ]
  },
  {
   "cell_type": "code",
   "execution_count": 11,
   "id": "22c3a2fc-9650-4752-9ce5-434543be9e89",
   "metadata": {},
   "outputs": [
    {
     "data": {
      "image/png": "[encoded data removed]",
      "text/plain": [
       "<Figure size 640x480 with 1 Axes>"
      ]
     },
     "metadata": {},
     "output_type": "display_data"
    }
   ],
   "source": [
    "plt.imshow(img_tensor.squeeze(), cmap='gray')\n",
    "plt.show()"
   ]
  },
  {
   "cell_type": "code",
   "execution_count": 12,
   "id": "2c7e0eb1-e6c8-4e49-a60e-77dbe31807a0",
   "metadata": {},
   "outputs": [],
   "source": [
    "train_set.transform = trn\n",
    "test_set.transform = trn"
   ]
  },
  {
   "cell_type": "code",
   "execution_count": 13,
   "id": "b016dcc7-c0b2-4638-a582-3ab1bdf4b35e",
   "metadata": {},
   "outputs": [],
   "source": [
    "batch_size = 32\n",
    "\n",
    "train_loader = DataLoader(train_set, batch_size=batch_size, shuffle=True)\n",
    "test_loader = DataLoader(test_set, batch_size=batch_size)"
   ]
  },
  {
   "cell_type": "markdown",
   "id": "33f8006f-c2eb-4269-9583-a295722dd50d",
   "metadata": {},
   "source": [
    "## Build a model"
   ]
  },
  {
   "cell_type": "code",
   "execution_count": 14,
   "id": "b2953387-9ac8-4ab4-8e28-714c20fad990",
   "metadata": {},
   "outputs": [
    {
     "data": {
      "text/plain": [
       "torch.Size([1, 2, 3])"
      ]
     },
     "execution_count": 14,
     "metadata": {},
     "output_type": "execute_result"
    }
   ],
   "source": [
    "tensor = torch.tensor([[[1, 2, 3], [4, 5, 6]]])\n",
    "tensor.shape"
   ]
  },
  {
   "cell_type": "code",
   "execution_count": 15,
   "id": "e3726770-b04e-4f23-9f8c-21c2140d89e3",
   "metadata": {},
   "outputs": [
    {
     "data": {
      "text/plain": [
       "torch.Size([1, 6])"
      ]
     },
     "execution_count": 15,
     "metadata": {},
     "output_type": "execute_result"
    }
   ],
   "source": [
    "flatten = nn.Flatten()\n",
    "flatten(tensor).shape\n",
    "\n",
    "# Flatten(start_dim=1, end_dim=-1)\n",
    "# (batch_size, channel, height, width) -> Flatten -> (batch_size, channel * height * width)\n"
   ]
  },
  {
   "cell_type": "code",
   "execution_count": 16,
   "id": "bdf231a1-006e-407c-8331-b7a30a065d8a",
   "metadata": {},
   "outputs": [
    {
     "name": "stdout",
     "output_type": "stream",
     "text": [
      "[Flatten(start_dim=1, end_dim=-1), Linear(in_features=784, out_features=512, bias=True), ReLU(), Linear(in_features=512, out_features=512, bias=True), ReLU(), Linear(in_features=512, out_features=10, bias=True)]\n"
     ]
    }
   ],
   "source": [
    "n_classes = 10\n",
    "layers = [\n",
    "    nn.Flatten(),\n",
    "    nn.Linear(1*28*28, 512),\n",
    "    nn.ReLU(),\n",
    "    nn.Linear(512, 512),\n",
    "    nn.ReLU(),\n",
    "    nn.Linear(512, n_classes)\n",
    "]\n",
    "print(layers)"
   ]
  },
  {
   "cell_type": "code",
   "execution_count": 17,
   "id": "d4e0f0e3-e900-4ede-a6dc-90e3aa3215b6",
   "metadata": {},
   "outputs": [
    {
     "data": {
      "text/plain": [
       "Sequential(\n",
       "  (0): Flatten(start_dim=1, end_dim=-1)\n",
       "  (1): Linear(in_features=784, out_features=512, bias=True)\n",
       "  (2): ReLU()\n",
       "  (3): Linear(in_features=512, out_features=512, bias=True)\n",
       "  (4): ReLU()\n",
       "  (5): Linear(in_features=512, out_features=10, bias=True)\n",
       ")"
      ]
     },
     "execution_count": 17,
     "metadata": {},
     "output_type": "execute_result"
    }
   ],
   "source": [
    "model = nn.Sequential(*layers)\n",
    "model"
   ]
  },
  {
   "cell_type": "code",
   "execution_count": 18,
   "id": "9ce00398-972a-4162-94bc-efb1ed7f208c",
   "metadata": {},
   "outputs": [
    {
     "data": {
      "text/plain": [
       "Sequential(\n",
       "  (0): Flatten(start_dim=1, end_dim=-1)\n",
       "  (1): Linear(in_features=784, out_features=512, bias=True)\n",
       "  (2): ReLU()\n",
       "  (3): Linear(in_features=512, out_features=512, bias=True)\n",
       "  (4): ReLU()\n",
       "  (5): Linear(in_features=512, out_features=10, bias=True)\n",
       ")"
      ]
     },
     "execution_count": 18,
     "metadata": {},
     "output_type": "execute_result"
    }
   ],
   "source": [
    "model.to(device)"
   ]
  },
  {
   "cell_type": "code",
   "execution_count": 19,
   "id": "a399ff9f-a819-4143-920f-bbd585d98f1e",
   "metadata": {},
   "outputs": [],
   "source": [
    "#model = torch.compile(model)\n",
    "#model"
   ]
  },
  {
   "cell_type": "markdown",
   "id": "5c1c568f-b8d9-4f27-92d2-921ef616c41d",
   "metadata": {},
   "source": [
    "## Training and evaluating"
   ]
  },
  {
   "cell_type": "code",
   "execution_count": 20,
   "id": "ea80f194-062d-49e2-b6f4-5e97e4719f88",
   "metadata": {},
   "outputs": [],
   "source": [
    "loss_function = nn.CrossEntropyLoss() # applies softmax to the output and computes negative log likelihood"
   ]
  },
  {
   "cell_type": "code",
   "execution_count": 21,
   "id": "d810ca1c-cbd1-46eb-8908-ec497242e571",
   "metadata": {},
   "outputs": [],
   "source": [
    "optimizer = Adam(model.parameters())"
   ]
  },
  {
   "cell_type": "code",
   "execution_count": 22,
   "id": "0650b97a-2a50-4cb0-a269-c197070029a1",
   "metadata": {},
   "outputs": [],
   "source": [
    "# list(model.parameters())"
   ]
  },
  {
   "cell_type": "code",
   "execution_count": 23,
   "id": "868c80e3-2082-4697-8bec-f202b9a9cd07",
   "metadata": {},
   "outputs": [
    {
     "data": {
      "text/plain": [
       "(60000, 10000)"
      ]
     },
     "execution_count": 23,
     "metadata": {},
     "output_type": "execute_result"
    }
   ],
   "source": [
    "num_train = len(train_loader.dataset)\n",
    "num_test = len(test_loader.dataset)\n",
    "num_train, num_test"
   ]
  },
  {
   "cell_type": "code",
   "execution_count": 24,
   "id": "e11955e8-f528-4540-8272-7c1b65f4d63c",
   "metadata": {},
   "outputs": [],
   "source": [
    "def get_batch_accuracy(batch_output, y, num):\n",
    "    pred = batch_output.argmax(dim=1, keepdim=True)\n",
    "    correct = pred.eq(y.view_as(pred)).sum().item()\n",
    "    return correct / num"
   ]
  },
  {
   "cell_type": "code",
   "execution_count": 25,
   "id": "62100d54-c7d4-4207-8392-a58f119474cf",
   "metadata": {},
   "outputs": [],
   "source": [
    "def train():\n",
    "    loss, accuracy = 0, 0\n",
    "    model.train() \n",
    "    for X, y in train_loader:\n",
    "        optimizer.zero_grad()\n",
    "        \n",
    "        X, y = X.to(device), y.to(device)\n",
    "        output = model(X)\n",
    "\n",
    "        batch_loss = loss_function(output, y)\n",
    "        batch_loss.backward()\n",
    "        optimizer.step()\n",
    "\n",
    "        loss += batch_loss.item()\n",
    "        accuracy += get_batch_accuracy(output, y, num_train)\n",
    "    print(f'Train - Loss: {loss:4f} Accuracy: {accuracy:4f}')\n",
    "        \n",
    "        "
   ]
  },
  {
   "cell_type": "code",
   "execution_count": 26,
   "id": "0ab62c65-47fd-4f92-8e87-6a79e7c7bd93",
   "metadata": {},
   "outputs": [],
   "source": [
    "def validate():\n",
    "    loss, accuracy = 0, 0\n",
    "    model.eval()\n",
    "    with torch.no_grad():\n",
    "        for X, y in test_loader:\n",
    "            X, y = X.to(device), y.to(device)\n",
    "            output = model(X)\n",
    "            loss += loss_function(output, y).item()\n",
    "            accuracy += get_batch_accuracy(output, y, num_test)\n",
    "        print(f'Test - Loss: {loss:4f} Accuracy: {accuracy:4f}')"
   ]
  },
  {
   "cell_type": "code",
   "execution_count": 27,
   "id": "618ab5f2-06d2-40ce-b91c-c319c48e1bc1",
   "metadata": {},
   "outputs": [
    {
     "name": "stderr",
     "output_type": "stream",
     "text": [
      "  0%|                                                                                                                 | 0/5 [00:00<?, ?it/s]"
     ]
    },
    {
     "name": "stdout",
     "output_type": "stream",
     "text": [
      "Epoch: 0\n",
      "Train - Loss: 377.079644 Accuracy: 0.938250\n"
     ]
    },
    {
     "name": "stderr",
     "output_type": "stream",
     "text": [
      " 20%|█████████████████████                                                                                    | 1/5 [00:13<00:52, 13.15s/it]"
     ]
    },
    {
     "name": "stdout",
     "output_type": "stream",
     "text": [
      "Test - Loss: 31.301063 Accuracy: 0.968200\n",
      "Epoch: 1\n",
      "Train - Loss: 158.412193 Accuracy: 0.974133\n"
     ]
    },
    {
     "name": "stderr",
     "output_type": "stream",
     "text": [
      " 40%|██████████████████████████████████████████                                                               | 2/5 [00:25<00:38, 12.92s/it]"
     ]
    },
    {
     "name": "stdout",
     "output_type": "stream",
     "text": [
      "Test - Loss: 28.961997 Accuracy: 0.972100\n",
      "Epoch: 2\n",
      "Train - Loss: 110.245609 Accuracy: 0.981100\n"
     ]
    },
    {
     "name": "stderr",
     "output_type": "stream",
     "text": [
      " 60%|███████████████████████████████████████████████████████████████                                          | 3/5 [00:38<00:25, 12.65s/it]"
     ]
    },
    {
     "name": "stdout",
     "output_type": "stream",
     "text": [
      "Test - Loss: 25.053026 Accuracy: 0.976700\n",
      "Epoch: 3\n",
      "Train - Loss: 83.818785 Accuracy: 0.985783\n"
     ]
    },
    {
     "name": "stderr",
     "output_type": "stream",
     "text": [
      " 80%|████████████████████████████████████████████████████████████████████████████████████                     | 4/5 [00:49<00:12, 12.24s/it]"
     ]
    },
    {
     "name": "stdout",
     "output_type": "stream",
     "text": [
      "Test - Loss: 24.899587 Accuracy: 0.977800\n",
      "Epoch: 4\n",
      "Train - Loss: 64.039081 Accuracy: 0.989333\n"
     ]
    },
    {
     "name": "stderr",
     "output_type": "stream",
     "text": [
      "100%|█████████████████████████████████████████████████████████████████████████████████████████████████████████| 5/5 [01:01<00:00, 12.29s/it]"
     ]
    },
    {
     "name": "stdout",
     "output_type": "stream",
     "text": [
      "Test - Loss: 27.231002 Accuracy: 0.978200\n"
     ]
    },
    {
     "name": "stderr",
     "output_type": "stream",
     "text": [
      "\n"
     ]
    }
   ],
   "source": [
    "from tqdm import tqdm\n",
    "\n",
    "epochs = 5\n",
    "for epoch in tqdm(range(epochs)):\n",
    "    print(f'Epoch: {epoch}')\n",
    "    train()\n",
    "    validate()"
   ]
  },
  {
   "cell_type": "code",
   "execution_count": 28,
   "id": "faa29bda-9f8b-4227-b58f-d2930dff90ad",
   "metadata": {},
   "outputs": [
    {
     "data": {
      "text/plain": [
       "<matplotlib.image.AxesImage at 0x1613ccad0>"
      ]
     },
     "execution_count": 28,
     "metadata": {},
     "output_type": "execute_result"
    },
    {
     "data": {
      "image/png": "[encoded data removed]",
      "text/plain": [
       "<Figure size 640x480 with 1 Axes>"
      ]
     },
     "metadata": {},
     "output_type": "display_data"
    }
   ],
   "source": [
    "plt.imshow(img_tensor.squeeze(), cmap='gray')"
   ]
  },
  {
   "cell_type": "code",
   "execution_count": 32,
   "id": "a21896a2-4e1c-40f0-a0b9-c9a55a0bb713",
   "metadata": {},
   "outputs": [
    {
     "data": {
      "text/plain": [
       "tensor([[-25.3625,  -8.3976, -13.6444,  10.9982, -25.6502,  15.6218, -19.7209,\n",
       "         -12.6001, -12.7577,  -8.3892]], device='mps:0')"
      ]
     },
     "execution_count": 32,
     "metadata": {},
     "output_type": "execute_result"
    }
   ],
   "source": [
    "with torch.no_grad():\n",
    "    pred = model(img_tensor.to(device))\n",
    "pred"
   ]
  },
  {
   "cell_type": "code",
   "execution_count": 33,
   "id": "15ba9cb9-d3f2-40dc-a4da-99c3cdc04738",
   "metadata": {},
   "outputs": [
    {
     "data": {
      "text/plain": [
       "tensor([5], device='mps:0')"
      ]
     },
     "execution_count": 33,
     "metadata": {},
     "output_type": "execute_result"
    }
   ],
   "source": [
    "pred.argmax(dim=1) # correctly identifies 5!"
   ]
  },
  {
   "cell_type": "code",
   "execution_count": 46,
   "id": "a81e943f-76ad-4b18-841f-2256b2a8c9de",
   "metadata": {},
   "outputs": [
    {
     "data": {
      "text/plain": [
       "1"
      ]
     },
     "execution_count": 46,
     "metadata": {},
     "output_type": "execute_result"
    }
   ],
   "source": [
    "image, label = train_set[torch.randint(0, num_train, (1, 1)).item()]"
   ]
  },
  {
   "cell_type": "code",
   "execution_count": 47,
   "id": "8425a3cc-6af9-4cb3-9598-891e010cb0b0",
   "metadata": {},
   "outputs": [
    {
     "data": {
      "text/plain": [
       "<matplotlib.image.AxesImage at 0x30f8ee210>"
      ]
     },
     "execution_count": 47,
     "metadata": {},
     "output_type": "execute_result"
    },
    {
     "data": {
      "image/png": "[encoded data removed]",
      "text/plain": [
       "<Figure size 640x480 with 1 Axes>"
      ]
     },
     "metadata": {},
     "output_type": "display_data"
    }
   ],
   "source": [
    "plt.imshow(image.squeeze(), cmap='gray')"
   ]
  },
  {
   "cell_type": "code",
   "execution_count": 50,
   "id": "c92f6fb1-0cd8-426f-b7c8-b86aa3c70aec",
   "metadata": {},
   "outputs": [
    {
     "data": {
      "text/plain": [
       "tensor([[-13.5442,  15.0895,  -9.4664, -16.6339,  -0.3901, -14.5112,  -9.7415,\n",
       "          -5.6486,  -7.1835,  -9.0378]], device='mps:0')"
      ]
     },
     "execution_count": 50,
     "metadata": {},
     "output_type": "execute_result"
    }
   ],
   "source": [
    "with torch.no_grad():\n",
    "    pred = model(image.to(device))\n",
    "pred"
   ]
  },
  {
   "cell_type": "code",
   "execution_count": 51,
   "id": "f0c9943d-cf0a-454d-98ce-0709be2437fc",
   "metadata": {},
   "outputs": [
    {
     "data": {
      "text/plain": [
       "tensor([1], device='mps:0')"
      ]
     },
     "execution_count": 51,
     "metadata": {},
     "output_type": "execute_result"
    }
   ],
   "source": [
    "pred.argmax(dim=1) # correctly identifies 1!"
   ]
  }
 ],
 "metadata": {
  "kernelspec": {
   "display_name": "Python 3 (ipykernel)",
   "language": "python",
   "name": "python3"
  },
  "language_info": {
   "codemirror_mode": {
    "name": "ipython",
    "version": 3
   },
   "file_extension": ".py",
   "mimetype": "text/x-python",
   "name": "python",
   "nbconvert_exporter": "python",
   "pygments_lexer": "ipython3",
   "version": "3.12.7"
  }
 },
 "nbformat": 4,
 "nbformat_minor": 5
}
