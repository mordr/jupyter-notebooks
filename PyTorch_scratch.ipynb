{
 "cells": [
  {
   "cell_type": "markdown",
   "id": "02b0379b-1719-476c-9d10-7df1489e502d",
   "metadata": {},
   "source": [
    "# PyTorch scratchpad - back to basics"
   ]
  },
  {
   "cell_type": "code",
   "execution_count": 1,
   "id": "4da25106-a0c3-4cf7-a76c-3e7129276064",
   "metadata": {},
   "outputs": [],
   "source": [
    "import torch\n",
    "import torch.nn as nn\n",
    "import numpy as np"
   ]
  },
  {
   "cell_type": "code",
   "execution_count": 2,
   "id": "7d2d31a7-758c-4a83-bb5d-c6619486a462",
   "metadata": {},
   "outputs": [],
   "source": [
    "tensor_example = torch.tensor(np.array([[1,2,3],[4,5,6]]))"
   ]
  },
  {
   "cell_type": "code",
   "execution_count": 3,
   "id": "6c0b4181-3a0c-42d9-9240-28b383153c66",
   "metadata": {},
   "outputs": [
    {
     "name": "stdout",
     "output_type": "stream",
     "text": [
      "Shape of tensor: torch.Size([2, 3])\n",
      "Data type of tensor: torch.int64\n",
      "tensor([[1, 2, 3],\n",
      "        [4, 5, 6]])\n"
     ]
    }
   ],
   "source": [
    "print(f\"Shape of tensor: {tensor_example.shape}\")\n",
    "print(f\"Data type of tensor: {tensor_example.dtype}\")\n",
    "print(tensor_example)"
   ]
  },
  {
   "cell_type": "code",
   "execution_count": 4,
   "id": "8eab0627-d24b-4376-9974-54dac222adaf",
   "metadata": {},
   "outputs": [
    {
     "name": "stdout",
     "output_type": "stream",
     "text": [
      "Tensor Addition:\n",
      "tensor([[ 6,  8],\n",
      "        [10, 12]], dtype=torch.int32)\n"
     ]
    }
   ],
   "source": [
    "import torch\n",
    "\n",
    "# Creating two tensors\n",
    "tensor_a = torch.tensor([[1, 2], [3, 4]], dtype=torch.int32)\n",
    "tensor_b = torch.tensor([[5, 6], [7, 8]], dtype=torch.int32)\n",
    "\n",
    "# Tensor addition\n",
    "tensor_sum = torch.add(tensor_a, tensor_b)\n",
    "print(f\"Tensor Addition:\\n{tensor_sum}\")"
   ]
  },
  {
   "cell_type": "code",
   "execution_count": 5,
   "id": "84987a3b-bdf0-44b5-bef0-96571d428f5b",
   "metadata": {},
   "outputs": [
    {
     "name": "stdout",
     "output_type": "stream",
     "text": [
      "Element-wise Multiplication:\n",
      "tensor([[ 5, 12],\n",
      "        [21, 32]], dtype=torch.int32)\n",
      "Matrix Multiplication:\n",
      "tensor([[ 5],\n",
      "        [11]], dtype=torch.int32)\n"
     ]
    }
   ],
   "source": [
    "# Element-wise Multiplication\n",
    "tensor_product = torch.mul(tensor_a, tensor_b)\n",
    "print(f\"Element-wise Multiplication:\\n{tensor_product}\")\n",
    "\n",
    "# Matrix Multiplication\n",
    "tensor_c = torch.tensor([[1], [2]], dtype=torch.int32) # 2x1 tensor\n",
    "tensor_matmul = torch.matmul(tensor_a, tensor_c)\n",
    "print(f\"Matrix Multiplication:\\n{tensor_matmul}\")"
   ]
  },
  {
   "cell_type": "code",
   "execution_count": 6,
   "id": "98db20a9-f29e-4ae3-9c07-364174b4a26d",
   "metadata": {},
   "outputs": [],
   "source": [
    "tensor_add_scaler = tensor_a + 5"
   ]
  },
  {
   "cell_type": "code",
   "execution_count": 7,
   "id": "7312270a-fdc5-438f-9e45-a47f40b632e8",
   "metadata": {},
   "outputs": [
    {
     "name": "stdout",
     "output_type": "stream",
     "text": [
      "torch.Size([2, 2])\n",
      "torch.Size([2, 1])\n",
      "torch.Size([2, 2])\n"
     ]
    }
   ],
   "source": [
    "print(tensor_a.shape)\n",
    "print(tensor_c.shape)\n",
    "print((tensor_a + tensor_c).shape)"
   ]
  },
  {
   "cell_type": "code",
   "execution_count": 8,
   "id": "4c547403-aa40-4e52-ba7c-66850545233c",
   "metadata": {},
   "outputs": [
    {
     "name": "stdout",
     "output_type": "stream",
     "text": [
      "torch.Size([2, 2])\n",
      "torch.Size([2, 1])\n",
      "torch.Size([2, 2])\n"
     ]
    }
   ],
   "source": [
    "print(tensor_a.shape)\n",
    "print(tensor_c.shape)\n",
    "print((tensor_a * tensor_c).shape)"
   ]
  },
  {
   "cell_type": "code",
   "execution_count": 9,
   "id": "99e2c279-4b94-4de7-bc0d-fcfe50816851",
   "metadata": {},
   "outputs": [
    {
     "data": {
      "text/plain": [
       "tensor([[1, 2, 3],\n",
       "        [4, 5, 6]])"
      ]
     },
     "execution_count": 9,
     "metadata": {},
     "output_type": "execute_result"
    }
   ],
   "source": [
    "tensor_a = torch.tensor([[1, 2, 3], [4, 5, 6]])\n",
    "tensor_a"
   ]
  },
  {
   "cell_type": "code",
   "execution_count": 10,
   "id": "9d8484dc-cf45-4f64-846f-c033cad998b7",
   "metadata": {},
   "outputs": [
    {
     "data": {
      "text/plain": [
       "tensor([[1, 2],\n",
       "        [3, 4],\n",
       "        [5, 6]])"
      ]
     },
     "execution_count": 10,
     "metadata": {},
     "output_type": "execute_result"
    }
   ],
   "source": [
    "tensor_a.view(3, 2)"
   ]
  },
  {
   "cell_type": "code",
   "execution_count": 11,
   "id": "5e3d4f77-bb9a-4dd9-902c-33b714ea07d5",
   "metadata": {},
   "outputs": [
    {
     "data": {
      "text/plain": [
       "tensor([1, 2, 3, 4, 5, 6])"
      ]
     },
     "execution_count": 11,
     "metadata": {},
     "output_type": "execute_result"
    }
   ],
   "source": [
    "tensor_a.view(-1)"
   ]
  },
  {
   "cell_type": "markdown",
   "id": "c949414e-1890-405c-b9cc-f93566822b86",
   "metadata": {},
   "source": [
    "## Dataset basics"
   ]
  },
  {
   "cell_type": "code",
   "execution_count": 12,
   "id": "08bfec4e-8ff0-490a-811b-06fd5cc97526",
   "metadata": {},
   "outputs": [],
   "source": [
    "# Define a simple array as input data\n",
    "X = np.array([[1.0, 2.0], [2.0, 1.0], [3.0, 4.0], [4.0, 3.0]])\n",
    "# Define the target outputs for our dataset\n",
    "y = np.array([0, 1, 0, 1])"
   ]
  },
  {
   "cell_type": "code",
   "execution_count": 13,
   "id": "92ea7f85-bf3c-475c-a19d-dbb11708beaf",
   "metadata": {},
   "outputs": [],
   "source": [
    "X_tensor = torch.tensor(X)\n",
    "y_tensor = torch.tensor(y)"
   ]
  },
  {
   "cell_type": "code",
   "execution_count": 14,
   "id": "9b7e8cfb-bdf9-4e7c-b5a8-7697b927aeb9",
   "metadata": {},
   "outputs": [],
   "source": [
    "from torch.utils.data import TensorDataset\n",
    "\n",
    "dataset = TensorDataset(X_tensor, y_tensor)"
   ]
  },
  {
   "cell_type": "code",
   "execution_count": 15,
   "id": "ab53d4ee-45f4-4cc4-a4e3-7444d278bd57",
   "metadata": {},
   "outputs": [
    {
     "name": "stdout",
     "output_type": "stream",
     "text": [
      "X[0]: tensor([1., 2.], dtype=torch.float64), y[0]: 0\n",
      "X[1]: tensor([2., 1.], dtype=torch.float64), y[1]: 1\n",
      "X[2]: tensor([3., 4.], dtype=torch.float64), y[2]: 0\n",
      "X[3]: tensor([4., 3.], dtype=torch.float64), y[3]: 1\n"
     ]
    }
   ],
   "source": [
    "# Print x and y of the TensorDataset\n",
    "for i in range(len(dataset)):\n",
    "    X_sample, y_sample = dataset[i]\n",
    "    print(f\"X[{i}]: {X_sample}, y[{i}]: {y_sample}\")"
   ]
  },
  {
   "cell_type": "code",
   "execution_count": 16,
   "id": "8d263a76-61aa-4308-8ac9-ff7ceeef192f",
   "metadata": {},
   "outputs": [],
   "source": [
    "from torch.utils.data import DataLoader\n",
    "\n",
    "dataloader = DataLoader(dataset, batch_size=2, shuffle=True)"
   ]
  },
  {
   "cell_type": "code",
   "execution_count": 17,
   "id": "c252fed7-45c7-4bd6-a997-0d8af2d66925",
   "metadata": {},
   "outputs": [
    {
     "name": "stdout",
     "output_type": "stream",
     "text": [
      "Batch X:\n",
      "tensor([[1., 2.],\n",
      "        [4., 3.]], dtype=torch.float64)\n",
      "Batch y:\n",
      "tensor([0, 1])\n",
      "\n",
      "Batch X:\n",
      "tensor([[3., 4.],\n",
      "        [2., 1.]], dtype=torch.float64)\n",
      "Batch y:\n",
      "tensor([0, 1])\n",
      "\n"
     ]
    }
   ],
   "source": [
    "for batch_X, batch_y in dataloader:\n",
    "    print(f\"Batch X:\\n{batch_X}\")\n",
    "    print(f\"Batch y:\\n{batch_y}\\n\")"
   ]
  },
  {
   "cell_type": "markdown",
   "id": "4f337064-35ee-4ec2-8554-d70c0cb558b7",
   "metadata": {},
   "source": [
    "## NN in torch"
   ]
  },
  {
   "cell_type": "code",
   "execution_count": 18,
   "id": "a7311b6f-3981-49f9-b3f5-941718423366",
   "metadata": {},
   "outputs": [
    {
     "data": {
      "text/plain": [
       "tensor([[0., 0., 0.]], grad_fn=<ReluBackward0>)"
      ]
     },
     "execution_count": 18,
     "metadata": {},
     "output_type": "execute_result"
    }
   ],
   "source": [
    "import torch.nn as nn\n",
    "\n",
    "input_tensor = torch.tensor([[1.0, 2.0]], dtype=torch.float32)\n",
    "input_tensor.shape\n",
    "\n",
    "layer = nn.Linear(in_features=2, out_features=3)\n",
    "output_tensor = layer(input_tensor)\n",
    "relu = nn.ReLU()\n",
    "output = relu(output_tensor)\n",
    "\n",
    "output"
   ]
  },
  {
   "cell_type": "code",
   "execution_count": 19,
   "id": "9729a55b-51ad-40f4-a233-41ad701ab8e3",
   "metadata": {},
   "outputs": [
    {
     "data": {
      "text/plain": [
       "tensor([[0.1468, 0.3293, 0.3306]], grad_fn=<SigmoidBackward0>)"
      ]
     },
     "execution_count": 19,
     "metadata": {},
     "output_type": "execute_result"
    }
   ],
   "source": [
    "sigmoid = nn.Sigmoid()\n",
    "output = sigmoid(output_tensor)\n",
    "output"
   ]
  },
  {
   "cell_type": "code",
   "execution_count": 20,
   "id": "2403ddc4-d6b2-4258-adf5-c906e053c9c2",
   "metadata": {},
   "outputs": [],
   "source": [
    "class SimpleNN(nn.Module):\n",
    "    def __init__(self):\n",
    "        super().__init__()\n",
    "        self.layer1 = nn.Linear(in_features=2, out_features=10)\n",
    "        self.relu = nn.ReLU()\n",
    "        self.layer2 = nn.Linear(in_features=10, out_features=1)\n",
    "        self.sigmoid = nn.Sigmoid()\n",
    "\n",
    "    def forward(self, x):\n",
    "        x = self.layer1(x)\n",
    "        x = self.relu(x)\n",
    "        x = self.layer2(x)\n",
    "        x = self.sigmoid(x)\n",
    "        return x"
   ]
  },
  {
   "cell_type": "code",
   "execution_count": 21,
   "id": "76ca2cea-690f-4819-bc53-07f5361a160a",
   "metadata": {},
   "outputs": [
    {
     "name": "stdout",
     "output_type": "stream",
     "text": [
      "SimpleNN(\n",
      "  (layer1): Linear(in_features=2, out_features=10, bias=True)\n",
      "  (relu): ReLU()\n",
      "  (layer2): Linear(in_features=10, out_features=1, bias=True)\n",
      "  (sigmoid): Sigmoid()\n",
      ")\n"
     ]
    }
   ],
   "source": [
    "model_simple_nn = SimpleNN()\n",
    "print(model_simple_nn)"
   ]
  },
  {
   "cell_type": "code",
   "execution_count": 22,
   "id": "0f571eb2-3ae6-46b7-86d4-d184fd0dc819",
   "metadata": {},
   "outputs": [
    {
     "name": "stdout",
     "output_type": "stream",
     "text": [
      "Sequential(\n",
      "  (0): Linear(in_features=2, out_features=10, bias=True)\n",
      "  (1): ReLU()\n",
      "  (2): Linear(in_features=10, out_features=1, bias=True)\n",
      "  (3): Sigmoid()\n",
      ")\n"
     ]
    }
   ],
   "source": [
    "model = nn.Sequential(\n",
    "    nn.Linear(2, 10),\n",
    "    nn.ReLU(),\n",
    "    nn.Linear(10, 1),\n",
    "    nn.Sigmoid()\n",
    ")\n",
    "print(model)"
   ]
  },
  {
   "cell_type": "code",
   "execution_count": 23,
   "id": "85676550-15d5-4cfd-b009-e87bfed224fc",
   "metadata": {},
   "outputs": [
    {
     "name": "stdout",
     "output_type": "stream",
     "text": [
      "torch.Size([12, 2])\n",
      "torch.Size([12, 1])\n"
     ]
    }
   ],
   "source": [
    "# Input features [Average Goals Scored, Average Goals Conceded by Opponent]\n",
    "X = torch.tensor([\n",
    "    [3.0, 0.5], [1.0, 1.0], [0.5, 2.0], [2.0, 1.5],\n",
    "    [3.5, 3.0], [2.0, 2.5], [1.5, 1.0], [0.5, 0.5],\n",
    "    [2.5, 0.8], [2.1, 2.0], [1.2, 0.5], [0.7, 1.5]\n",
    "], dtype=torch.float32)\n",
    "\n",
    "# Target outputs [1 if the team is likely to win, 0 otherwise]\n",
    "y = torch.tensor([[1], [0], [0], [1], [1], [0], [1], [0], [1], [0], [1], [0]], dtype=torch.float32)\n",
    "\n",
    "print(X.shape)\n",
    "print(y.shape)"
   ]
  },
  {
   "cell_type": "code",
   "execution_count": 24,
   "id": "7fed3bb6-61a4-490d-aef6-3c7a5be07ff1",
   "metadata": {},
   "outputs": [
    {
     "name": "stderr",
     "output_type": "stream",
     "text": [
      "100%|█████████████████████████████████████| 500/500 [00:00<00:00, 3914.66it/s]"
     ]
    },
    {
     "name": "stdout",
     "output_type": "stream",
     "text": [
      "Epoch 100, Loss: 0.09754963964223862\n",
      "Epoch 200, Loss: 0.025958335027098656\n",
      "Epoch 300, Loss: 0.01101890578866005\n",
      "Epoch 400, Loss: 0.006039989646524191\n",
      "Epoch 500, Loss: 0.003809058340266347\n"
     ]
    },
    {
     "name": "stderr",
     "output_type": "stream",
     "text": [
      "\n"
     ]
    }
   ],
   "source": [
    "# Training basic model\n",
    "import torch.optim as optim\n",
    "from tqdm import tqdm\n",
    "\n",
    "model = nn.Sequential(\n",
    "    nn.Linear(2, 10),\n",
    "    nn.ReLU(),\n",
    "    nn.Linear(10, 1),\n",
    "    nn.Sigmoid()\n",
    ")\n",
    "\n",
    "criterion = nn.BCELoss()\n",
    "optimizer = optim.Adam(model.parameters(), lr=0.01)\n",
    "\n",
    "for epoch in tqdm(range(500)):\n",
    "    model.train()\n",
    "    optimizer.zero_grad()\n",
    "\n",
    "    output = model(X)\n",
    "    loss = criterion(output, y)\n",
    "\n",
    "    loss.backward()\n",
    "    optimizer.step()\n",
    "    \n",
    "    if (epoch+1) % 100 == 0:  # Print every 10 epochs\n",
    "        print(f\"Epoch {epoch+1}, Loss: {loss.item()}\")  # Print epoch loss\n"
   ]
  },
  {
   "cell_type": "code",
   "execution_count": 25,
   "id": "92070926-b0bf-4e04-b171-07964aae8c07",
   "metadata": {},
   "outputs": [
    {
     "name": "stdout",
     "output_type": "stream",
     "text": [
      "Prediction: 0\n"
     ]
    }
   ],
   "source": [
    "model.eval()\n",
    "\n",
    "new_input = torch.tensor([[4.0, 5.0]], dtype=torch.float32)\n",
    "\n",
    "with torch.no_grad():\n",
    "    prediction = model(new_input)\n",
    "\n",
    "print(\"Prediction:\", (prediction > 0.5).int().item())"
   ]
  },
  {
   "cell_type": "code",
   "execution_count": 26,
   "id": "1cd44848-15ef-46f4-9110-8f7cab88c6b2",
   "metadata": {},
   "outputs": [],
   "source": [
    "# Test Features\n",
    "X_test = torch.tensor([[2.5, 1.0], [0.8, 0.8], [1.0, 2.0], [3.0, 2.5]], dtype=torch.float32)\n",
    "# Test Targets\n",
    "y_test = torch.tensor([[1], [0], [0], [1]], dtype=torch.float32)"
   ]
  },
  {
   "cell_type": "code",
   "execution_count": 27,
   "id": "550193ab-6355-45d6-ae76-d8543fce9182",
   "metadata": {},
   "outputs": [
    {
     "name": "stdout",
     "output_type": "stream",
     "text": [
      "accuracy -> 1.0, test loss -> 0.0020246414933353662\n"
     ]
    }
   ],
   "source": [
    "from sklearn.metrics import accuracy_score\n",
    "\n",
    "model.eval()\n",
    "\n",
    "with torch.no_grad():\n",
    "    output = model(X_test)\n",
    "    predictions = (output > 0.5).int()\n",
    "    test_loss = criterion(output, y_test).item()\n",
    "    accuracy = accuracy_score(y_test.numpy(), predictions.numpy())\n",
    "print(f'accuracy -> {accuracy}, test loss -> {test_loss}')"
   ]
  },
  {
   "cell_type": "markdown",
   "id": "c17e4ed3-4766-4693-aad1-f310c90e27a1",
   "metadata": {},
   "source": [
    "## More modeling"
   ]
  },
  {
   "cell_type": "code",
   "execution_count": 28,
   "id": "2b9707c4-813a-4a63-98f3-9268e2487097",
   "metadata": {},
   "outputs": [
    {
     "name": "stdout",
     "output_type": "stream",
     "text": [
      "['alcohol', 'malic_acid', 'ash', 'alcalinity_of_ash', 'magnesium', 'total_phenols', 'flavanoids', 'nonflavanoid_phenols', 'proanthocyanins', 'color_intensity', 'hue', 'od280/od315_of_diluted_wines', 'proline']\n",
      "['class_0' 'class_1' 'class_2']\n"
     ]
    }
   ],
   "source": [
    "from sklearn.datasets import load_wine\n",
    "\n",
    "wine = load_wine()\n",
    "print(wine.feature_names)\n",
    "print(wine.target_names)"
   ]
  },
  {
   "cell_type": "code",
   "execution_count": 29,
   "id": "346c2c6d-860e-4a0f-be36-af8e980d4c0c",
   "metadata": {},
   "outputs": [
    {
     "name": "stdout",
     "output_type": "stream",
     "text": [
      "Shape of X_train: (124, 13)\n",
      "Shape of X_test: (54, 13)\n",
      "Shape of y_train: (124,)\n",
      "Shape of y_test: (54,)\n"
     ]
    }
   ],
   "source": [
    "from sklearn.model_selection import train_test_split\n",
    "\n",
    "X, y = wine.data, wine.target\n",
    "\n",
    "X_train, X_test, y_train, y_test = train_test_split(X, y, test_size=0.3, stratify=y)\n",
    "\n",
    "# Display the shapes of the resulting splits\n",
    "print(\"Shape of X_train:\", X_train.shape)\n",
    "print(\"Shape of X_test:\", X_test.shape)\n",
    "print(\"Shape of y_train:\", y_train.shape)\n",
    "print(\"Shape of y_test:\", y_test.shape)"
   ]
  },
  {
   "cell_type": "code",
   "execution_count": 30,
   "id": "99f1a872-9c86-401b-a381-58e6da050203",
   "metadata": {},
   "outputs": [],
   "source": [
    "from sklearn.preprocessing import StandardScaler\n",
    "\n",
    "scaler = StandardScaler().fit(X_train)\n",
    "\n",
    "X_train_scaled = scaler.transform(X_train)\n",
    "X_test_scaled = scaler.transform(X_test)"
   ]
  },
  {
   "cell_type": "code",
   "execution_count": 31,
   "id": "e8836053-006b-4d54-a1e5-07b3a72c5f10",
   "metadata": {},
   "outputs": [],
   "source": [
    "X_train_tensor = torch.tensor(X_train_scaled, dtype=torch.float32)\n",
    "X_test_tensor = torch.tensor(X_test_scaled, dtype=torch.float32)\n",
    "y_train_tensor = torch.tensor(y_train, dtype=torch.long)\n",
    "y_test_tensor = torch.tensor(y_test, dtype=torch.long)"
   ]
  },
  {
   "cell_type": "code",
   "execution_count": 32,
   "id": "9e2af0a8-68e5-487f-a445-01788a0d8085",
   "metadata": {},
   "outputs": [
    {
     "data": {
      "text/plain": [
       "Sequential(\n",
       "  (0): Linear(in_features=13, out_features=10, bias=True)\n",
       "  (1): ReLU()\n",
       "  (2): Linear(in_features=10, out_features=10, bias=True)\n",
       "  (3): ReLU()\n",
       "  (4): Linear(in_features=10, out_features=3, bias=True)\n",
       ")"
      ]
     },
     "execution_count": 32,
     "metadata": {},
     "output_type": "execute_result"
    }
   ],
   "source": [
    "model = nn.Sequential(\n",
    "    nn.Linear(13, 10),\n",
    "    nn.ReLU(),\n",
    "    nn.Linear(10, 10),\n",
    "    nn.ReLU(),\n",
    "    nn.Linear(10, 3)\n",
    ")\n",
    "model"
   ]
  },
  {
   "cell_type": "code",
   "execution_count": 33,
   "id": "a7bd8c5b-1424-4109-bdd7-4c8f487ab520",
   "metadata": {},
   "outputs": [
    {
     "name": "stderr",
     "output_type": "stream",
     "text": [
      "100%|█████████████████████████████████████| 150/150 [00:00<00:00, 2621.75it/s]"
     ]
    },
    {
     "name": "stdout",
     "output_type": "stream",
     "text": [
      "Epoch [10/150], Loss: 1.0561, Validation Loss: 1.0587\n",
      "Epoch [20/150], Loss: 1.0321, Validation Loss: 1.0311\n",
      "Epoch [30/150], Loss: 1.0061, Validation Loss: 1.0011\n",
      "Epoch [40/150], Loss: 0.9751, Validation Loss: 0.9659\n",
      "Epoch [50/150], Loss: 0.9365, Validation Loss: 0.9226\n",
      "Epoch [60/150], Loss: 0.8897, Validation Loss: 0.8702\n",
      "Epoch [70/150], Loss: 0.8342, Validation Loss: 0.8090\n",
      "Epoch [80/150], Loss: 0.7696, Validation Loss: 0.7394\n",
      "Epoch [90/150], Loss: 0.6990, Validation Loss: 0.6644\n",
      "Epoch [100/150], Loss: 0.6246, Validation Loss: 0.5871\n",
      "Epoch [110/150], Loss: 0.5505, Validation Loss: 0.5102\n",
      "Epoch [120/150], Loss: 0.4802, Validation Loss: 0.4379\n",
      "Epoch [130/150], Loss: 0.4154, Validation Loss: 0.3731\n",
      "Epoch [140/150], Loss: 0.3569, Validation Loss: 0.3162\n",
      "Epoch [150/150], Loss: 0.3046, Validation Loss: 0.2675\n"
     ]
    },
    {
     "name": "stderr",
     "output_type": "stream",
     "text": [
      "\n"
     ]
    }
   ],
   "source": [
    "import torch.optim as optim\n",
    "from tqdm import tqdm\n",
    "\n",
    "criterion = nn.CrossEntropyLoss()\n",
    "optimizer = optim.Adam(model.parameters(), lr=0.001)\n",
    "\n",
    "epochs, num_epochs = 150, 150\n",
    "history = {'loss': [], 'val_loss': []}\n",
    "for epoch in tqdm(range(epochs)):\n",
    "    model.train()\n",
    "    optimizer.zero_grad()\n",
    "\n",
    "    output = model(X_train_tensor)\n",
    "    loss = criterion(output, y_train_tensor)\n",
    "\n",
    "    loss.backward()\n",
    "    optimizer.step()\n",
    "\n",
    "    history['loss'].append(loss.item())\n",
    "    with torch.no_grad():\n",
    "        outputs_val = model(X_test_tensor)\n",
    "        val_loss = criterion(outputs_val, y_test_tensor)  \n",
    "        history['val_loss'].append(val_loss.item())\n",
    "\n",
    "    if (epoch+1) % 10 == 0:\n",
    "        print(f'Epoch [{epoch+1}/{num_epochs}], Loss: {loss.item():.4f}, Validation Loss: {val_loss.item():.4f}')\n"
   ]
  },
  {
   "cell_type": "code",
   "execution_count": 34,
   "id": "97f5ddd1-8701-4636-8cf9-49c509e7ff58",
   "metadata": {},
   "outputs": [
    {
     "data": {
      "image/png": "[encoded data removed]",
      "text/plain": [
       "<Figure size 800x500 with 1 Axes>"
      ]
     },
     "metadata": {},
     "output_type": "display_data"
    }
   ],
   "source": [
    "import matplotlib.pyplot as plt\n",
    "\n",
    "epochs = range(1, num_epochs + 1)\n",
    "train_loss = history['loss']\n",
    "val_loss = history['val_loss']\n",
    "\n",
    "plt.figure(figsize=(8, 5))\n",
    "plt.plot(epochs, train_loss, label='Training Loss')\n",
    "plt.plot(epochs, val_loss, label='Validation Loss')\n",
    "plt.title('Model Loss During Training')\n",
    "plt.ylabel('Loss')\n",
    "plt.xlabel('Epoch')\n",
    "plt.legend()\n",
    "plt.show()"
   ]
  },
  {
   "cell_type": "code",
   "execution_count": 35,
   "id": "3b8fc3ad-316a-4570-a4ca-2aa8231f8634",
   "metadata": {},
   "outputs": [],
   "source": [
    "# Save the entire model\n",
    "torch.save(model, 'wine_model.pth')"
   ]
  },
  {
   "cell_type": "code",
   "execution_count": 36,
   "id": "da1ff39a-f9be-42b0-972c-0388f1e33e3a",
   "metadata": {},
   "outputs": [
    {
     "name": "stderr",
     "output_type": "stream",
     "text": [
      "/var/folders/gq/vqns5pwd6kn4114tmrmys3vm0000gn/T/ipykernel_14263/797054402.py:2: FutureWarning: You are using `torch.load` with `weights_only=False` (the current default value), which uses the default pickle module implicitly. It is possible to construct malicious pickle data which will execute arbitrary code during unpickling (See https://github.com/pytorch/pytorch/blob/main/SECURITY.md#untrusted-models for more details). In a future release, the default value for `weights_only` will be flipped to `True`. This limits the functions that could be executed during unpickling. Arbitrary objects will no longer be allowed to be loaded via this mode unless they are explicitly allowlisted by the user via `torch.serialization.add_safe_globals`. We recommend you start setting `weights_only=True` for any use case where you don't have full control of the loaded file. Please open an issue on GitHub for any issues related to this experimental feature.\n",
      "  loaded_model = torch.load('wine_model.pth')\n"
     ]
    },
    {
     "data": {
      "text/plain": [
       "Sequential(\n",
       "  (0): Linear(in_features=13, out_features=10, bias=True)\n",
       "  (1): ReLU()\n",
       "  (2): Linear(in_features=10, out_features=10, bias=True)\n",
       "  (3): ReLU()\n",
       "  (4): Linear(in_features=10, out_features=3, bias=True)\n",
       ")"
      ]
     },
     "execution_count": 36,
     "metadata": {},
     "output_type": "execute_result"
    }
   ],
   "source": [
    "# Load the entire model\n",
    "loaded_model = torch.load('wine_model.pth')\n",
    "loaded_model.eval()"
   ]
  },
  {
   "cell_type": "code",
   "execution_count": 37,
   "id": "9c1daad5-1575-4b0b-861b-45e002537108",
   "metadata": {},
   "outputs": [
    {
     "name": "stdout",
     "output_type": "stream",
     "text": [
      "Original Model Accuracy: 0.9815\n",
      "Loaded Model Accuracy: 0.9815\n"
     ]
    }
   ],
   "source": [
    "from sklearn.metrics import accuracy_score \n",
    "\n",
    "with torch.no_grad():\n",
    "    model.eval()\n",
    "    original_outputs = model(X_test_tensor)\n",
    "    loaded_outputs = loaded_model(X_test_tensor)\n",
    "    _, orig_predicted = torch.max(original_outputs, 1)\n",
    "    _, loaded_predicted = torch.max(loaded_outputs, 1)\n",
    "    orig_accuracy = accuracy_score(y_test_tensor, orig_predicted)\n",
    "    predicted_accuracy = accuracy_score(y_test_tensor, loaded_predicted)\n",
    "\n",
    "print(f'Original Model Accuracy: {orig_accuracy:.4f}')\n",
    "print(f'Loaded Model Accuracy: {predicted_accuracy:.4f}')"
   ]
  },
  {
   "cell_type": "markdown",
   "id": "1de03ee7-0f4f-4805-b558-4e838e16b143",
   "metadata": {},
   "source": [
    "## More techniques"
   ]
  },
  {
   "cell_type": "code",
   "execution_count": 38,
   "id": "355a845f-4945-41bb-bb4b-1b57278bfec8",
   "metadata": {},
   "outputs": [],
   "source": [
    "from sklearn.datasets import load_wine\n",
    "\n",
    "wine = load_wine()\n",
    "X = torch.tensor(wine.data, dtype=torch.float32)\n",
    "y = torch.tensor(wine.target, dtype=torch.long)"
   ]
  },
  {
   "cell_type": "code",
   "execution_count": 41,
   "id": "9194b7cc-297c-454c-8b8a-648609239b7c",
   "metadata": {},
   "outputs": [],
   "source": [
    "from torch.utils.data import DataLoader, TensorDataset\n",
    "\n",
    "batch_size = 32\n",
    "dataset = TensorDataset(X, y)\n",
    "dataloader = DataLoader(dataset, batch_size=batch_size, shuffle=True)\n"
   ]
  },
  {
   "cell_type": "code",
   "execution_count": 42,
   "id": "600e8281-3910-4b33-aa88-8e7784429667",
   "metadata": {},
   "outputs": [],
   "source": [
    "import torch.nn as nn\n",
    "import torch.optim as optim\n",
    "\n",
    "model = nn.Sequential(\n",
    "    nn.Linear(13, 10),  \n",
    "    nn.ReLU(),  \n",
    "    nn.Linear(10, 10),  \n",
    "    nn.ReLU(),  \n",
    "    nn.Linear(10, 3)  \n",
    ")\n",
    "\n",
    "criterion = nn.CrossEntropyLoss()  \n",
    "optimizer = optim.Adam(model.parameters(), lr=0.001)  "
   ]
  },
  {
   "cell_type": "code",
   "execution_count": 44,
   "id": "53710bca-4be7-45ec-b412-167a0b267728",
   "metadata": {},
   "outputs": [
    {
     "name": "stderr",
     "output_type": "stream",
     "text": [
      " 85%|█████████████████████████████████▏     | 85/100 [00:00<00:00, 426.08it/s]"
     ]
    },
    {
     "name": "stdout",
     "output_type": "stream",
     "text": [
      "Batch Loss: 23.1592\n",
      "Batch Loss: 21.9450\n",
      "Batch Loss: 19.8332\n",
      "Batch Loss: 22.6680\n",
      "Batch Loss: 19.3348\n",
      "Batch Loss: 16.3935\n",
      "Epoch [1/100] Average Loss: 0.0239\n",
      "Batch Loss: 20.6162\n",
      "Batch Loss: 19.5672\n",
      "Batch Loss: 14.2321\n",
      "Batch Loss: 14.9091\n",
      "Batch Loss: 12.1584\n",
      "Batch Loss: 7.7981\n",
      "Epoch [2/100] Average Loss: 0.0167\n",
      "Batch Loss: 10.2776\n",
      "Batch Loss: 10.6479\n",
      "Batch Loss: 10.7863\n",
      "Batch Loss: 10.9071\n",
      "Batch Loss: 10.2963\n",
      "Batch Loss: 9.5774\n",
      "Epoch [3/100] Average Loss: 0.0123\n",
      "Batch Loss: 7.8722\n",
      "Batch Loss: 8.4222\n",
      "Batch Loss: 6.5882\n",
      "Batch Loss: 6.5179\n",
      "Batch Loss: 4.2761\n",
      "Batch Loss: 7.3019\n",
      "Epoch [4/100] Average Loss: 0.0082\n",
      "Batch Loss: 6.1344\n",
      "Batch Loss: 5.4473\n",
      "Batch Loss: 4.1562\n",
      "Batch Loss: 3.7043\n",
      "Batch Loss: 2.9403\n",
      "Batch Loss: 3.7929\n",
      "Epoch [5/100] Average Loss: 0.0051\n",
      "Batch Loss: 3.9046\n",
      "Batch Loss: 2.1834\n",
      "Batch Loss: 3.8683\n",
      "Batch Loss: 2.8443\n",
      "Batch Loss: 2.5230\n",
      "Batch Loss: 2.9976\n",
      "Epoch [6/100] Average Loss: 0.0036\n",
      "Batch Loss: 3.0264\n",
      "Batch Loss: 2.4342\n",
      "Batch Loss: 2.2404\n",
      "Batch Loss: 1.5822\n",
      "Batch Loss: 2.0961\n",
      "Batch Loss: 1.9239\n",
      "Epoch [7/100] Average Loss: 0.0026\n",
      "Batch Loss: 1.7329\n",
      "Batch Loss: 1.5698\n",
      "Batch Loss: 1.6081\n",
      "Batch Loss: 1.3929\n",
      "Batch Loss: 1.9788\n",
      "Batch Loss: 1.1871\n",
      "Epoch [8/100] Average Loss: 0.0018\n",
      "Batch Loss: 1.9136\n",
      "Batch Loss: 1.3346\n",
      "Batch Loss: 1.3041\n",
      "Batch Loss: 1.4221\n",
      "Batch Loss: 1.6262\n",
      "Batch Loss: 1.5360\n",
      "Epoch [9/100] Average Loss: 0.0018\n",
      "Batch Loss: 1.3331\n",
      "Batch Loss: 1.4252\n",
      "Batch Loss: 1.6015\n",
      "Batch Loss: 1.5550\n",
      "Batch Loss: 1.3637\n",
      "Batch Loss: 1.9331\n",
      "Epoch [10/100] Average Loss: 0.0019\n",
      "Batch Loss: 1.5024\n",
      "Batch Loss: 1.6834\n",
      "Batch Loss: 1.3543\n",
      "Batch Loss: 1.0404\n",
      "Batch Loss: 1.3595\n",
      "Batch Loss: 1.3993\n",
      "Epoch [11/100] Average Loss: 0.0017\n",
      "Batch Loss: 1.0111\n",
      "Batch Loss: 1.5863\n",
      "Batch Loss: 1.4494\n",
      "Batch Loss: 1.2372\n",
      "Batch Loss: 1.2708\n",
      "Batch Loss: 1.2732\n",
      "Epoch [12/100] Average Loss: 0.0015\n",
      "Batch Loss: 1.3325\n",
      "Batch Loss: 1.1828\n",
      "Batch Loss: 1.1952\n",
      "Batch Loss: 1.4837\n",
      "Batch Loss: 1.3087\n",
      "Batch Loss: 1.0332\n",
      "Epoch [13/100] Average Loss: 0.0015\n",
      "Batch Loss: 1.3010\n",
      "Batch Loss: 1.1763\n",
      "Batch Loss: 1.3942\n",
      "Batch Loss: 1.0741\n",
      "Batch Loss: 1.4330\n",
      "Batch Loss: 0.8561\n",
      "Epoch [14/100] Average Loss: 0.0014\n",
      "Batch Loss: 1.2039\n",
      "Batch Loss: 1.2445\n",
      "Batch Loss: 1.2326\n",
      "Batch Loss: 1.3701\n",
      "Batch Loss: 0.8938\n",
      "Batch Loss: 1.2606\n",
      "Epoch [15/100] Average Loss: 0.0014\n",
      "Batch Loss: 1.3911\n",
      "Batch Loss: 1.0305\n",
      "Batch Loss: 1.2245\n",
      "Batch Loss: 1.2961\n",
      "Batch Loss: 1.0672\n",
      "Batch Loss: 0.8211\n",
      "Epoch [16/100] Average Loss: 0.0013\n",
      "Batch Loss: 1.0886\n",
      "Batch Loss: 1.0195\n",
      "Batch Loss: 1.1875\n",
      "Batch Loss: 1.2282\n",
      "Batch Loss: 1.1558\n",
      "Batch Loss: 1.1256\n",
      "Epoch [17/100] Average Loss: 0.0013\n",
      "Batch Loss: 1.2637\n",
      "Batch Loss: 1.1839\n",
      "Batch Loss: 0.8937\n",
      "Batch Loss: 1.1319\n",
      "Batch Loss: 1.0421\n",
      "Batch Loss: 1.1322\n",
      "Epoch [18/100] Average Loss: 0.0013\n",
      "Batch Loss: 1.0539\n",
      "Batch Loss: 0.9844\n",
      "Batch Loss: 1.0652\n",
      "Batch Loss: 1.0108\n",
      "Batch Loss: 1.0894\n",
      "Batch Loss: 1.3344\n",
      "Epoch [19/100] Average Loss: 0.0013\n",
      "Batch Loss: 1.1725\n",
      "Batch Loss: 0.6984\n",
      "Batch Loss: 1.1435\n",
      "Batch Loss: 1.0419\n",
      "Batch Loss: 1.1671\n",
      "Batch Loss: 0.9855\n",
      "Epoch [20/100] Average Loss: 0.0012\n",
      "Batch Loss: 0.9704\n",
      "Batch Loss: 1.0458\n",
      "Batch Loss: 1.0557\n",
      "Batch Loss: 1.0102\n",
      "Batch Loss: 0.9190\n",
      "Batch Loss: 1.0733\n",
      "Epoch [21/100] Average Loss: 0.0012\n",
      "Batch Loss: 1.0115\n",
      "Batch Loss: 0.9147\n",
      "Batch Loss: 0.9046\n",
      "Batch Loss: 0.9892\n",
      "Batch Loss: 1.0816\n",
      "Batch Loss: 0.9664\n",
      "Epoch [22/100] Average Loss: 0.0012\n",
      "Batch Loss: 1.1859\n",
      "Batch Loss: 0.8336\n",
      "Batch Loss: 0.8447\n",
      "Batch Loss: 0.8759\n",
      "Batch Loss: 1.0950\n",
      "Batch Loss: 0.8628\n",
      "Epoch [23/100] Average Loss: 0.0011\n",
      "Batch Loss: 0.8462\n",
      "Batch Loss: 0.9452\n",
      "Batch Loss: 1.0357\n",
      "Batch Loss: 1.0421\n",
      "Batch Loss: 0.8205\n",
      "Batch Loss: 0.8835\n",
      "Epoch [24/100] Average Loss: 0.0011\n",
      "Batch Loss: 1.0948\n",
      "Batch Loss: 0.7483\n",
      "Batch Loss: 0.9467\n",
      "Batch Loss: 0.9969\n",
      "Batch Loss: 0.7811\n",
      "Batch Loss: 0.9312\n",
      "Epoch [25/100] Average Loss: 0.0011\n",
      "Batch Loss: 0.8783\n",
      "Batch Loss: 0.9741\n",
      "Batch Loss: 0.8851\n",
      "Batch Loss: 0.9211\n",
      "Batch Loss: 0.9006\n",
      "Batch Loss: 0.7705\n",
      "Epoch [26/100] Average Loss: 0.0010\n",
      "Batch Loss: 0.9646\n",
      "Batch Loss: 0.8975\n",
      "Batch Loss: 0.8895\n",
      "Batch Loss: 0.9099\n",
      "Batch Loss: 0.7740\n",
      "Batch Loss: 0.8289\n",
      "Epoch [27/100] Average Loss: 0.0010\n",
      "Batch Loss: 0.9069\n",
      "Batch Loss: 0.9233\n",
      "Batch Loss: 0.9650\n",
      "Batch Loss: 0.7961\n",
      "Batch Loss: 0.7412\n",
      "Batch Loss: 0.8719\n",
      "Epoch [28/100] Average Loss: 0.0010\n",
      "Batch Loss: 0.8790\n",
      "Batch Loss: 0.8707\n",
      "Batch Loss: 0.7991\n",
      "Batch Loss: 0.8441\n",
      "Batch Loss: 0.8958\n",
      "Batch Loss: 0.7975\n",
      "Epoch [29/100] Average Loss: 0.0010\n",
      "Batch Loss: 0.9856\n",
      "Batch Loss: 0.9990\n",
      "Batch Loss: 0.6756\n",
      "Batch Loss: 0.8554\n",
      "Batch Loss: 0.7490\n",
      "Batch Loss: 0.7347\n",
      "Epoch [30/100] Average Loss: 0.0010\n",
      "Batch Loss: 0.7895\n",
      "Batch Loss: 0.9042\n",
      "Batch Loss: 0.8241\n",
      "Batch Loss: 0.8484\n",
      "Batch Loss: 0.7760\n",
      "Batch Loss: 0.7970\n",
      "Epoch [31/100] Average Loss: 0.0010\n",
      "Batch Loss: 0.9835\n",
      "Batch Loss: 0.7569\n",
      "Batch Loss: 0.7815\n",
      "Batch Loss: 0.8541\n",
      "Batch Loss: 0.7671\n",
      "Batch Loss: 0.7002\n",
      "Epoch [32/100] Average Loss: 0.0009\n",
      "Batch Loss: 0.8682\n",
      "Batch Loss: 0.8227\n",
      "Batch Loss: 0.8095\n",
      "Batch Loss: 0.7103\n",
      "Batch Loss: 0.7786\n",
      "Batch Loss: 0.8877\n",
      "Epoch [33/100] Average Loss: 0.0010\n",
      "Batch Loss: 0.7576\n",
      "Batch Loss: 0.7628\n",
      "Batch Loss: 0.8400\n",
      "Batch Loss: 0.8692\n",
      "Batch Loss: 0.8517\n",
      "Batch Loss: 0.6748\n",
      "Epoch [34/100] Average Loss: 0.0009\n",
      "Batch Loss: 0.7198\n",
      "Batch Loss: 0.7639\n",
      "Batch Loss: 0.9467\n",
      "Batch Loss: 0.7610\n",
      "Batch Loss: 0.7711\n",
      "Batch Loss: 0.8096\n",
      "Epoch [35/100] Average Loss: 0.0009\n",
      "Batch Loss: 0.7025\n",
      "Batch Loss: 0.8020\n",
      "Batch Loss: 0.8239\n",
      "Batch Loss: 0.8590\n",
      "Batch Loss: 0.8577\n",
      "Batch Loss: 0.6056\n",
      "Epoch [36/100] Average Loss: 0.0009\n",
      "Batch Loss: 0.8777\n",
      "Batch Loss: 0.6708\n",
      "Batch Loss: 0.9360\n",
      "Batch Loss: 0.8114\n",
      "Batch Loss: 0.7124\n",
      "Batch Loss: 0.6232\n",
      "Epoch [37/100] Average Loss: 0.0009\n",
      "Batch Loss: 0.8090\n",
      "Batch Loss: 0.7517\n",
      "Batch Loss: 0.8043\n",
      "Batch Loss: 0.7256\n",
      "Batch Loss: 0.7376\n",
      "Batch Loss: 0.9123\n",
      "Epoch [38/100] Average Loss: 0.0010\n",
      "Batch Loss: 0.6851\n",
      "Batch Loss: 0.8384\n",
      "Batch Loss: 0.7139\n",
      "Batch Loss: 0.8349\n",
      "Batch Loss: 0.8153\n",
      "Batch Loss: 0.7370\n",
      "Epoch [39/100] Average Loss: 0.0009\n",
      "Batch Loss: 0.7754\n",
      "Batch Loss: 0.7250\n",
      "Batch Loss: 0.7996\n",
      "Batch Loss: 0.7545\n",
      "Batch Loss: 0.8484\n",
      "Batch Loss: 0.7081\n",
      "Epoch [40/100] Average Loss: 0.0009\n",
      "Batch Loss: 0.7884\n",
      "Batch Loss: 0.8525\n",
      "Batch Loss: 0.7139\n",
      "Batch Loss: 0.7688\n",
      "Batch Loss: 0.7316\n",
      "Batch Loss: 0.7302\n",
      "Epoch [41/100] Average Loss: 0.0009\n",
      "Batch Loss: 0.8228\n",
      "Batch Loss: 0.8162\n",
      "Batch Loss: 0.7774\n",
      "Batch Loss: 0.6869\n",
      "Batch Loss: 0.7127\n",
      "Batch Loss: 0.7417\n",
      "Epoch [42/100] Average Loss: 0.0009\n",
      "Batch Loss: 0.8354\n",
      "Batch Loss: 0.6389\n",
      "Batch Loss: 0.7858\n",
      "Batch Loss: 0.7158\n",
      "Batch Loss: 0.8445\n",
      "Batch Loss: 0.7339\n",
      "Epoch [43/100] Average Loss: 0.0009\n",
      "Batch Loss: 0.6964\n",
      "Batch Loss: 0.7710\n",
      "Batch Loss: 0.7607\n",
      "Batch Loss: 0.7746\n",
      "Batch Loss: 0.8426\n",
      "Batch Loss: 0.6418\n",
      "Epoch [44/100] Average Loss: 0.0009\n",
      "Batch Loss: 0.7652\n",
      "Batch Loss: 0.9278\n",
      "Batch Loss: 0.6820\n",
      "Batch Loss: 0.6847\n",
      "Batch Loss: 0.7590\n",
      "Batch Loss: 0.6523\n",
      "Epoch [45/100] Average Loss: 0.0009\n",
      "Batch Loss: 0.7911\n",
      "Batch Loss: 0.7564\n",
      "Batch Loss: 0.7955\n",
      "Batch Loss: 0.7020\n",
      "Batch Loss: 0.7022\n",
      "Batch Loss: 0.7280\n",
      "Epoch [46/100] Average Loss: 0.0009\n",
      "Batch Loss: 0.7800\n",
      "Batch Loss: 0.6665\n",
      "Batch Loss: 0.8242\n",
      "Batch Loss: 0.7729\n",
      "Batch Loss: 0.6671\n",
      "Batch Loss: 0.7494\n",
      "Epoch [47/100] Average Loss: 0.0009\n",
      "Batch Loss: 0.8433\n",
      "Batch Loss: 0.6723\n",
      "Batch Loss: 0.7085\n",
      "Batch Loss: 0.7293\n",
      "Batch Loss: 0.8869\n",
      "Batch Loss: 0.4891\n",
      "Epoch [48/100] Average Loss: 0.0008\n",
      "Batch Loss: 0.7558\n",
      "Batch Loss: 0.7283\n",
      "Batch Loss: 0.7743\n",
      "Batch Loss: 0.7323\n",
      "Batch Loss: 0.7167\n",
      "Batch Loss: 0.7035\n",
      "Epoch [49/100] Average Loss: 0.0009\n",
      "Batch Loss: 0.7384\n",
      "Batch Loss: 0.7979\n",
      "Batch Loss: 0.7511\n",
      "Batch Loss: 0.8409\n",
      "Batch Loss: 0.6022\n",
      "Batch Loss: 0.6419\n",
      "Epoch [50/100] Average Loss: 0.0009\n",
      "Batch Loss: 0.6908\n",
      "Batch Loss: 0.6934\n",
      "Batch Loss: 0.8588\n",
      "Batch Loss: 0.6012\n",
      "Batch Loss: 0.8332\n",
      "Batch Loss: 0.6957\n",
      "Epoch [51/100] Average Loss: 0.0009\n",
      "Batch Loss: 0.7524\n",
      "Batch Loss: 0.7624\n",
      "Batch Loss: 0.7228\n",
      "Batch Loss: 0.6571\n",
      "Batch Loss: 0.7958\n",
      "Batch Loss: 0.6216\n",
      "Epoch [52/100] Average Loss: 0.0008\n",
      "Batch Loss: 0.8658\n",
      "Batch Loss: 0.6655\n",
      "Batch Loss: 0.7556\n",
      "Batch Loss: 0.6234\n",
      "Batch Loss: 0.6613\n",
      "Batch Loss: 0.7993\n",
      "Epoch [53/100] Average Loss: 0.0009\n",
      "Batch Loss: 0.7469\n",
      "Batch Loss: 0.6901\n",
      "Batch Loss: 0.8098\n",
      "Batch Loss: 0.7187\n",
      "Batch Loss: 0.6668\n",
      "Batch Loss: 0.6738\n",
      "Epoch [54/100] Average Loss: 0.0008\n",
      "Batch Loss: 0.7094\n",
      "Batch Loss: 0.6872\n",
      "Batch Loss: 0.7716\n",
      "Batch Loss: 0.6453\n",
      "Batch Loss: 0.7531\n",
      "Batch Loss: 0.7525\n",
      "Epoch [55/100] Average Loss: 0.0009\n",
      "Batch Loss: 0.6141\n",
      "Batch Loss: 0.7521\n",
      "Batch Loss: 0.6941\n",
      "Batch Loss: 0.7572\n",
      "Batch Loss: 0.8249\n",
      "Batch Loss: 0.5899\n",
      "Epoch [56/100] Average Loss: 0.0008\n",
      "Batch Loss: 0.8090\n",
      "Batch Loss: 0.6835\n",
      "Batch Loss: 0.6220\n",
      "Batch Loss: 0.7396\n",
      "Batch Loss: 0.7447\n",
      "Batch Loss: 0.6338\n",
      "Epoch [57/100] Average Loss: 0.0008\n",
      "Batch Loss: 0.6995\n",
      "Batch Loss: 0.7471\n",
      "Batch Loss: 0.7709\n",
      "Batch Loss: 0.7641\n",
      "Batch Loss: 0.6135\n",
      "Batch Loss: 0.6126\n",
      "Epoch [58/100] Average Loss: 0.0008\n",
      "Batch Loss: 0.6394\n",
      "Batch Loss: 0.7796\n",
      "Batch Loss: 0.7030\n",
      "Batch Loss: 0.7093\n",
      "Batch Loss: 0.7406\n",
      "Batch Loss: 0.6239\n",
      "Epoch [59/100] Average Loss: 0.0008\n",
      "Batch Loss: 0.6158\n",
      "Batch Loss: 0.6787\n",
      "Batch Loss: 0.8095\n",
      "Batch Loss: 0.7593\n",
      "Batch Loss: 0.5965\n",
      "Batch Loss: 0.8067\n",
      "Epoch [60/100] Average Loss: 0.0009\n",
      "Batch Loss: 0.5881\n",
      "Batch Loss: 0.6380\n",
      "Batch Loss: 0.7542\n",
      "Batch Loss: 0.8475\n",
      "Batch Loss: 0.6760\n",
      "Batch Loss: 0.6939\n",
      "Epoch [61/100] Average Loss: 0.0008\n",
      "Batch Loss: 0.6743\n",
      "Batch Loss: 0.6197\n",
      "Batch Loss: 0.7018\n",
      "Batch Loss: 0.7668\n",
      "Batch Loss: 0.6791\n",
      "Batch Loss: 0.7658\n",
      "Epoch [62/100] Average Loss: 0.0008\n",
      "Batch Loss: 0.6686\n",
      "Batch Loss: 0.6743\n",
      "Batch Loss: 0.5852\n",
      "Batch Loss: 0.6804\n",
      "Batch Loss: 0.8313\n",
      "Batch Loss: 0.7605\n",
      "Epoch [63/100] Average Loss: 0.0008\n",
      "Batch Loss: 0.7210\n",
      "Batch Loss: 0.5918\n",
      "Batch Loss: 0.6322\n",
      "Batch Loss: 0.6335\n",
      "Batch Loss: 0.7797\n",
      "Batch Loss: 0.9414\n",
      "Epoch [64/100] Average Loss: 0.0009\n",
      "Batch Loss: 0.7039\n",
      "Batch Loss: 0.5687\n",
      "Batch Loss: 0.7510\n",
      "Batch Loss: 0.5787\n",
      "Batch Loss: 0.7795\n",
      "Batch Loss: 0.8091\n",
      "Epoch [65/100] Average Loss: 0.0008\n",
      "Batch Loss: 0.8200\n",
      "Batch Loss: 0.5861\n",
      "Batch Loss: 0.7735\n",
      "Batch Loss: 0.6302\n",
      "Batch Loss: 0.6548\n",
      "Batch Loss: 0.6740\n",
      "Epoch [66/100] Average Loss: 0.0008\n",
      "Batch Loss: 0.7713\n",
      "Batch Loss: 0.6646\n",
      "Batch Loss: 0.7041\n",
      "Batch Loss: 0.6048\n",
      "Batch Loss: 0.8220\n",
      "Batch Loss: 0.4323\n",
      "Epoch [67/100] Average Loss: 0.0008\n",
      "Batch Loss: 0.4945\n",
      "Batch Loss: 0.5789\n",
      "Batch Loss: 0.6764\n",
      "Batch Loss: 0.7958\n",
      "Batch Loss: 0.8620\n",
      "Batch Loss: 0.7104\n",
      "Epoch [68/100] Average Loss: 0.0008\n",
      "Batch Loss: 0.6302\n",
      "Batch Loss: 0.6008\n",
      "Batch Loss: 0.7373\n",
      "Batch Loss: 0.6471\n",
      "Batch Loss: 0.6944\n",
      "Batch Loss: 0.8354\n",
      "Epoch [69/100] Average Loss: 0.0008\n",
      "Batch Loss: 0.6174\n",
      "Batch Loss: 0.5742\n",
      "Batch Loss: 0.6626\n",
      "Batch Loss: 0.6983\n",
      "Batch Loss: 0.7506\n",
      "Batch Loss: 0.8141\n",
      "Epoch [70/100] Average Loss: 0.0008\n",
      "Batch Loss: 0.6271\n",
      "Batch Loss: 0.6876\n",
      "Batch Loss: 0.6865\n",
      "Batch Loss: 0.5804\n",
      "Batch Loss: 0.7222\n",
      "Batch Loss: 0.7960\n",
      "Epoch [71/100] Average Loss: 0.0008\n",
      "Batch Loss: 0.8584\n",
      "Batch Loss: 0.6098\n",
      "Batch Loss: 0.5835\n",
      "Batch Loss: 0.7486\n",
      "Batch Loss: 0.5922\n",
      "Batch Loss: 0.6440\n",
      "Epoch [72/100] Average Loss: 0.0008\n",
      "Batch Loss: 0.6540\n",
      "Batch Loss: 0.7951\n",
      "Batch Loss: 0.5692\n",
      "Batch Loss: 0.6031\n",
      "Batch Loss: 0.6852\n",
      "Batch Loss: 0.7514\n",
      "Epoch [73/100] Average Loss: 0.0008\n",
      "Batch Loss: 0.6194\n",
      "Batch Loss: 0.6167\n",
      "Batch Loss: 0.6225\n",
      "Batch Loss: 0.6606\n",
      "Batch Loss: 0.7537\n",
      "Batch Loss: 0.7873\n",
      "Epoch [74/100] Average Loss: 0.0008\n",
      "Batch Loss: 0.6754\n",
      "Batch Loss: 0.6623\n",
      "Batch Loss: 0.7542\n",
      "Batch Loss: 0.5897\n",
      "Batch Loss: 0.6808\n",
      "Batch Loss: 0.6084\n",
      "Epoch [75/100] Average Loss: 0.0008\n",
      "Batch Loss: 0.6736\n",
      "Batch Loss: 0.6390\n",
      "Batch Loss: 0.6926\n",
      "Batch Loss: 0.6785\n",
      "Batch Loss: 0.6662\n",
      "Batch Loss: 0.5836\n",
      "Epoch [76/100] Average Loss: 0.0008\n",
      "Batch Loss: 0.6783\n",
      "Batch Loss: 0.6683\n",
      "Batch Loss: 0.6871\n",
      "Batch Loss: 0.7536\n",
      "Batch Loss: 0.5852\n",
      "Batch Loss: 0.5051\n",
      "Epoch [77/100] Average Loss: 0.0007\n",
      "Batch Loss: 0.7410\n",
      "Batch Loss: 0.6011\n",
      "Batch Loss: 0.5436\n",
      "Batch Loss: 0.6857\n",
      "Batch Loss: 0.6754\n",
      "Batch Loss: 0.7192\n",
      "Epoch [78/100] Average Loss: 0.0008\n",
      "Batch Loss: 0.6700\n",
      "Batch Loss: 0.7065\n",
      "Batch Loss: 0.6719\n",
      "Batch Loss: 0.6441\n",
      "Batch Loss: 0.5461\n",
      "Batch Loss: 0.7231\n",
      "Epoch [79/100] Average Loss: 0.0008\n",
      "Batch Loss: 0.6652\n",
      "Batch Loss: 0.6524\n",
      "Batch Loss: 0.6092\n",
      "Batch Loss: 0.6216\n",
      "Batch Loss: 0.6431\n",
      "Batch Loss: 0.7797\n",
      "Epoch [80/100] Average Loss: 0.0008\n",
      "Batch Loss: 0.5441\n",
      "Batch Loss: 0.7220\n",
      "Batch Loss: 0.5683\n",
      "Batch Loss: 0.6462\n",
      "Batch Loss: 0.6596\n",
      "Batch Loss: 0.8259\n",
      "Epoch [81/100] Average Loss: 0.0008\n",
      "Batch Loss: 0.6881\n",
      "Batch Loss: 0.5172\n",
      "Batch Loss: 0.7439\n",
      "Batch Loss: 0.6551\n",
      "Batch Loss: 0.6256\n",
      "Batch Loss: 0.6614\n",
      "Epoch [82/100] Average Loss: 0.0008\n",
      "Batch Loss: 0.5847\n",
      "Batch Loss: 0.5418\n",
      "Batch Loss: 0.7346\n",
      "Batch Loss: 0.7815\n",
      "Batch Loss: 0.6149\n",
      "Batch Loss: 0.5764\n",
      "Epoch [83/100] Average Loss: 0.0008\n",
      "Batch Loss: 0.6692\n",
      "Batch Loss: 0.6026\n",
      "Batch Loss: 0.7224\n",
      "Batch Loss: 0.6064\n",
      "Batch Loss: 0.6702\n",
      "Batch Loss: 0.5318\n",
      "Epoch [84/100] Average Loss: 0.0007\n",
      "Batch Loss: 0.5968\n",
      "Batch Loss: 0.7193\n",
      "Batch Loss: 0.7283\n",
      "Batch Loss: 0.6288\n",
      "Batch Loss: 0.5472\n",
      "Batch Loss: 0.5984\n",
      "Epoch [85/100] Average Loss: 0.0008\n"
     ]
    },
    {
     "name": "stderr",
     "output_type": "stream",
     "text": [
      "100%|██████████████████████████████████████| 100/100 [00:00<00:00, 423.10it/s]"
     ]
    },
    {
     "name": "stdout",
     "output_type": "stream",
     "text": [
      "Batch Loss: 0.7292\n",
      "Batch Loss: 0.6180\n",
      "Batch Loss: 0.5757\n",
      "Batch Loss: 0.5444\n",
      "Batch Loss: 0.7021\n",
      "Batch Loss: 0.6704\n",
      "Epoch [86/100] Average Loss: 0.0008\n",
      "Batch Loss: 0.6446\n",
      "Batch Loss: 0.6029\n",
      "Batch Loss: 0.6171\n",
      "Batch Loss: 0.6741\n",
      "Batch Loss: 0.6328\n",
      "Batch Loss: 0.6420\n",
      "Epoch [87/100] Average Loss: 0.0008\n",
      "Batch Loss: 0.5944\n",
      "Batch Loss: 0.5707\n",
      "Batch Loss: 0.6615\n",
      "Batch Loss: 0.6557\n",
      "Batch Loss: 0.6003\n",
      "Batch Loss: 0.7762\n",
      "Epoch [88/100] Average Loss: 0.0008\n",
      "Batch Loss: 0.5693\n",
      "Batch Loss: 0.6098\n",
      "Batch Loss: 0.6173\n",
      "Batch Loss: 0.5752\n",
      "Batch Loss: 0.6872\n",
      "Batch Loss: 0.7875\n",
      "Epoch [89/100] Average Loss: 0.0008\n",
      "Batch Loss: 0.5663\n",
      "Batch Loss: 0.5459\n",
      "Batch Loss: 0.6537\n",
      "Batch Loss: 0.6747\n",
      "Batch Loss: 0.5454\n",
      "Batch Loss: 0.9038\n",
      "Epoch [90/100] Average Loss: 0.0008\n",
      "Batch Loss: 0.6544\n",
      "Batch Loss: 0.6435\n",
      "Batch Loss: 0.6463\n",
      "Batch Loss: 0.5795\n",
      "Batch Loss: 0.5719\n",
      "Batch Loss: 0.6637\n",
      "Epoch [91/100] Average Loss: 0.0008\n",
      "Batch Loss: 0.6386\n",
      "Batch Loss: 0.5511\n",
      "Batch Loss: 0.6542\n",
      "Batch Loss: 0.7317\n",
      "Batch Loss: 0.4807\n",
      "Batch Loss: 0.7285\n",
      "Epoch [92/100] Average Loss: 0.0008\n",
      "Batch Loss: 0.6531\n",
      "Batch Loss: 0.5262\n",
      "Batch Loss: 0.6815\n",
      "Batch Loss: 0.6891\n",
      "Batch Loss: 0.5751\n",
      "Batch Loss: 0.5735\n",
      "Epoch [93/100] Average Loss: 0.0007\n",
      "Batch Loss: 0.6319\n",
      "Batch Loss: 0.7271\n",
      "Batch Loss: 0.5421\n",
      "Batch Loss: 0.5567\n",
      "Batch Loss: 0.6643\n",
      "Batch Loss: 0.5306\n",
      "Epoch [94/100] Average Loss: 0.0007\n",
      "Batch Loss: 0.5944\n",
      "Batch Loss: 0.5968\n",
      "Batch Loss: 0.6472\n",
      "Batch Loss: 0.6315\n",
      "Batch Loss: 0.5517\n",
      "Batch Loss: 0.7206\n",
      "Epoch [95/100] Average Loss: 0.0008\n",
      "Batch Loss: 0.7276\n",
      "Batch Loss: 0.4800\n",
      "Batch Loss: 0.6594\n",
      "Batch Loss: 0.6180\n",
      "Batch Loss: 0.5123\n",
      "Batch Loss: 0.7237\n",
      "Epoch [96/100] Average Loss: 0.0008\n",
      "Batch Loss: 0.6805\n",
      "Batch Loss: 0.6435\n",
      "Batch Loss: 0.4766\n",
      "Batch Loss: 0.5170\n",
      "Batch Loss: 0.6926\n",
      "Batch Loss: 0.6672\n",
      "Epoch [97/100] Average Loss: 0.0007\n",
      "Batch Loss: 0.6364\n",
      "Batch Loss: 0.5800\n",
      "Batch Loss: 0.6131\n",
      "Batch Loss: 0.6459\n",
      "Batch Loss: 0.6301\n",
      "Batch Loss: 0.4722\n",
      "Epoch [98/100] Average Loss: 0.0007\n",
      "Batch Loss: 0.5897\n",
      "Batch Loss: 0.6831\n",
      "Batch Loss: 0.6137\n",
      "Batch Loss: 0.5743\n",
      "Batch Loss: 0.5596\n",
      "Batch Loss: 0.5978\n",
      "Epoch [99/100] Average Loss: 0.0007\n",
      "Batch Loss: 0.5740\n",
      "Batch Loss: 0.5712\n",
      "Batch Loss: 0.5636\n",
      "Batch Loss: 0.6686\n",
      "Batch Loss: 0.5707\n",
      "Batch Loss: 0.7284\n",
      "Epoch [100/100] Average Loss: 0.0007\n"
     ]
    },
    {
     "name": "stderr",
     "output_type": "stream",
     "text": [
      "\n"
     ]
    }
   ],
   "source": [
    "from tqdm import tqdm\n",
    "\n",
    "num_epochs = 100\n",
    "for epoch in tqdm(range(num_epochs)):\n",
    "    model.train()\n",
    "    running_loss = 0.0\n",
    "    for batch_X, batch_y in dataloader:\n",
    "        optimizer.zero_grad()\n",
    "\n",
    "        outputs = model(batch_X)\n",
    "        loss = criterion(outputs, batch_y)\n",
    "\n",
    "        loss.backward()\n",
    "        optimizer.step()\n",
    "\n",
    "        print(f'Batch Loss: {loss.item():.4f}')\n",
    "        running_loss += loss.item() / batch_X.size(0)\n",
    "    epoch_loss = running_loss / len(data_loader.dataset)\n",
    "    print(f'Epoch [{epoch+1}/{num_epochs}] Average Loss: {epoch_loss:.4f}')"
   ]
  },
  {
   "cell_type": "markdown",
   "id": "3529e565-c7bf-4246-8a88-0aa70690ae8c",
   "metadata": {},
   "source": [
    "## LR scheduling"
   ]
  },
  {
   "cell_type": "code",
   "execution_count": 47,
   "id": "460ec98b-c6ce-4875-8cff-d74f08c5e107",
   "metadata": {},
   "outputs": [],
   "source": [
    "import torch.optim.lr_scheduler as lr_scheduler\n",
    "\n",
    "scheduler = lr_scheduler.ReduceLROnPlateau(optimizer, mode='min', factor=0.1, patience=10)"
   ]
  },
  {
   "cell_type": "code",
   "execution_count": 52,
   "id": "831d073e-eb95-47c8-a014-512c20980f35",
   "metadata": {},
   "outputs": [],
   "source": [
    "wine = load_wine()\n",
    "X = torch.tensor(wine.data, dtype=torch.float32)\n",
    "y = torch.tensor(wine.target, dtype=torch.long)\n",
    "\n",
    "X_train, X_valid, y_train, y_valid = train_test_split(X, y, test_size=0.2, random_state=42)\n",
    "\n",
    "model = nn.Sequential(\n",
    "    nn.Linear(13, 10),\n",
    "    nn.ReLU(),\n",
    "    nn.Linear(10, 10),\n",
    "    nn.ReLU(),\n",
    "    nn.Linear(10, 3)\n",
    ")\n",
    "\n",
    "criterion = nn.CrossEntropyLoss()\n",
    "optimizer = optim.Adam(model.parameters(), lr=0.1)"
   ]
  },
  {
   "cell_type": "code",
   "execution_count": 53,
   "id": "cee682d7-db18-4e34-b35b-e9c58b43532d",
   "metadata": {},
   "outputs": [
    {
     "name": "stdout",
     "output_type": "stream",
     "text": [
      "Epoch [10/100], LR: 0.100000\n",
      "Epoch [20/100], LR: 0.100000\n",
      "Epoch [30/100], LR: 0.100000\n",
      "Epoch [40/100], LR: 0.100000\n",
      "Epoch [50/100], LR: 0.100000\n",
      "Epoch [60/100], LR: 0.100000\n",
      "Epoch [70/100], LR: 0.100000\n",
      "Epoch [80/100], LR: 0.100000\n",
      "Epoch [90/100], LR: 0.100000\n",
      "Epoch [100/100], LR: 0.100000\n"
     ]
    }
   ],
   "source": [
    "\n",
    "num_epochs = 100\n",
    "for epoch in range(num_epochs):\n",
    "    model.train()\n",
    "    optimizer.zero_grad()\n",
    "\n",
    "    outputs = model(X_train)\n",
    "    loss = criterion(outputs, y_train)\n",
    "    \n",
    "    loss.backward()\n",
    "    optimizer.step()\n",
    "\n",
    "    model.eval()\n",
    "    with torch.no_grad():\n",
    "        val_outputs = model(X_valid)\n",
    "        val_loss = criterion(val_outputs, y_valid)\n",
    "    \n",
    "    scheduler.step(val_loss)  # Update learning rate based on validation loss\n",
    "\n",
    "    if (epoch + 1) % 10 == 0:\n",
    "        lr = optimizer.param_groups[0][\"lr\"]\n",
    "        print(f'Epoch [{epoch + 1}/{num_epochs}], LR: {lr:.6f}')"
   ]
  },
  {
   "cell_type": "markdown",
   "id": "21f7d06d-a94b-4411-91e7-f963a5056aa7",
   "metadata": {},
   "source": [
    "## Regularization"
   ]
  },
  {
   "cell_type": "code",
   "execution_count": 55,
   "id": "c614f91e-b738-4620-b6ef-7328d530b512",
   "metadata": {},
   "outputs": [
    {
     "data": {
      "text/plain": [
       "Sequential(\n",
       "  (0): Linear(in_features=13, out_features=10, bias=True)\n",
       "  (1): ReLU()\n",
       "  (2): Dropout(p=0.2, inplace=False)\n",
       "  (3): Linear(in_features=10, out_features=10, bias=True)\n",
       "  (4): ReLU()\n",
       "  (5): Dropout(p=0.1, inplace=False)\n",
       "  (6): Linear(in_features=10, out_features=3, bias=True)\n",
       ")"
      ]
     },
     "execution_count": 55,
     "metadata": {},
     "output_type": "execute_result"
    }
   ],
   "source": [
    "model = nn.Sequential(\n",
    "    nn.Linear(13, 10),\n",
    "    nn.ReLU(),\n",
    "    nn.Dropout(0.2),  # Dropout applied to the previous layer\n",
    "    nn.Linear(10, 10),\n",
    "    nn.ReLU(),\n",
    "    nn.Dropout(0.1),  # Dropout applied to the previous layer\n",
    "    nn.Linear(10, 3)\n",
    ")\n",
    "model"
   ]
  },
  {
   "cell_type": "code",
   "execution_count": 56,
   "id": "11a37e61-5604-4cf9-9c8a-be7e7cffadff",
   "metadata": {},
   "outputs": [
    {
     "name": "stdout",
     "output_type": "stream",
     "text": [
      "10 - L2 norm of weights: 1.837329387664795\n",
      "20 - L2 norm of weights: 1.8324941396713257\n",
      "30 - L2 norm of weights: 1.8278034925460815\n",
      "40 - L2 norm of weights: 1.8236353397369385\n",
      "50 - L2 norm of weights: 1.821237564086914\n",
      "\n",
      "Regularization added to optimizer\n",
      "\n",
      "60 - L2 norm of weights: 1.7683608531951904\n",
      "70 - L2 norm of weights: 1.7140944004058838\n",
      "80 - L2 norm of weights: 1.6664844751358032\n",
      "90 - L2 norm of weights: 1.6247011423110962\n",
      "100 - L2 norm of weights: 1.58663010597229\n"
     ]
    }
   ],
   "source": [
    "criterion = nn.CrossEntropyLoss()\n",
    "optimizer = optim.Adam(model.parameters(), lr=0.001) \n",
    "\n",
    "for i in range(100):\n",
    "    model.train()\n",
    "\n",
    "    optimizer.zero_grad()\n",
    "\n",
    "    outputs = model(X)\n",
    "    loss = criterion(outputs, y)\n",
    "\n",
    "    loss.backward()\n",
    "\n",
    "    if(i==50):\n",
    "        # Introducing weight decay from 50th epoch on\n",
    "        optimizer = optim.Adam(model.parameters(), lr=0.001, weight_decay=0.01) \n",
    "        print(\"\\nRegularization added to optimizer\\n\")\n",
    "    if (i+1) % 10 ==0:    \n",
    "        # L2 norm of weights of the first linear layer \n",
    "        first_layer_weights = model[0].weight.norm(2).item()\n",
    "        print(f'{i+1} - L2 norm of weights: {first_layer_weights}')\n",
    "\n",
    "    optimizer.step()"
   ]
  },
  {
   "cell_type": "code",
   "execution_count": null,
   "id": "e903b65b-7938-4f0e-b812-97bfed1d503c",
   "metadata": {},
   "outputs": [],
   "source": []
  }
 ],
 "metadata": {
  "kernelspec": {
   "display_name": "Python 3 (ipykernel)",
   "language": "python",
   "name": "python3"
  },
  "language_info": {
   "codemirror_mode": {
    "name": "ipython",
    "version": 3
   },
   "file_extension": ".py",
   "mimetype": "text/x-python",
   "name": "python",
   "nbconvert_exporter": "python",
   "pygments_lexer": "ipython3",
   "version": "3.12.7"
  }
 },
 "nbformat": 4,
 "nbformat_minor": 5
}
