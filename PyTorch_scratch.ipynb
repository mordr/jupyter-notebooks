{
 "cells": [
  {
   "cell_type": "markdown",
   "id": "02b0379b-1719-476c-9d10-7df1489e502d",
   "metadata": {},
   "source": [
    "# PyTorch scratchpad - back to basics"
   ]
  },
  {
   "cell_type": "code",
   "execution_count": 1,
   "id": "4da25106-a0c3-4cf7-a76c-3e7129276064",
   "metadata": {},
   "outputs": [],
   "source": [
    "import torch\n",
    "import torch.nn as nn\n",
    "import numpy as np"
   ]
  },
  {
   "cell_type": "code",
   "execution_count": 2,
   "id": "7d2d31a7-758c-4a83-bb5d-c6619486a462",
   "metadata": {},
   "outputs": [],
   "source": [
    "tensor_example = torch.tensor(np.array([[1,2,3],[4,5,6]]))"
   ]
  },
  {
   "cell_type": "code",
   "execution_count": 3,
   "id": "6c0b4181-3a0c-42d9-9240-28b383153c66",
   "metadata": {},
   "outputs": [
    {
     "name": "stdout",
     "output_type": "stream",
     "text": [
      "Shape of tensor: torch.Size([2, 3])\n",
      "Data type of tensor: torch.int64\n",
      "tensor([[1, 2, 3],\n",
      "        [4, 5, 6]])\n"
     ]
    }
   ],
   "source": [
    "print(f\"Shape of tensor: {tensor_example.shape}\")\n",
    "print(f\"Data type of tensor: {tensor_example.dtype}\")\n",
    "print(tensor_example)"
   ]
  },
  {
   "cell_type": "code",
   "execution_count": 4,
   "id": "8eab0627-d24b-4376-9974-54dac222adaf",
   "metadata": {},
   "outputs": [
    {
     "name": "stdout",
     "output_type": "stream",
     "text": [
      "Tensor Addition:\n",
      "tensor([[ 6,  8],\n",
      "        [10, 12]], dtype=torch.int32)\n"
     ]
    }
   ],
   "source": [
    "import torch\n",
    "\n",
    "# Creating two tensors\n",
    "tensor_a = torch.tensor([[1, 2], [3, 4]], dtype=torch.int32)\n",
    "tensor_b = torch.tensor([[5, 6], [7, 8]], dtype=torch.int32)\n",
    "\n",
    "# Tensor addition\n",
    "tensor_sum = torch.add(tensor_a, tensor_b)\n",
    "print(f\"Tensor Addition:\\n{tensor_sum}\")"
   ]
  },
  {
   "cell_type": "code",
   "execution_count": 5,
   "id": "84987a3b-bdf0-44b5-bef0-96571d428f5b",
   "metadata": {},
   "outputs": [
    {
     "name": "stdout",
     "output_type": "stream",
     "text": [
      "Element-wise Multiplication:\n",
      "tensor([[ 5, 12],\n",
      "        [21, 32]], dtype=torch.int32)\n",
      "Matrix Multiplication:\n",
      "tensor([[ 5],\n",
      "        [11]], dtype=torch.int32)\n"
     ]
    }
   ],
   "source": [
    "# Element-wise Multiplication\n",
    "tensor_product = torch.mul(tensor_a, tensor_b)\n",
    "print(f\"Element-wise Multiplication:\\n{tensor_product}\")\n",
    "\n",
    "# Matrix Multiplication\n",
    "tensor_c = torch.tensor([[1], [2]], dtype=torch.int32) # 2x1 tensor\n",
    "tensor_matmul = torch.matmul(tensor_a, tensor_c)\n",
    "print(f\"Matrix Multiplication:\\n{tensor_matmul}\")"
   ]
  },
  {
   "cell_type": "code",
   "execution_count": 6,
   "id": "98db20a9-f29e-4ae3-9c07-364174b4a26d",
   "metadata": {},
   "outputs": [],
   "source": [
    "tensor_add_scaler = tensor_a + 5"
   ]
  },
  {
   "cell_type": "code",
   "execution_count": 7,
   "id": "7312270a-fdc5-438f-9e45-a47f40b632e8",
   "metadata": {},
   "outputs": [
    {
     "name": "stdout",
     "output_type": "stream",
     "text": [
      "torch.Size([2, 2])\n",
      "torch.Size([2, 1])\n",
      "torch.Size([2, 2])\n"
     ]
    }
   ],
   "source": [
    "print(tensor_a.shape)\n",
    "print(tensor_c.shape)\n",
    "print((tensor_a + tensor_c).shape)"
   ]
  },
  {
   "cell_type": "code",
   "execution_count": 8,
   "id": "4c547403-aa40-4e52-ba7c-66850545233c",
   "metadata": {},
   "outputs": [
    {
     "name": "stdout",
     "output_type": "stream",
     "text": [
      "torch.Size([2, 2])\n",
      "torch.Size([2, 1])\n",
      "torch.Size([2, 2])\n"
     ]
    }
   ],
   "source": [
    "print(tensor_a.shape)\n",
    "print(tensor_c.shape)\n",
    "print((tensor_a * tensor_c).shape)"
   ]
  },
  {
   "cell_type": "code",
   "execution_count": 9,
   "id": "99e2c279-4b94-4de7-bc0d-fcfe50816851",
   "metadata": {},
   "outputs": [
    {
     "data": {
      "text/plain": [
       "tensor([[1, 2, 3],\n",
       "        [4, 5, 6]])"
      ]
     },
     "execution_count": 9,
     "metadata": {},
     "output_type": "execute_result"
    }
   ],
   "source": [
    "tensor_a = torch.tensor([[1, 2, 3], [4, 5, 6]])\n",
    "tensor_a"
   ]
  },
  {
   "cell_type": "code",
   "execution_count": 10,
   "id": "9d8484dc-cf45-4f64-846f-c033cad998b7",
   "metadata": {},
   "outputs": [
    {
     "data": {
      "text/plain": [
       "tensor([[1, 2],\n",
       "        [3, 4],\n",
       "        [5, 6]])"
      ]
     },
     "execution_count": 10,
     "metadata": {},
     "output_type": "execute_result"
    }
   ],
   "source": [
    "tensor_a.view(3, 2)"
   ]
  },
  {
   "cell_type": "code",
   "execution_count": 11,
   "id": "5e3d4f77-bb9a-4dd9-902c-33b714ea07d5",
   "metadata": {},
   "outputs": [
    {
     "data": {
      "text/plain": [
       "tensor([1, 2, 3, 4, 5, 6])"
      ]
     },
     "execution_count": 11,
     "metadata": {},
     "output_type": "execute_result"
    }
   ],
   "source": [
    "tensor_a.view(-1)"
   ]
  },
  {
   "cell_type": "markdown",
   "id": "c949414e-1890-405c-b9cc-f93566822b86",
   "metadata": {},
   "source": [
    "## Dataset basics"
   ]
  },
  {
   "cell_type": "code",
   "execution_count": 12,
   "id": "08bfec4e-8ff0-490a-811b-06fd5cc97526",
   "metadata": {},
   "outputs": [],
   "source": [
    "# Define a simple array as input data\n",
    "X = np.array([[1.0, 2.0], [2.0, 1.0], [3.0, 4.0], [4.0, 3.0]])\n",
    "# Define the target outputs for our dataset\n",
    "y = np.array([0, 1, 0, 1])"
   ]
  },
  {
   "cell_type": "code",
   "execution_count": 13,
   "id": "92ea7f85-bf3c-475c-a19d-dbb11708beaf",
   "metadata": {},
   "outputs": [],
   "source": [
    "X_tensor = torch.tensor(X)\n",
    "y_tensor = torch.tensor(y)"
   ]
  },
  {
   "cell_type": "code",
   "execution_count": 14,
   "id": "9b7e8cfb-bdf9-4e7c-b5a8-7697b927aeb9",
   "metadata": {},
   "outputs": [],
   "source": [
    "from torch.utils.data import TensorDataset\n",
    "\n",
    "dataset = TensorDataset(X_tensor, y_tensor)"
   ]
  },
  {
   "cell_type": "code",
   "execution_count": 15,
   "id": "ab53d4ee-45f4-4cc4-a4e3-7444d278bd57",
   "metadata": {},
   "outputs": [
    {
     "name": "stdout",
     "output_type": "stream",
     "text": [
      "X[0]: tensor([1., 2.], dtype=torch.float64), y[0]: 0\n",
      "X[1]: tensor([2., 1.], dtype=torch.float64), y[1]: 1\n",
      "X[2]: tensor([3., 4.], dtype=torch.float64), y[2]: 0\n",
      "X[3]: tensor([4., 3.], dtype=torch.float64), y[3]: 1\n"
     ]
    }
   ],
   "source": [
    "# Print x and y of the TensorDataset\n",
    "for i in range(len(dataset)):\n",
    "    X_sample, y_sample = dataset[i]\n",
    "    print(f\"X[{i}]: {X_sample}, y[{i}]: {y_sample}\")"
   ]
  },
  {
   "cell_type": "code",
   "execution_count": 16,
   "id": "8d263a76-61aa-4308-8ac9-ff7ceeef192f",
   "metadata": {},
   "outputs": [],
   "source": [
    "from torch.utils.data import DataLoader\n",
    "\n",
    "dataloader = DataLoader(dataset, batch_size=2, shuffle=True)"
   ]
  },
  {
   "cell_type": "code",
   "execution_count": 17,
   "id": "c252fed7-45c7-4bd6-a997-0d8af2d66925",
   "metadata": {},
   "outputs": [
    {
     "name": "stdout",
     "output_type": "stream",
     "text": [
      "Batch X:\n",
      "tensor([[1., 2.],\n",
      "        [2., 1.]], dtype=torch.float64)\n",
      "Batch y:\n",
      "tensor([0, 1])\n",
      "\n",
      "Batch X:\n",
      "tensor([[4., 3.],\n",
      "        [3., 4.]], dtype=torch.float64)\n",
      "Batch y:\n",
      "tensor([1, 0])\n",
      "\n"
     ]
    }
   ],
   "source": [
    "for batch_X, batch_y in dataloader:\n",
    "    print(f\"Batch X:\\n{batch_X}\")\n",
    "    print(f\"Batch y:\\n{batch_y}\\n\")"
   ]
  },
  {
   "cell_type": "markdown",
   "id": "4f337064-35ee-4ec2-8554-d70c0cb558b7",
   "metadata": {},
   "source": [
    "## NN in torch"
   ]
  },
  {
   "cell_type": "code",
   "execution_count": 18,
   "id": "a7311b6f-3981-49f9-b3f5-941718423366",
   "metadata": {},
   "outputs": [
    {
     "data": {
      "text/plain": [
       "tensor([[1.0013, 0.0000, 0.5583]], grad_fn=<ReluBackward0>)"
      ]
     },
     "execution_count": 18,
     "metadata": {},
     "output_type": "execute_result"
    }
   ],
   "source": [
    "import torch.nn as nn\n",
    "\n",
    "input_tensor = torch.tensor([[1.0, 2.0]], dtype=torch.float32)\n",
    "input_tensor.shape\n",
    "\n",
    "layer = nn.Linear(in_features=2, out_features=3)\n",
    "output_tensor = layer(input_tensor)\n",
    "relu = nn.ReLU()\n",
    "output = relu(output_tensor)\n",
    "\n",
    "output"
   ]
  },
  {
   "cell_type": "code",
   "execution_count": 19,
   "id": "9729a55b-51ad-40f4-a233-41ad701ab8e3",
   "metadata": {},
   "outputs": [
    {
     "data": {
      "text/plain": [
       "tensor([[0.7313, 0.1179, 0.6361]], grad_fn=<SigmoidBackward0>)"
      ]
     },
     "execution_count": 19,
     "metadata": {},
     "output_type": "execute_result"
    }
   ],
   "source": [
    "sigmoid = nn.Sigmoid()\n",
    "output = sigmoid(output_tensor)\n",
    "output"
   ]
  },
  {
   "cell_type": "code",
   "execution_count": 20,
   "id": "2403ddc4-d6b2-4258-adf5-c906e053c9c2",
   "metadata": {},
   "outputs": [],
   "source": [
    "class SimpleNN(nn.Module):\n",
    "    def __init__(self):\n",
    "        super().__init__()\n",
    "        self.layer1 = nn.Linear(in_features=2, out_features=10)\n",
    "        self.relu = nn.ReLU()\n",
    "        self.layer2 = nn.Linear(in_features=10, out_features=1)\n",
    "        self.sigmoid = nn.Sigmoid()\n",
    "\n",
    "    def forward(self, x):\n",
    "        x = self.layer1(x)\n",
    "        x = self.relu(x)\n",
    "        x = self.layer2(x)\n",
    "        x = self.sigmoid(x)\n",
    "        return x"
   ]
  },
  {
   "cell_type": "code",
   "execution_count": 21,
   "id": "76ca2cea-690f-4819-bc53-07f5361a160a",
   "metadata": {},
   "outputs": [
    {
     "name": "stdout",
     "output_type": "stream",
     "text": [
      "SimpleNN(\n",
      "  (layer1): Linear(in_features=2, out_features=10, bias=True)\n",
      "  (relu): ReLU()\n",
      "  (layer2): Linear(in_features=10, out_features=1, bias=True)\n",
      "  (sigmoid): Sigmoid()\n",
      ")\n"
     ]
    }
   ],
   "source": [
    "model_simple_nn = SimpleNN()\n",
    "print(model_simple_nn)"
   ]
  },
  {
   "cell_type": "code",
   "execution_count": 22,
   "id": "0f571eb2-3ae6-46b7-86d4-d184fd0dc819",
   "metadata": {},
   "outputs": [
    {
     "name": "stdout",
     "output_type": "stream",
     "text": [
      "Sequential(\n",
      "  (0): Linear(in_features=2, out_features=10, bias=True)\n",
      "  (1): ReLU()\n",
      "  (2): Linear(in_features=10, out_features=1, bias=True)\n",
      "  (3): Sigmoid()\n",
      ")\n"
     ]
    }
   ],
   "source": [
    "model = nn.Sequential(\n",
    "    nn.Linear(2, 10),\n",
    "    nn.ReLU(),\n",
    "    nn.Linear(10, 1),\n",
    "    nn.Sigmoid()\n",
    ")\n",
    "print(model)"
   ]
  },
  {
   "cell_type": "code",
   "execution_count": 23,
   "id": "85676550-15d5-4cfd-b009-e87bfed224fc",
   "metadata": {},
   "outputs": [
    {
     "name": "stdout",
     "output_type": "stream",
     "text": [
      "torch.Size([12, 2])\n",
      "torch.Size([12, 1])\n"
     ]
    }
   ],
   "source": [
    "# Input features [Average Goals Scored, Average Goals Conceded by Opponent]\n",
    "X = torch.tensor([\n",
    "    [3.0, 0.5], [1.0, 1.0], [0.5, 2.0], [2.0, 1.5],\n",
    "    [3.5, 3.0], [2.0, 2.5], [1.5, 1.0], [0.5, 0.5],\n",
    "    [2.5, 0.8], [2.1, 2.0], [1.2, 0.5], [0.7, 1.5]\n",
    "], dtype=torch.float32)\n",
    "\n",
    "# Target outputs [1 if the team is likely to win, 0 otherwise]\n",
    "y = torch.tensor([[1], [0], [0], [1], [1], [0], [1], [0], [1], [0], [1], [0]], dtype=torch.float32)\n",
    "\n",
    "print(X.shape)\n",
    "print(y.shape)"
   ]
  },
  {
   "cell_type": "code",
   "execution_count": 24,
   "id": "7fed3bb6-61a4-490d-aef6-3c7a5be07ff1",
   "metadata": {},
   "outputs": [
    {
     "name": "stderr",
     "output_type": "stream",
     "text": [
      "100%|█████████████████████████████████████| 500/500 [00:00<00:00, 4222.22it/s]"
     ]
    },
    {
     "name": "stdout",
     "output_type": "stream",
     "text": [
      "Epoch 100, Loss: 0.15303732454776764\n",
      "Epoch 200, Loss: 0.04358067736029625\n",
      "Epoch 300, Loss: 0.01743556186556816\n",
      "Epoch 400, Loss: 0.009052389301359653\n",
      "Epoch 500, Loss: 0.005511618684977293\n"
     ]
    },
    {
     "name": "stderr",
     "output_type": "stream",
     "text": [
      "\n"
     ]
    }
   ],
   "source": [
    "# Training basic model\n",
    "import torch.optim as optim\n",
    "from tqdm import tqdm\n",
    "\n",
    "model = nn.Sequential(\n",
    "    nn.Linear(2, 10),\n",
    "    nn.ReLU(),\n",
    "    nn.Linear(10, 1),\n",
    "    nn.Sigmoid()\n",
    ")\n",
    "\n",
    "criterion = nn.BCELoss()\n",
    "optimizer = optim.Adam(model.parameters(), lr=0.01)\n",
    "\n",
    "for epoch in tqdm(range(500)):\n",
    "    model.train()\n",
    "    optimizer.zero_grad()\n",
    "\n",
    "    output = model(X)\n",
    "    loss = criterion(output, y)\n",
    "\n",
    "    loss.backward()\n",
    "    optimizer.step()\n",
    "    \n",
    "    if (epoch+1) % 100 == 0:  # Print every 10 epochs\n",
    "        print(f\"Epoch {epoch+1}, Loss: {loss.item()}\")  # Print epoch loss\n"
   ]
  },
  {
   "cell_type": "code",
   "execution_count": 25,
   "id": "92070926-b0bf-4e04-b171-07964aae8c07",
   "metadata": {},
   "outputs": [
    {
     "name": "stdout",
     "output_type": "stream",
     "text": [
      "Prediction: 0\n"
     ]
    }
   ],
   "source": [
    "model.eval()\n",
    "\n",
    "new_input = torch.tensor([[4.0, 5.0]], dtype=torch.float32)\n",
    "\n",
    "with torch.no_grad():\n",
    "    prediction = model(new_input)\n",
    "\n",
    "print(\"Prediction:\", (prediction > 0.5).int().item())"
   ]
  },
  {
   "cell_type": "code",
   "execution_count": 26,
   "id": "1cd44848-15ef-46f4-9110-8f7cab88c6b2",
   "metadata": {},
   "outputs": [],
   "source": [
    "# Test Features\n",
    "X_test = torch.tensor([[2.5, 1.0], [0.8, 0.8], [1.0, 2.0], [3.0, 2.5]], dtype=torch.float32)\n",
    "# Test Targets\n",
    "y_test = torch.tensor([[1], [0], [0], [1]], dtype=torch.float32)"
   ]
  },
  {
   "cell_type": "code",
   "execution_count": 27,
   "id": "550193ab-6355-45d6-ae76-d8543fce9182",
   "metadata": {},
   "outputs": [
    {
     "name": "stdout",
     "output_type": "stream",
     "text": [
      "accuracy -> 1.0, test loss -> 0.0028517888858914375\n"
     ]
    }
   ],
   "source": [
    "from sklearn.metrics import accuracy_score\n",
    "\n",
    "model.eval()\n",
    "\n",
    "with torch.no_grad():\n",
    "    output = model(X_test)\n",
    "    predictions = (output > 0.5).int()\n",
    "    test_loss = criterion(output, y_test).item()\n",
    "    accuracy = accuracy_score(y_test.numpy(), predictions.numpy())\n",
    "print(f'accuracy -> {accuracy}, test loss -> {test_loss}')"
   ]
  },
  {
   "cell_type": "markdown",
   "id": "c17e4ed3-4766-4693-aad1-f310c90e27a1",
   "metadata": {},
   "source": [
    "## More modeling"
   ]
  },
  {
   "cell_type": "code",
   "execution_count": 28,
   "id": "2b9707c4-813a-4a63-98f3-9268e2487097",
   "metadata": {},
   "outputs": [
    {
     "name": "stdout",
     "output_type": "stream",
     "text": [
      "['alcohol', 'malic_acid', 'ash', 'alcalinity_of_ash', 'magnesium', 'total_phenols', 'flavanoids', 'nonflavanoid_phenols', 'proanthocyanins', 'color_intensity', 'hue', 'od280/od315_of_diluted_wines', 'proline']\n",
      "['class_0' 'class_1' 'class_2']\n"
     ]
    }
   ],
   "source": [
    "from sklearn.datasets import load_wine\n",
    "\n",
    "wine = load_wine()\n",
    "print(wine.feature_names)\n",
    "print(wine.target_names)"
   ]
  },
  {
   "cell_type": "code",
   "execution_count": 29,
   "id": "346c2c6d-860e-4a0f-be36-af8e980d4c0c",
   "metadata": {},
   "outputs": [
    {
     "name": "stdout",
     "output_type": "stream",
     "text": [
      "Shape of X_train: (124, 13)\n",
      "Shape of X_test: (54, 13)\n",
      "Shape of y_train: (124,)\n",
      "Shape of y_test: (54,)\n"
     ]
    }
   ],
   "source": [
    "from sklearn.model_selection import train_test_split\n",
    "\n",
    "X, y = wine.data, wine.target\n",
    "\n",
    "X_train, X_test, y_train, y_test = train_test_split(X, y, test_size=0.3, stratify=y)\n",
    "\n",
    "# Display the shapes of the resulting splits\n",
    "print(\"Shape of X_train:\", X_train.shape)\n",
    "print(\"Shape of X_test:\", X_test.shape)\n",
    "print(\"Shape of y_train:\", y_train.shape)\n",
    "print(\"Shape of y_test:\", y_test.shape)"
   ]
  },
  {
   "cell_type": "code",
   "execution_count": 30,
   "id": "99f1a872-9c86-401b-a381-58e6da050203",
   "metadata": {},
   "outputs": [],
   "source": [
    "from sklearn.preprocessing import StandardScaler\n",
    "\n",
    "scaler = StandardScaler().fit(X_train)\n",
    "\n",
    "X_train_scaled = scaler.transform(X_train)\n",
    "X_test_scaled = scaler.transform(X_test)"
   ]
  },
  {
   "cell_type": "code",
   "execution_count": 31,
   "id": "e8836053-006b-4d54-a1e5-07b3a72c5f10",
   "metadata": {},
   "outputs": [],
   "source": [
    "X_train_tensor = torch.tensor(X_train_scaled, dtype=torch.float32)\n",
    "X_test_tensor = torch.tensor(X_test_scaled, dtype=torch.float32)\n",
    "y_train_tensor = torch.tensor(y_train, dtype=torch.long)\n",
    "y_test_tensor = torch.tensor(y_test, dtype=torch.long)"
   ]
  },
  {
   "cell_type": "code",
   "execution_count": 32,
   "id": "9e2af0a8-68e5-487f-a445-01788a0d8085",
   "metadata": {},
   "outputs": [
    {
     "data": {
      "text/plain": [
       "Sequential(\n",
       "  (0): Linear(in_features=13, out_features=10, bias=True)\n",
       "  (1): ReLU()\n",
       "  (2): Linear(in_features=10, out_features=10, bias=True)\n",
       "  (3): ReLU()\n",
       "  (4): Linear(in_features=10, out_features=3, bias=True)\n",
       ")"
      ]
     },
     "execution_count": 32,
     "metadata": {},
     "output_type": "execute_result"
    }
   ],
   "source": [
    "model = nn.Sequential(\n",
    "    nn.Linear(13, 10),\n",
    "    nn.ReLU(),\n",
    "    nn.Linear(10, 10),\n",
    "    nn.ReLU(),\n",
    "    nn.Linear(10, 3)\n",
    ")\n",
    "model"
   ]
  },
  {
   "cell_type": "code",
   "execution_count": 33,
   "id": "a7bd8c5b-1424-4109-bdd7-4c8f487ab520",
   "metadata": {},
   "outputs": [
    {
     "name": "stderr",
     "output_type": "stream",
     "text": [
      "100%|█████████████████████████████████████| 150/150 [00:00<00:00, 2224.69it/s]"
     ]
    },
    {
     "name": "stdout",
     "output_type": "stream",
     "text": [
      "Epoch [10/150], Loss: 1.0581, Validation Loss: 1.0660\n",
      "Epoch [20/150], Loss: 1.0283, Validation Loss: 1.0395\n",
      "Epoch [30/150], Loss: 0.9949, Validation Loss: 1.0095\n",
      "Epoch [40/150], Loss: 0.9553, Validation Loss: 0.9739\n",
      "Epoch [50/150], Loss: 0.9077, Validation Loss: 0.9315\n",
      "Epoch [60/150], Loss: 0.8502, Validation Loss: 0.8798\n",
      "Epoch [70/150], Loss: 0.7837, Validation Loss: 0.8196\n",
      "Epoch [80/150], Loss: 0.7110, Validation Loss: 0.7529\n",
      "Epoch [90/150], Loss: 0.6367, Validation Loss: 0.6838\n",
      "Epoch [100/150], Loss: 0.5647, Validation Loss: 0.6150\n",
      "Epoch [110/150], Loss: 0.4979, Validation Loss: 0.5493\n",
      "Epoch [120/150], Loss: 0.4383, Validation Loss: 0.4898\n",
      "Epoch [130/150], Loss: 0.3867, Validation Loss: 0.4377\n",
      "Epoch [140/150], Loss: 0.3419, Validation Loss: 0.3922\n",
      "Epoch [150/150], Loss: 0.3028, Validation Loss: 0.3519\n"
     ]
    },
    {
     "name": "stderr",
     "output_type": "stream",
     "text": [
      "\n"
     ]
    }
   ],
   "source": [
    "import torch.optim as optim\n",
    "from tqdm import tqdm\n",
    "\n",
    "criterion = nn.CrossEntropyLoss()\n",
    "optimizer = optim.Adam(model.parameters(), lr=0.001)\n",
    "\n",
    "epochs, num_epochs = 150, 150\n",
    "history = {'loss': [], 'val_loss': []}\n",
    "for epoch in tqdm(range(epochs)):\n",
    "    model.train()\n",
    "    optimizer.zero_grad()\n",
    "\n",
    "    output = model(X_train_tensor)\n",
    "    loss = criterion(output, y_train_tensor)\n",
    "\n",
    "    loss.backward()\n",
    "    optimizer.step()\n",
    "\n",
    "    history['loss'].append(loss.item())\n",
    "    with torch.no_grad():\n",
    "        outputs_val = model(X_test_tensor)\n",
    "        val_loss = criterion(outputs_val, y_test_tensor)  \n",
    "        history['val_loss'].append(val_loss.item())\n",
    "\n",
    "    if (epoch+1) % 10 == 0:\n",
    "        print(f'Epoch [{epoch+1}/{num_epochs}], Loss: {loss.item():.4f}, Validation Loss: {val_loss.item():.4f}')\n"
   ]
  },
  {
   "cell_type": "code",
   "execution_count": 34,
   "id": "97f5ddd1-8701-4636-8cf9-49c509e7ff58",
   "metadata": {},
   "outputs": [
    {
     "data": {
      "image/png": "[encoded data removed]",
      "text/plain": [
       "<Figure size 800x500 with 1 Axes>"
      ]
     },
     "metadata": {},
     "output_type": "display_data"
    }
   ],
   "source": [
    "import matplotlib.pyplot as plt\n",
    "\n",
    "epochs = range(1, num_epochs + 1)\n",
    "train_loss = history['loss']\n",
    "val_loss = history['val_loss']\n",
    "\n",
    "plt.figure(figsize=(8, 5))\n",
    "plt.plot(epochs, train_loss, label='Training Loss')\n",
    "plt.plot(epochs, val_loss, label='Validation Loss')\n",
    "plt.title('Model Loss During Training')\n",
    "plt.ylabel('Loss')\n",
    "plt.xlabel('Epoch')\n",
    "plt.legend()\n",
    "plt.show()"
   ]
  },
  {
   "cell_type": "code",
   "execution_count": 35,
   "id": "3b8fc3ad-316a-4570-a4ca-2aa8231f8634",
   "metadata": {},
   "outputs": [],
   "source": [
    "# Save the entire model\n",
    "torch.save(model, 'wine_model.pth')"
   ]
  },
  {
   "cell_type": "code",
   "execution_count": 36,
   "id": "da1ff39a-f9be-42b0-972c-0388f1e33e3a",
   "metadata": {},
   "outputs": [
    {
     "name": "stderr",
     "output_type": "stream",
     "text": [
      "/var/folders/gq/vqns5pwd6kn4114tmrmys3vm0000gn/T/ipykernel_14214/797054402.py:2: FutureWarning: You are using `torch.load` with `weights_only=False` (the current default value), which uses the default pickle module implicitly. It is possible to construct malicious pickle data which will execute arbitrary code during unpickling (See https://github.com/pytorch/pytorch/blob/main/SECURITY.md#untrusted-models for more details). In a future release, the default value for `weights_only` will be flipped to `True`. This limits the functions that could be executed during unpickling. Arbitrary objects will no longer be allowed to be loaded via this mode unless they are explicitly allowlisted by the user via `torch.serialization.add_safe_globals`. We recommend you start setting `weights_only=True` for any use case where you don't have full control of the loaded file. Please open an issue on GitHub for any issues related to this experimental feature.\n",
      "  loaded_model = torch.load('wine_model.pth')\n"
     ]
    },
    {
     "data": {
      "text/plain": [
       "Sequential(\n",
       "  (0): Linear(in_features=13, out_features=10, bias=True)\n",
       "  (1): ReLU()\n",
       "  (2): Linear(in_features=10, out_features=10, bias=True)\n",
       "  (3): ReLU()\n",
       "  (4): Linear(in_features=10, out_features=3, bias=True)\n",
       ")"
      ]
     },
     "execution_count": 36,
     "metadata": {},
     "output_type": "execute_result"
    }
   ],
   "source": [
    "# Load the entire model\n",
    "loaded_model = torch.load('wine_model.pth')\n",
    "loaded_model.eval()"
   ]
  },
  {
   "cell_type": "code",
   "execution_count": 44,
   "id": "9c1daad5-1575-4b0b-861b-45e002537108",
   "metadata": {},
   "outputs": [
    {
     "name": "stdout",
     "output_type": "stream",
     "text": [
      "Original Model Accuracy: 0.9444\n",
      "Loaded Model Accuracy: 0.9444\n"
     ]
    }
   ],
   "source": [
    "from sklearn.metrics import accuracy_score \n",
    "\n",
    "with torch.no_grad():\n",
    "    model.eval()\n",
    "    original_outputs = model(X_test_tensor)\n",
    "    loaded_outputs = loaded_model(X_test_tensor)\n",
    "    _, orig_predicted = torch.max(original_outputs, 1)\n",
    "    _, loaded_predicted = torch.max(loaded_outputs, 1)\n",
    "    orig_accuracy = accuracy_score(y_test_tensor, orig_predicted)\n",
    "    predicted_accuracy = accuracy_score(y_test_tensor, loaded_predicted)\n",
    "\n",
    "print(f'Original Model Accuracy: {orig_accuracy:.4f}')\n",
    "print(f'Loaded Model Accuracy: {predicted_accuracy:.4f}')"
   ]
  },
  {
   "cell_type": "code",
   "execution_count": null,
   "id": "7f579dcd-4190-441c-bd69-fbbd5dff8e08",
   "metadata": {},
   "outputs": [],
   "source": []
  }
 ],
 "metadata": {
  "kernelspec": {
   "display_name": "Python 3 (ipykernel)",
   "language": "python",
   "name": "python3"
  },
  "language_info": {
   "codemirror_mode": {
    "name": "ipython",
    "version": 3
   },
   "file_extension": ".py",
   "mimetype": "text/x-python",
   "name": "python",
   "nbconvert_exporter": "python",
   "pygments_lexer": "ipython3",
   "version": "3.12.7"
  }
 },
 "nbformat": 4,
 "nbformat_minor": 5
}
