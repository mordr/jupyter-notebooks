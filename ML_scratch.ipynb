{
 "cells": [
  {
   "cell_type": "markdown",
   "id": "f5fb7998-b6f2-4f62-a5e9-63d9bf300451",
   "metadata": {},
   "source": [
    "# ML scratch - an attempt to try and remember the basics again"
   ]
  },
  {
   "cell_type": "code",
   "execution_count": 109,
   "id": "a5bfd3f4-36f4-4fc3-8ab1-760bd6fba551",
   "metadata": {},
   "outputs": [],
   "source": [
    "import numpy as np\n",
    "\n",
    "import matplotlib.pyplot as plt\n",
    "\n",
    "import random\n",
    "import math\n",
    "\n",
    "from scipy import stats\n",
    "\n",
    "from sklearn import datasets\n",
    "from sklearn.datasets import make_classification\n",
    "from sklearn.datasets import load_iris\n",
    "from sklearn.metrics import accuracy_score\n",
    "from sklearn.model_selection import train_test_split\n",
    "\n",
    "from sklearn.tree import DecisionTreeClassifier\n",
    "from sklearn.ensemble import RandomForestClassifier\n",
    "from sklearn.svm import SVC\n"
   ]
  },
  {
   "cell_type": "code",
   "execution_count": 33,
   "id": "39c93686-7ea9-4d69-9e21-e27af491b778",
   "metadata": {},
   "outputs": [],
   "source": [
    "# Linear regression problem\n",
    "X = np.array([0, 1, 2, 3, 4, 5]) \n",
    "Y = np.array([0, 1.1, 1.9, 3, 4.2, 5.2])  "
   ]
  },
  {
   "cell_type": "code",
   "execution_count": 34,
   "id": "5e706371-d64c-4954-a10e-0772e2c918f1",
   "metadata": {},
   "outputs": [],
   "source": [
    "m = np.random.randn()\n",
    "b = np.random.randn()\n",
    "\n",
    "learning_rate = 0.01\n",
    "epochs = 10000\n",
    "\n",
    "for _ in range(epochs):\n",
    "    random_idx = np.random.randint(len(X))\n",
    "    x = X[random_idx]\n",
    "    y = Y[random_idx]\n",
    "    pred = m * x + b\n",
    "    grad_m = (pred - y) * x\n",
    "    grad_b = (pred - y) \n",
    "    m -= learning_rate * grad_m\n",
    "    b -= learning_rate * grad_b\n",
    "    "
   ]
  },
  {
   "cell_type": "code",
   "execution_count": 35,
   "id": "68203d0d-6c34-47f8-8269-cdb56a11ddce",
   "metadata": {},
   "outputs": [
    {
     "data": {
      "image/png": "[encoded data removed]",
      "text/plain": [
       "<Figure size 640x480 with 1 Axes>"
      ]
     },
     "metadata": {},
     "output_type": "display_data"
    }
   ],
   "source": [
    "import matplotlib.pyplot as plt\n",
    "\n",
    "# Plot the data points\n",
    "plt.scatter(X, Y, color = \"m\", marker = \"o\", s = 30)\n",
    "\n",
    "# Predicted line for the model\n",
    "y_pred = m * X + b\n",
    "\n",
    "# Plotting the predicted line\n",
    "plt.plot(X, y_pred, color = \"g\")\n",
    "\n",
    "# Adding labels to the plot\n",
    "plt.xlabel('X')\n",
    "plt.ylabel('Y')\n",
    "\n",
    "plt.show()"
   ]
  },
  {
   "cell_type": "code",
   "execution_count": 36,
   "id": "300e39e2-2eac-491f-a351-efe4cc66d354",
   "metadata": {},
   "outputs": [],
   "source": [
    "def gradient_descent(X, y, learning_rate=0.01, batch_size=16, epochs=100):\n",
    "    m, n = X.shape\n",
    "    theta = np.random.randn(n, 1)\n",
    "\n",
    "    for epoch in range(epochs):\n",
    "        shuffled_idxs = np.random.permutation(m)\n",
    "        X_shuffled = X[shuffled_idxs]\n",
    "        y_shuffled = y[shuffled_idxs]\n",
    "\n",
    "        for i in range(0, m, batch_size):\n",
    "            xi = X_shuffled[i:i + batch_size]\n",
    "            yi = y_shuffled[i:i + batch_size]\n",
    "            gradients = 2 / batch_size * xi.T @ (xi @ theta - yi)\n",
    "            theta = theta - learning_rate * gradients\n",
    "    return theta"
   ]
  },
  {
   "cell_type": "code",
   "execution_count": 37,
   "id": "dcf16209-a847-46cf-9644-ee5ce78362b4",
   "metadata": {},
   "outputs": [
    {
     "name": "stdout",
     "output_type": "stream",
     "text": [
      "MAE: 0.9088785736164534\n"
     ]
    }
   ],
   "source": [
    "from sklearn.metrics import mean_absolute_error\n",
    "\n",
    "# Apply function to some data\n",
    "X = np.random.rand(100, 3)\n",
    "y = 5 * X[:, 0] - 3 * X[:, 1] + 2 * X[:, 2] + np.random.randn(100, 1)  # sample linear regression problem\n",
    "theta = gradient_descent(X, y)\n",
    "\n",
    "# Predict and calculate MAE\n",
    "predictions = X.dot(theta)\n",
    "mae = mean_absolute_error(y, predictions)\n",
    "print(f\"MAE: {mae}\")  # MAE: 1.0887166179544072"
   ]
  },
  {
   "cell_type": "markdown",
   "id": "5cd58ef3-ef8f-48f5-9db6-54bbcbd54b03",
   "metadata": {},
   "source": [
    "# SGD variants"
   ]
  },
  {
   "cell_type": "markdown",
   "id": "8c4f95fb-27e7-4395-b200-012adc7bec4c",
   "metadata": {},
   "source": [
    "## Momentum"
   ]
  },
  {
   "cell_type": "code",
   "execution_count": 38,
   "id": "6b0c09cb-6936-4bbc-a3f2-cf3800df0c80",
   "metadata": {},
   "outputs": [],
   "source": [
    "def func(x):\n",
    "    return x**2\n",
    "\n",
    "def grad_func(x):\n",
    "    return 2 * x\n",
    "\n",
    "gamma = 0.9\n",
    "learning_rate = 0.01\n",
    "v = 0\n",
    "epochs = 50\n",
    "\n",
    "theta_plain = 4.0\n",
    "theta_momentum = 4.0\n",
    "\n",
    "history_plain = []\n",
    "history_momentum = []\n",
    "\n",
    "for _ in range(epochs):\n",
    "    history_plain.append(theta_plain)\n",
    "    gradient = grad_func(theta_plain)\n",
    "    theta_plain -= learning_rate * gradient\n",
    "\n",
    "    history_momentum.append(theta_momentum)\n",
    "    gradient = grad_func(theta_momentum)\n",
    "    v = gamma * v + learning_rate * gradient\n",
    "    theta_momentum -= v"
   ]
  },
  {
   "cell_type": "code",
   "execution_count": 39,
   "id": "8348aaaa-796f-4be9-b4f7-7f0dce81ab73",
   "metadata": {},
   "outputs": [
    {
     "data": {
      "image/png": "[encoded data removed]",
      "text/plain": [
       "<Figure size 1200x700 with 1 Axes>"
      ]
     },
     "metadata": {},
     "output_type": "display_data"
    }
   ],
   "source": [
    "plt.figure(figsize=(12, 7))\n",
    "plt.plot([func(theta) for theta in history_plain], label='Gradient Descent')\n",
    "plt.plot([func(theta) for theta in history_momentum], label='Momentum-based Gradient Descent')\n",
    "plt.xlabel('Epoch')\n",
    "plt.ylabel('Cost')\n",
    "plt.legend()\n",
    "plt.grid()\n",
    "plt.show()"
   ]
  },
  {
   "cell_type": "markdown",
   "id": "78320e77-795a-4fe4-b93e-666dd060c05c",
   "metadata": {},
   "source": [
    "## RMSProp"
   ]
  },
  {
   "cell_type": "code",
   "execution_count": 40,
   "id": "ffefe925-f669-4c12-9dda-a44151a6d539",
   "metadata": {},
   "outputs": [],
   "source": [
    "def RMSProp(learning_rate, rho, epsilon, grad, s_prev):\n",
    "    s = rho * s_prev + (1 - rho) * np.power(grad, 2)\n",
    "    updates = learning_rate * (grad / (np.sqrt(s) + epsilon))\n",
    "    return updates, s"
   ]
  },
  {
   "cell_type": "code",
   "execution_count": 41,
   "id": "c1b53388-dd87-475f-9cf8-c7bd7d040739",
   "metadata": {},
   "outputs": [
    {
     "name": "stdout",
     "output_type": "stream",
     "text": [
      "Epoch 0, current -> [4.68377233 3.68377236]\n",
      "Epoch 20, current -> [2.3688824  1.47561697]\n",
      "Epoch 40, current -> [0.95903672 0.35004133]\n",
      "Epoch 60, current -> [0.13761293 0.00745214]\n",
      "Epoch 80, current -> [3.91649374e-04 3.12725069e-09]\n",
      "Epoch 100, current -> [-3.07701828e-17  2.18862195e-20]\n"
     ]
    }
   ],
   "source": [
    "def f(x, y):\n",
    "    return x**2 + y**2\n",
    "\n",
    "def df(x, y):\n",
    "    return np.array([2 * x, 2 * y])\n",
    "\n",
    "coordinates = np.array([5.0, 4.0])\n",
    "learning_rate = 0.1\n",
    "rho = 0.9\n",
    "epsilon = 1e-6\n",
    "max_epochs = 100\n",
    "\n",
    "s_prev = np.array([0, 0])\n",
    "\n",
    "for epoch in range(max_epochs + 1):\n",
    "    grad = df(coordinates[0], coordinates[1])\n",
    "    updates, s_prev = RMSProp(learning_rate, rho, epsilon, grad, s_prev)\n",
    "    coordinates -= updates\n",
    "    if epoch % 20 == 0:\n",
    "        print(f'Epoch {epoch}, current -> {coordinates}')\n",
    "\n",
    "    "
   ]
  },
  {
   "cell_type": "markdown",
   "id": "903fcd9f-7703-4bb7-afe1-add727d5c38c",
   "metadata": {},
   "source": [
    "## ADAM"
   ]
  },
  {
   "cell_type": "code",
   "execution_count": 42,
   "id": "f5327123-0818-480d-90f7-2b4d63a59386",
   "metadata": {},
   "outputs": [],
   "source": [
    "def ADAM(beta1, beta2, epsilon, grad, m_prev, v_prev, learning_rate):\n",
    "    m = beta1 * m_prev + (1 - beta1) * grad\n",
    "    v = beta2 * v_prev + (1 - beta2) * np.power(grad, 2)\n",
    "    updates = learning_rate * (m / (np.sqrt(v) + epsilon))\n",
    "    return updates, m, v"
   ]
  },
  {
   "cell_type": "code",
   "execution_count": 43,
   "id": "7b4e3ff4-5a40-4ed1-b9b1-3f2ef5823c07",
   "metadata": {},
   "outputs": [
    {
     "name": "stdout",
     "output_type": "stream",
     "text": [
      "Epoch 0, current state: [2.80000003 3.80000002]\n",
      "Epoch 30, current state: [ 0.27175946 -0.35494334]\n",
      "Epoch 60, current state: [-0.07373187 -0.06706317]\n",
      "Epoch 90, current state: [-0.02001478  0.0301726 ]\n",
      "Epoch 120, current state: [ 0.00082782 -0.0039881 ]\n",
      "Epoch 150, current state: [ 0.00094425 -0.00038352]\n"
     ]
    }
   ],
   "source": [
    "coordinates = np.array([3.0, 4.0])\n",
    "learning_rate = 0.02\n",
    "beta1 = 0.9\n",
    "beta2 = 0.9999\n",
    "epsilon = 1e-8\n",
    "max_epochs = 150\n",
    "\n",
    "m_prev = np.array([0, 0])\n",
    "v_prev = np.array([0, 0])\n",
    "\n",
    "for epoch in range(max_epochs + 1):\n",
    "    grad = df(coordinates[0], coordinates[1])\n",
    "    updates, m_prev, v_prev = ADAM(beta1, beta2, epsilon, grad, m_prev, v_prev, learning_rate)\n",
    "    coordinates -= updates\n",
    "    if epoch % 30 == 0:\n",
    "        print(f\"Epoch {epoch}, current state: {coordinates}\")\n"
   ]
  },
  {
   "cell_type": "markdown",
   "id": "8c2c0307-0311-45e9-aa49-d5589ac3af60",
   "metadata": {},
   "source": [
    "# Unsupervised Learning and Clustering"
   ]
  },
  {
   "cell_type": "markdown",
   "id": "bfe86c12-eb24-44fd-aba4-47605b2ddf58",
   "metadata": {},
   "source": [
    "## K-means basics"
   ]
  },
  {
   "cell_type": "code",
   "execution_count": 46,
   "id": "fd59edbd-b5c8-4af7-9d14-177bfca27ca1",
   "metadata": {},
   "outputs": [],
   "source": [
    "# Toy dataset with 2D points\n",
    "data = [(2,3), (5,3.4), (1.3,1), (3,4), (2,3.5), (7,5)]\n",
    "\n",
    "# k-Means settings\n",
    "k = 2  \n",
    "centers = random.sample(data, k)  "
   ]
  },
  {
   "cell_type": "code",
   "execution_count": 51,
   "id": "fd592190-5a8a-4a00-9d70-520113735be9",
   "metadata": {},
   "outputs": [],
   "source": [
    "def distance(point1, point2):\n",
    "    return math.sqrt(sum((x - y)**2 for x, y in zip(point1, point2)))"
   ]
  },
  {
   "cell_type": "code",
   "execution_count": 56,
   "id": "9370bab4-bfdd-4c43-9ad1-9a30fd235899",
   "metadata": {},
   "outputs": [],
   "source": [
    "def k_means(data, centers, k):\n",
    "    while True:\n",
    "        clusters = [ [] for _ in range(k) ]\n",
    "\n",
    "        for point in data:\n",
    "            distances = [distance(point, center) for center in centers]\n",
    "            idx = distances.index(min(distances))\n",
    "            clusters[idx].append(point)\n",
    "\n",
    "        new_centers = []\n",
    "        for cluster in clusters:\n",
    "            c = [ sum(l) / len(l) for l in zip(*cluster) ]\n",
    "            new_centers.append((c[0], c[1]))\n",
    "\n",
    "        centers_dist = [distance(new, old) for new, old in zip(new_centers, centers)]\n",
    "        if max(centers_dist) < 0.0001:\n",
    "            break\n",
    "        else:\n",
    "            centers = new_centers\n",
    "    return clusters, centers"
   ]
  },
  {
   "cell_type": "code",
   "execution_count": 57,
   "id": "6359b0ed-69ff-4009-ab19-bf1b89e50a63",
   "metadata": {},
   "outputs": [
    {
     "name": "stdout",
     "output_type": "stream",
     "text": [
      "Cluster1 center is : (6.0, 4.2)\n",
      "Cluster2 center is : (2.075, 2.875)\n",
      "Cluster1 points are : [(5, 3.4), (7, 5)]\n",
      "Cluster2 points are : [(2, 3), (1.3, 1), (3, 4), (2, 3.5)]\n"
     ]
    }
   ],
   "source": [
    "clusters, centers = k_means(data, centers, k)\n",
    "\n",
    "# Let's print the cluster centers\n",
    "for i, center in enumerate(centers):\n",
    "    print(f\"Cluster{i+1} center is : {center}\")\n",
    "# Cluster1 center is : (2.66, 2.98)\n",
    "# Cluster2 center is : (7.0, 5.0)\n",
    "\n",
    "# Let's print the clusters\n",
    "for i, cluster in enumerate(clusters):\n",
    "    print(f\"Cluster{i+1} points are : {cluster}\")\n",
    "# Cluster1 points are : [(2, 3), (5, 3.4), (1.3, 1), (3, 4), (2, 3.5)]\n",
    "# Cluster2 points are : [(7, 5)]"
   ]
  },
  {
   "cell_type": "code",
   "execution_count": 59,
   "id": "90020bb8-7dc6-43a3-877a-1d3b7714cbe6",
   "metadata": {},
   "outputs": [
    {
     "data": {
      "image/png": "[encoded data removed]",
      "text/plain": [
       "<Figure size 640x480 with 1 Axes>"
      ]
     },
     "metadata": {},
     "output_type": "display_data"
    }
   ],
   "source": [
    "import matplotlib.pyplot as plt\n",
    "\n",
    "colors = ['r', 'g', 'b', 'y', 'c', 'm']\n",
    "fig, ax = plt.subplots()\n",
    "\n",
    "# Plot points\n",
    "for i, cluster in enumerate(clusters):\n",
    "    for point in cluster:\n",
    "        ax.scatter(*point, color=colors[i])\n",
    "\n",
    "# Plot centers\n",
    "for i, center in enumerate(centers):\n",
    "    ax.scatter(*center, color='black', marker='x', s=300)\n",
    "\n",
    "ax.set_title('Clusters and their centers')\n",
    "plt.show()"
   ]
  },
  {
   "cell_type": "markdown",
   "id": "6e3eea4b-54ed-468d-a5bb-583081cecb10",
   "metadata": {},
   "source": [
    "## k-means mini batch"
   ]
  },
  {
   "cell_type": "code",
   "execution_count": 60,
   "id": "0624ccd1-37cc-4aab-a676-b5905a33f468",
   "metadata": {},
   "outputs": [],
   "source": [
    "import numpy as np\n",
    "import matplotlib.pyplot as plt\n",
    "\n",
    "np.random.seed(0)\n",
    "data = np.vstack([np.random.normal(loc=3, scale=1, size=(100,2)), np.random.normal(loc=-3, scale=1, size=(100,2))])\n",
    "\n",
    "def euclidean_distance(a, b):\n",
    "    return np.linalg.norm(a - b, axis=-1)\n",
    "\n",
    "def initialize_centers(data, k):\n",
    "    idx = np.random.choice(len(data), size=k)\n",
    "    return data[idx, :]"
   ]
  },
  {
   "cell_type": "code",
   "execution_count": 61,
   "id": "db9d0c98-9932-4354-b58c-205e97bc82d9",
   "metadata": {},
   "outputs": [],
   "source": [
    "def mini_batch_k_means(data, k, iterations=10, batch_size=20):\n",
    "    centers = initialize_centers(data, k)\n",
    "    for _ in range(iterations):\n",
    "        idx = np.random.choice(len(data), size=batch_size)\n",
    "        batch = data[idx, :]\n",
    "        dists = euclidean_distance(batch[:, None, :], centers[None, :, :]) # batch[batch_size, 1, num_features] and centers[1, num_centers, num_features]\n",
    "        # dists is (batch_size, num_centers)\n",
    "        labels = np.argmin(dists, axis=1)\n",
    "        for i in range(k):\n",
    "            if np.sum(labels == i) > 0:\n",
    "                centers[i] = np.mean(batch[labels == i], axis=0)\n",
    "    return centers\n",
    "\n",
    "centers = mini_batch_k_means(data, k=2)"
   ]
  },
  {
   "cell_type": "code",
   "execution_count": 62,
   "id": "a76fa358-3b6d-4212-8241-6c81e9527fcf",
   "metadata": {},
   "outputs": [
    {
     "data": {
      "image/png": "[encoded data removed]",
      "text/plain": [
       "<Figure size 640x480 with 1 Axes>"
      ]
     },
     "metadata": {},
     "output_type": "display_data"
    }
   ],
   "source": [
    "plt.scatter(data[:, 0], data[:, 1], s=50)\n",
    "plt.scatter(centers[:, 0], centers[:, 1], c='red', s=200, alpha=0.5)\n",
    "plt.show()"
   ]
  },
  {
   "cell_type": "markdown",
   "id": "e9a5ed70-3d5b-4899-bdc9-35655e9d9d9f",
   "metadata": {},
   "source": [
    "# Decision Trees"
   ]
  },
  {
   "cell_type": "markdown",
   "id": "90091107-891f-47bf-959f-22a16f917c23",
   "metadata": {},
   "source": [
    "## Bagging with DTs"
   ]
  },
  {
   "cell_type": "code",
   "execution_count": 83,
   "id": "3f0dd4de-a04f-4ebe-9524-64e0d1e4e111",
   "metadata": {},
   "outputs": [],
   "source": [
    "# Load the data\n",
    "iris = datasets.load_iris()\n",
    "X = iris.data\n",
    "y = iris.target\n",
    "\n",
    "# Split the data into train and test sets\n",
    "X_train, X_test, y_train, y_test = train_test_split(X, y, test_size=0.20, random_state=42)\n",
    "\n",
    "# Parameters\n",
    "n_models = 100\n",
    "random_states = [i for i in range(n_models)]"
   ]
  },
  {
   "cell_type": "code",
   "execution_count": 84,
   "id": "2a675c70-1a37-4c78-9398-e0e08215129f",
   "metadata": {},
   "outputs": [],
   "source": [
    "def bootstrapping(X, y):\n",
    "    n_samples = X.shape[0]\n",
    "    idxs = np.random.choice(n_samples, n_samples, replace=True)\n",
    "    return X[idxs], y[idxs]"
   ]
  },
  {
   "cell_type": "code",
   "execution_count": 85,
   "id": "ea1ef67b-0854-41a6-9dac-7ef0e9c4ad7a",
   "metadata": {},
   "outputs": [],
   "source": [
    "def predict(X, models):\n",
    "    predictions = np.array([model.predict(X) for model in models])\n",
    "    predictions = stats.mode(predictions)[0]\n",
    "    return predictions"
   ]
  },
  {
   "cell_type": "code",
   "execution_count": 86,
   "id": "a07a775e-eabf-4218-b231-67db5cb6ad96",
   "metadata": {},
   "outputs": [
    {
     "name": "stdout",
     "output_type": "stream",
     "text": [
      "Accuracy:  1.0\n"
     ]
    }
   ],
   "source": [
    "tree_models = []\n",
    "for i in range(n_models):\n",
    "    X_, y_ = bootstrapping(X_train, y_train)\n",
    "    tree = DecisionTreeClassifier(max_depth=2, random_state=random_states[i])\n",
    "    tree.fit(X_, y_)\n",
    "    tree_models.append(tree)\n",
    "\n",
    "y_pred = predict(X_test, tree_models)\n",
    "\n",
    "print(\"Accuracy: \", accuracy_score(y_test, y_pred))"
   ]
  },
  {
   "cell_type": "markdown",
   "id": "d01fc2f2-0ad7-4968-8efb-602988d52a0e",
   "metadata": {},
   "source": [
    "## Random forest"
   ]
  },
  {
   "cell_type": "code",
   "execution_count": 92,
   "id": "0b1b4240-c244-4602-8be6-1bf1c7aabbde",
   "metadata": {},
   "outputs": [],
   "source": [
    "class RandomForest:\n",
    "    def __init__(self, n_trees=100, max_depth=2, random_state=None):\n",
    "        self.n_trees = n_trees\n",
    "        self.max_depth = max_depth\n",
    "        self.random_states = np.random.RandomState(random_state).randint(0,10000,size=n_trees)\n",
    "        self.trees = []\n",
    "\n",
    "    def bootstrapping(self, X, y):\n",
    "        n_samples = X.shape[0]\n",
    "        idxs = np.random.choice(n_samples, n_samples, replace=True)\n",
    "        return X[idxs], y[idxs]\n",
    "\n",
    "    def fit(self, X, y):\n",
    "        for i in range(self.n_trees):\n",
    "            X_, y_ = self.bootstrapping(X, y)\n",
    "            tree = DecisionTreeClassifier(max_depth=self.max_depth, random_state=self.random_states[i])\n",
    "            tree.fit(X_, y_)\n",
    "            self.trees.append(tree)\n",
    "\n",
    "    def predict(self, X):\n",
    "        tree_preds = np.array([tree.predict(X) for tree in self.trees])\n",
    "        return stats.mode(tree_preds)[0]\n",
    "            "
   ]
  },
  {
   "cell_type": "code",
   "execution_count": 93,
   "id": "cdc6c369-2f65-42f5-bf30-49479ed8f285",
   "metadata": {},
   "outputs": [
    {
     "name": "stdout",
     "output_type": "stream",
     "text": [
      "Accuracy:  1.0\n"
     ]
    }
   ],
   "source": [
    "from sklearn import datasets\n",
    "from sklearn.model_selection import train_test_split\n",
    "\n",
    "iris = datasets.load_iris()\n",
    "X = iris.data\n",
    "y = iris.target\n",
    "X_train, X_test, y_train, y_test = train_test_split(X, y, test_size=0.20, random_state=42)\n",
    "\n",
    "rf = RandomForest(n_trees=100, max_depth=2, random_state=42)\n",
    "rf.fit(X_train, y_train)\n",
    "y_pred = rf.predict(X_test)\n",
    "\n",
    "print(\"Accuracy: \", accuracy_score(y_test, y_pred))"
   ]
  },
  {
   "cell_type": "markdown",
   "id": "4d05d878-94bb-4718-ad09-98392e90adda",
   "metadata": {},
   "source": [
    "## AdaBoost"
   ]
  },
  {
   "cell_type": "code",
   "execution_count": 101,
   "id": "180303a1-eff2-492d-89c4-725bb38d0c45",
   "metadata": {},
   "outputs": [],
   "source": [
    "class AdaBoost:\n",
    "    def __init__(self, num_learners=10, learning_rate=0.1):\n",
    "        self.num_learners = num_learners\n",
    "        self.learning_rate = learning_rate\n",
    "        self.models = []\n",
    "        self.model_weights = []\n",
    "\n",
    "    def fit(self, X, y):\n",
    "        M, N = X.shape\n",
    "        W = np.ones(M) / M\n",
    "        y = y * 2 - 1 # [-1, 1] range\n",
    "        for _ in range(self.num_learners):\n",
    "            tree = DecisionTreeClassifier(max_depth=1)\n",
    "            tree.fit(X, y, sample_weight=W)\n",
    "            pred = tree.predict(X)\n",
    "            error = W @ (pred != y)\n",
    "            if error > 0.5:\n",
    "                break\n",
    "            beta = self.learning_rate * np.log((1 - error) / error)\n",
    "            W = W * np.exp(beta * (pred != y))\n",
    "            W = W / W.sum()\n",
    "\n",
    "            self.models.append(tree)\n",
    "            self.model_weights.append(beta)\n",
    "\n",
    "    def predict(self, X):\n",
    "        Hx = sum(beta * h.predict(X) for h, beta in zip(self.models, self.model_weights))\n",
    "        return Hx > 0"
   ]
  },
  {
   "cell_type": "code",
   "execution_count": 102,
   "id": "d36dcc9a-db3a-42fc-8a27-fe0166146d3a",
   "metadata": {},
   "outputs": [],
   "source": [
    "data = make_classification(n_samples=1000)  # Creates a synthetic dataset\n",
    "X = data[0]\n",
    "y = data[1]\n",
    "\n",
    "# Split data into training and testing datasets\n",
    "X_train, X_test, y_train, y_test = train_test_split(X, y, test_size=0.2, random_state=42)\n",
    "\n",
    "ada = AdaBoost(num_learners=10, learning_rate=0.5)  # Initialize AdaBoost model\n",
    "ada.fit(X_train, y_train)  # Train the model"
   ]
  },
  {
   "cell_type": "code",
   "execution_count": 103,
   "id": "90c015fa-3f7c-4f0a-a1ec-9abbccb00d31",
   "metadata": {},
   "outputs": [
    {
     "name": "stdout",
     "output_type": "stream",
     "text": [
      "AdaBoost accuracy: 0.905\n"
     ]
    }
   ],
   "source": [
    "pred = ada.predict(X_test)\n",
    "print('AdaBoost accuracy:', accuracy_score(y_test, pred))  # Accuracy as correct predictions over total predictions"
   ]
  },
  {
   "cell_type": "markdown",
   "id": "824dcf3c-4994-461e-ada0-d11a260b143d",
   "metadata": {},
   "source": [
    "## Stacking ensemble"
   ]
  },
  {
   "cell_type": "code",
   "execution_count": 110,
   "id": "826638c2-d9bd-454f-94b1-76eb11493879",
   "metadata": {},
   "outputs": [],
   "source": [
    "iris = load_iris()\n",
    "X_train, X_holdout, y_train, y_holdout = train_test_split(iris.data, iris.target, test_size=0.2, random_state=42)\n",
    "X_train_base, X_train_meta, y_train_base, y_train_meta = train_test_split(X_train, y_train, test_size=0.5, random_state=42)\n",
    "base_models = [SVC(), DecisionTreeClassifier(), RandomForestClassifier()]"
   ]
  },
  {
   "cell_type": "code",
   "execution_count": 113,
   "id": "08e3ae79-1266-474b-b8c6-7593c1710443",
   "metadata": {},
   "outputs": [
    {
     "data": {
      "text/html": [
       "<style>#sk-container-id-1 {\n",
       "  /* Definition of color scheme common for light and dark mode */\n",
       "  --sklearn-color-text: #000;\n",
       "  --sklearn-color-text-muted: #666;\n",
       "  --sklearn-color-line: gray;\n",
       "  /* Definition of color scheme for unfitted estimators */\n",
       "  --sklearn-color-unfitted-level-0: #fff5e6;\n",
       "  --sklearn-color-unfitted-level-1: #f6e4d2;\n",
       "  --sklearn-color-unfitted-level-2: #ffe0b3;\n",
       "  --sklearn-color-unfitted-level-3: chocolate;\n",
       "  /* Definition of color scheme for fitted estimators */\n",
       "  --sklearn-color-fitted-level-0: #f0f8ff;\n",
       "  --sklearn-color-fitted-level-1: #d4ebff;\n",
       "  --sklearn-color-fitted-level-2: #b3dbfd;\n",
       "  --sklearn-color-fitted-level-3: cornflowerblue;\n",
       "\n",
       "  /* Specific color for light theme */\n",
       "  --sklearn-color-text-on-default-background: var(--sg-text-color, var(--theme-code-foreground, var(--jp-content-font-color1, black)));\n",
       "  --sklearn-color-background: var(--sg-background-color, var(--theme-background, var(--jp-layout-color0, white)));\n",
       "  --sklearn-color-border-box: var(--sg-text-color, var(--theme-code-foreground, var(--jp-content-font-color1, black)));\n",
       "  --sklearn-color-icon: #696969;\n",
       "\n",
       "  @media (prefers-color-scheme: dark) {\n",
       "    /* Redefinition of color scheme for dark theme */\n",
       "    --sklearn-color-text-on-default-background: var(--sg-text-color, var(--theme-code-foreground, var(--jp-content-font-color1, white)));\n",
       "    --sklearn-color-background: var(--sg-background-color, var(--theme-background, var(--jp-layout-color0, #111)));\n",
       "    --sklearn-color-border-box: var(--sg-text-color, var(--theme-code-foreground, var(--jp-content-font-color1, white)));\n",
       "    --sklearn-color-icon: #878787;\n",
       "  }\n",
       "}\n",
       "\n",
       "#sk-container-id-1 {\n",
       "  color: var(--sklearn-color-text);\n",
       "}\n",
       "\n",
       "#sk-container-id-1 pre {\n",
       "  padding: 0;\n",
       "}\n",
       "\n",
       "#sk-container-id-1 input.sk-hidden--visually {\n",
       "  border: 0;\n",
       "  clip: rect(1px 1px 1px 1px);\n",
       "  clip: rect(1px, 1px, 1px, 1px);\n",
       "  height: 1px;\n",
       "  margin: -1px;\n",
       "  overflow: hidden;\n",
       "  padding: 0;\n",
       "  position: absolute;\n",
       "  width: 1px;\n",
       "}\n",
       "\n",
       "#sk-container-id-1 div.sk-dashed-wrapped {\n",
       "  border: 1px dashed var(--sklearn-color-line);\n",
       "  margin: 0 0.4em 0.5em 0.4em;\n",
       "  box-sizing: border-box;\n",
       "  padding-bottom: 0.4em;\n",
       "  background-color: var(--sklearn-color-background);\n",
       "}\n",
       "\n",
       "#sk-container-id-1 div.sk-container {\n",
       "  /* jupyter's `normalize.less` sets `[hidden] { display: none; }`\n",
       "     but bootstrap.min.css set `[hidden] { display: none !important; }`\n",
       "     so we also need the `!important` here to be able to override the\n",
       "     default hidden behavior on the sphinx rendered scikit-learn.org.\n",
       "     See: https://github.com/scikit-learn/scikit-learn/issues/21755 */\n",
       "  display: inline-block !important;\n",
       "  position: relative;\n",
       "}\n",
       "\n",
       "#sk-container-id-1 div.sk-text-repr-fallback {\n",
       "  display: none;\n",
       "}\n",
       "\n",
       "div.sk-parallel-item,\n",
       "div.sk-serial,\n",
       "div.sk-item {\n",
       "  /* draw centered vertical line to link estimators */\n",
       "  background-image: linear-gradient(var(--sklearn-color-text-on-default-background), var(--sklearn-color-text-on-default-background));\n",
       "  background-size: 2px 100%;\n",
       "  background-repeat: no-repeat;\n",
       "  background-position: center center;\n",
       "}\n",
       "\n",
       "/* Parallel-specific style estimator block */\n",
       "\n",
       "#sk-container-id-1 div.sk-parallel-item::after {\n",
       "  content: \"\";\n",
       "  width: 100%;\n",
       "  border-bottom: 2px solid var(--sklearn-color-text-on-default-background);\n",
       "  flex-grow: 1;\n",
       "}\n",
       "\n",
       "#sk-container-id-1 div.sk-parallel {\n",
       "  display: flex;\n",
       "  align-items: stretch;\n",
       "  justify-content: center;\n",
       "  background-color: var(--sklearn-color-background);\n",
       "  position: relative;\n",
       "}\n",
       "\n",
       "#sk-container-id-1 div.sk-parallel-item {\n",
       "  display: flex;\n",
       "  flex-direction: column;\n",
       "}\n",
       "\n",
       "#sk-container-id-1 div.sk-parallel-item:first-child::after {\n",
       "  align-self: flex-end;\n",
       "  width: 50%;\n",
       "}\n",
       "\n",
       "#sk-container-id-1 div.sk-parallel-item:last-child::after {\n",
       "  align-self: flex-start;\n",
       "  width: 50%;\n",
       "}\n",
       "\n",
       "#sk-container-id-1 div.sk-parallel-item:only-child::after {\n",
       "  width: 0;\n",
       "}\n",
       "\n",
       "/* Serial-specific style estimator block */\n",
       "\n",
       "#sk-container-id-1 div.sk-serial {\n",
       "  display: flex;\n",
       "  flex-direction: column;\n",
       "  align-items: center;\n",
       "  background-color: var(--sklearn-color-background);\n",
       "  padding-right: 1em;\n",
       "  padding-left: 1em;\n",
       "}\n",
       "\n",
       "\n",
       "/* Toggleable style: style used for estimator/Pipeline/ColumnTransformer box that is\n",
       "clickable and can be expanded/collapsed.\n",
       "- Pipeline and ColumnTransformer use this feature and define the default style\n",
       "- Estimators will overwrite some part of the style using the `sk-estimator` class\n",
       "*/\n",
       "\n",
       "/* Pipeline and ColumnTransformer style (default) */\n",
       "\n",
       "#sk-container-id-1 div.sk-toggleable {\n",
       "  /* Default theme specific background. It is overwritten whether we have a\n",
       "  specific estimator or a Pipeline/ColumnTransformer */\n",
       "  background-color: var(--sklearn-color-background);\n",
       "}\n",
       "\n",
       "/* Toggleable label */\n",
       "#sk-container-id-1 label.sk-toggleable__label {\n",
       "  cursor: pointer;\n",
       "  display: flex;\n",
       "  width: 100%;\n",
       "  margin-bottom: 0;\n",
       "  padding: 0.5em;\n",
       "  box-sizing: border-box;\n",
       "  text-align: center;\n",
       "  align-items: start;\n",
       "  justify-content: space-between;\n",
       "  gap: 0.5em;\n",
       "}\n",
       "\n",
       "#sk-container-id-1 label.sk-toggleable__label .caption {\n",
       "  font-size: 0.6rem;\n",
       "  font-weight: lighter;\n",
       "  color: var(--sklearn-color-text-muted);\n",
       "}\n",
       "\n",
       "#sk-container-id-1 label.sk-toggleable__label-arrow:before {\n",
       "  /* Arrow on the left of the label */\n",
       "  content: \"▸\";\n",
       "  float: left;\n",
       "  margin-right: 0.25em;\n",
       "  color: var(--sklearn-color-icon);\n",
       "}\n",
       "\n",
       "#sk-container-id-1 label.sk-toggleable__label-arrow:hover:before {\n",
       "  color: var(--sklearn-color-text);\n",
       "}\n",
       "\n",
       "/* Toggleable content - dropdown */\n",
       "\n",
       "#sk-container-id-1 div.sk-toggleable__content {\n",
       "  max-height: 0;\n",
       "  max-width: 0;\n",
       "  overflow: hidden;\n",
       "  text-align: left;\n",
       "  /* unfitted */\n",
       "  background-color: var(--sklearn-color-unfitted-level-0);\n",
       "}\n",
       "\n",
       "#sk-container-id-1 div.sk-toggleable__content.fitted {\n",
       "  /* fitted */\n",
       "  background-color: var(--sklearn-color-fitted-level-0);\n",
       "}\n",
       "\n",
       "#sk-container-id-1 div.sk-toggleable__content pre {\n",
       "  margin: 0.2em;\n",
       "  border-radius: 0.25em;\n",
       "  color: var(--sklearn-color-text);\n",
       "  /* unfitted */\n",
       "  background-color: var(--sklearn-color-unfitted-level-0);\n",
       "}\n",
       "\n",
       "#sk-container-id-1 div.sk-toggleable__content.fitted pre {\n",
       "  /* unfitted */\n",
       "  background-color: var(--sklearn-color-fitted-level-0);\n",
       "}\n",
       "\n",
       "#sk-container-id-1 input.sk-toggleable__control:checked~div.sk-toggleable__content {\n",
       "  /* Expand drop-down */\n",
       "  max-height: 200px;\n",
       "  max-width: 100%;\n",
       "  overflow: auto;\n",
       "}\n",
       "\n",
       "#sk-container-id-1 input.sk-toggleable__control:checked~label.sk-toggleable__label-arrow:before {\n",
       "  content: \"▾\";\n",
       "}\n",
       "\n",
       "/* Pipeline/ColumnTransformer-specific style */\n",
       "\n",
       "#sk-container-id-1 div.sk-label input.sk-toggleable__control:checked~label.sk-toggleable__label {\n",
       "  color: var(--sklearn-color-text);\n",
       "  background-color: var(--sklearn-color-unfitted-level-2);\n",
       "}\n",
       "\n",
       "#sk-container-id-1 div.sk-label.fitted input.sk-toggleable__control:checked~label.sk-toggleable__label {\n",
       "  background-color: var(--sklearn-color-fitted-level-2);\n",
       "}\n",
       "\n",
       "/* Estimator-specific style */\n",
       "\n",
       "/* Colorize estimator box */\n",
       "#sk-container-id-1 div.sk-estimator input.sk-toggleable__control:checked~label.sk-toggleable__label {\n",
       "  /* unfitted */\n",
       "  background-color: var(--sklearn-color-unfitted-level-2);\n",
       "}\n",
       "\n",
       "#sk-container-id-1 div.sk-estimator.fitted input.sk-toggleable__control:checked~label.sk-toggleable__label {\n",
       "  /* fitted */\n",
       "  background-color: var(--sklearn-color-fitted-level-2);\n",
       "}\n",
       "\n",
       "#sk-container-id-1 div.sk-label label.sk-toggleable__label,\n",
       "#sk-container-id-1 div.sk-label label {\n",
       "  /* The background is the default theme color */\n",
       "  color: var(--sklearn-color-text-on-default-background);\n",
       "}\n",
       "\n",
       "/* On hover, darken the color of the background */\n",
       "#sk-container-id-1 div.sk-label:hover label.sk-toggleable__label {\n",
       "  color: var(--sklearn-color-text);\n",
       "  background-color: var(--sklearn-color-unfitted-level-2);\n",
       "}\n",
       "\n",
       "/* Label box, darken color on hover, fitted */\n",
       "#sk-container-id-1 div.sk-label.fitted:hover label.sk-toggleable__label.fitted {\n",
       "  color: var(--sklearn-color-text);\n",
       "  background-color: var(--sklearn-color-fitted-level-2);\n",
       "}\n",
       "\n",
       "/* Estimator label */\n",
       "\n",
       "#sk-container-id-1 div.sk-label label {\n",
       "  font-family: monospace;\n",
       "  font-weight: bold;\n",
       "  display: inline-block;\n",
       "  line-height: 1.2em;\n",
       "}\n",
       "\n",
       "#sk-container-id-1 div.sk-label-container {\n",
       "  text-align: center;\n",
       "}\n",
       "\n",
       "/* Estimator-specific */\n",
       "#sk-container-id-1 div.sk-estimator {\n",
       "  font-family: monospace;\n",
       "  border: 1px dotted var(--sklearn-color-border-box);\n",
       "  border-radius: 0.25em;\n",
       "  box-sizing: border-box;\n",
       "  margin-bottom: 0.5em;\n",
       "  /* unfitted */\n",
       "  background-color: var(--sklearn-color-unfitted-level-0);\n",
       "}\n",
       "\n",
       "#sk-container-id-1 div.sk-estimator.fitted {\n",
       "  /* fitted */\n",
       "  background-color: var(--sklearn-color-fitted-level-0);\n",
       "}\n",
       "\n",
       "/* on hover */\n",
       "#sk-container-id-1 div.sk-estimator:hover {\n",
       "  /* unfitted */\n",
       "  background-color: var(--sklearn-color-unfitted-level-2);\n",
       "}\n",
       "\n",
       "#sk-container-id-1 div.sk-estimator.fitted:hover {\n",
       "  /* fitted */\n",
       "  background-color: var(--sklearn-color-fitted-level-2);\n",
       "}\n",
       "\n",
       "/* Specification for estimator info (e.g. \"i\" and \"?\") */\n",
       "\n",
       "/* Common style for \"i\" and \"?\" */\n",
       "\n",
       ".sk-estimator-doc-link,\n",
       "a:link.sk-estimator-doc-link,\n",
       "a:visited.sk-estimator-doc-link {\n",
       "  float: right;\n",
       "  font-size: smaller;\n",
       "  line-height: 1em;\n",
       "  font-family: monospace;\n",
       "  background-color: var(--sklearn-color-background);\n",
       "  border-radius: 1em;\n",
       "  height: 1em;\n",
       "  width: 1em;\n",
       "  text-decoration: none !important;\n",
       "  margin-left: 0.5em;\n",
       "  text-align: center;\n",
       "  /* unfitted */\n",
       "  border: var(--sklearn-color-unfitted-level-1) 1pt solid;\n",
       "  color: var(--sklearn-color-unfitted-level-1);\n",
       "}\n",
       "\n",
       ".sk-estimator-doc-link.fitted,\n",
       "a:link.sk-estimator-doc-link.fitted,\n",
       "a:visited.sk-estimator-doc-link.fitted {\n",
       "  /* fitted */\n",
       "  border: var(--sklearn-color-fitted-level-1) 1pt solid;\n",
       "  color: var(--sklearn-color-fitted-level-1);\n",
       "}\n",
       "\n",
       "/* On hover */\n",
       "div.sk-estimator:hover .sk-estimator-doc-link:hover,\n",
       ".sk-estimator-doc-link:hover,\n",
       "div.sk-label-container:hover .sk-estimator-doc-link:hover,\n",
       ".sk-estimator-doc-link:hover {\n",
       "  /* unfitted */\n",
       "  background-color: var(--sklearn-color-unfitted-level-3);\n",
       "  color: var(--sklearn-color-background);\n",
       "  text-decoration: none;\n",
       "}\n",
       "\n",
       "div.sk-estimator.fitted:hover .sk-estimator-doc-link.fitted:hover,\n",
       ".sk-estimator-doc-link.fitted:hover,\n",
       "div.sk-label-container:hover .sk-estimator-doc-link.fitted:hover,\n",
       ".sk-estimator-doc-link.fitted:hover {\n",
       "  /* fitted */\n",
       "  background-color: var(--sklearn-color-fitted-level-3);\n",
       "  color: var(--sklearn-color-background);\n",
       "  text-decoration: none;\n",
       "}\n",
       "\n",
       "/* Span, style for the box shown on hovering the info icon */\n",
       ".sk-estimator-doc-link span {\n",
       "  display: none;\n",
       "  z-index: 9999;\n",
       "  position: relative;\n",
       "  font-weight: normal;\n",
       "  right: .2ex;\n",
       "  padding: .5ex;\n",
       "  margin: .5ex;\n",
       "  width: min-content;\n",
       "  min-width: 20ex;\n",
       "  max-width: 50ex;\n",
       "  color: var(--sklearn-color-text);\n",
       "  box-shadow: 2pt 2pt 4pt #999;\n",
       "  /* unfitted */\n",
       "  background: var(--sklearn-color-unfitted-level-0);\n",
       "  border: .5pt solid var(--sklearn-color-unfitted-level-3);\n",
       "}\n",
       "\n",
       ".sk-estimator-doc-link.fitted span {\n",
       "  /* fitted */\n",
       "  background: var(--sklearn-color-fitted-level-0);\n",
       "  border: var(--sklearn-color-fitted-level-3);\n",
       "}\n",
       "\n",
       ".sk-estimator-doc-link:hover span {\n",
       "  display: block;\n",
       "}\n",
       "\n",
       "/* \"?\"-specific style due to the `<a>` HTML tag */\n",
       "\n",
       "#sk-container-id-1 a.estimator_doc_link {\n",
       "  float: right;\n",
       "  font-size: 1rem;\n",
       "  line-height: 1em;\n",
       "  font-family: monospace;\n",
       "  background-color: var(--sklearn-color-background);\n",
       "  border-radius: 1rem;\n",
       "  height: 1rem;\n",
       "  width: 1rem;\n",
       "  text-decoration: none;\n",
       "  /* unfitted */\n",
       "  color: var(--sklearn-color-unfitted-level-1);\n",
       "  border: var(--sklearn-color-unfitted-level-1) 1pt solid;\n",
       "}\n",
       "\n",
       "#sk-container-id-1 a.estimator_doc_link.fitted {\n",
       "  /* fitted */\n",
       "  border: var(--sklearn-color-fitted-level-1) 1pt solid;\n",
       "  color: var(--sklearn-color-fitted-level-1);\n",
       "}\n",
       "\n",
       "/* On hover */\n",
       "#sk-container-id-1 a.estimator_doc_link:hover {\n",
       "  /* unfitted */\n",
       "  background-color: var(--sklearn-color-unfitted-level-3);\n",
       "  color: var(--sklearn-color-background);\n",
       "  text-decoration: none;\n",
       "}\n",
       "\n",
       "#sk-container-id-1 a.estimator_doc_link.fitted:hover {\n",
       "  /* fitted */\n",
       "  background-color: var(--sklearn-color-fitted-level-3);\n",
       "}\n",
       "</style><div id=\"sk-container-id-1\" class=\"sk-top-container\"><div class=\"sk-text-repr-fallback\"><pre>LogisticRegression()</pre><b>In a Jupyter environment, please rerun this cell to show the HTML representation or trust the notebook. <br />On GitHub, the HTML representation is unable to render, please try loading this page with nbviewer.org.</b></div><div class=\"sk-container\" hidden><div class=\"sk-item\"><div class=\"sk-estimator fitted sk-toggleable\"><input class=\"sk-toggleable__control sk-hidden--visually\" id=\"sk-estimator-id-1\" type=\"checkbox\" checked><label for=\"sk-estimator-id-1\" class=\"sk-toggleable__label fitted sk-toggleable__label-arrow\"><div><div>LogisticRegression</div></div><div><a class=\"sk-estimator-doc-link fitted\" rel=\"noreferrer\" target=\"_blank\" href=\"https://scikit-learn.org/1.6/modules/generated/sklearn.linear_model.LogisticRegression.html\">?<span>Documentation for LogisticRegression</span></a><span class=\"sk-estimator-doc-link fitted\">i<span>Fitted</span></span></div></label><div class=\"sk-toggleable__content fitted\"><pre>LogisticRegression()</pre></div> </div></div></div></div>"
      ],
      "text/plain": [
       "LogisticRegression()"
      ]
     },
     "execution_count": 113,
     "metadata": {},
     "output_type": "execute_result"
    }
   ],
   "source": [
    "from sklearn.linear_model import LogisticRegression\n",
    "\n",
    "base_model_preds = []\n",
    "for model in base_models:\n",
    "    model.fit(X_train_base, y_train_base)\n",
    "    pred = model.predict(X_train_meta)\n",
    "    base_model_preds.append(pred)\n",
    "\n",
    "stacking_dataset = np.column_stack(base_model_preds)\n",
    "meta_model = LogisticRegression()\n",
    "meta_model.fit(stacking_dataset, y_train_meta)"
   ]
  },
  {
   "cell_type": "code",
   "execution_count": 114,
   "id": "fb7c4798-1bf1-4675-adaf-efdce02667d2",
   "metadata": {},
   "outputs": [],
   "source": [
    "holdout_preds = []\n",
    "for model in base_models:\n",
    "    pred = model.predict(X_holdout)\n",
    "    holdout_preds.append(pred)\n",
    "\n",
    "stacking_holdout = np.column_stack(holdout_preds)\n",
    "meta_model_holdout_preds = meta_model.predict(stacking_holdout)"
   ]
  },
  {
   "cell_type": "code",
   "execution_count": 115,
   "id": "dcfbad35-a8ff-4c63-bd83-770f66180e3d",
   "metadata": {},
   "outputs": [
    {
     "name": "stdout",
     "output_type": "stream",
     "text": [
      "Accuracy: 96.67%\n"
     ]
    }
   ],
   "source": [
    "accuracy = accuracy_score(y_holdout, meta_model_holdout_preds)\n",
    "print(f'Accuracy: {accuracy*100:.2f}%')"
   ]
  },
  {
   "cell_type": "markdown",
   "id": "7c64bc3e-b7e4-4bbb-855f-854b1ad668dd",
   "metadata": {},
   "source": [
    "# Neural Networks"
   ]
  },
  {
   "cell_type": "markdown",
   "id": "73015ff2-605c-4129-bbde-aa6d46d6bf66",
   "metadata": {},
   "source": [
    "## Perceptron"
   ]
  },
  {
   "cell_type": "code",
   "execution_count": 119,
   "id": "7bcfa0aa-e3ab-4cec-81ce-e2bd8bdb1c3a",
   "metadata": {},
   "outputs": [],
   "source": [
    "class Perceptron:\n",
    "    def __init__(self, num_inputs, max_iterations=100, learning_rate=0.01):\n",
    "        self.max_iterations = max_iterations\n",
    "        self.learning_rate = learning_rate\n",
    "        self.weights = np.zeros(num_inputs + 1)\n",
    "\n",
    "    def predict(self, inputs):\n",
    "        summation = (inputs @ self.weights[1:]) + self.weights[0] \n",
    "        if summation > 0:\n",
    "            activation = 1\n",
    "        else:\n",
    "            activation = 0\n",
    "        return activation\n",
    "\n",
    "    def train(self, training_inputs, labels):\n",
    "        for _ in range(self.max_iterations):\n",
    "            for inputs, label in zip(training_inputs, labels):\n",
    "                prediction = self.predict(inputs)\n",
    "                self.weights[1:] += self.learning_rate * (label - prediction) * inputs\n",
    "                self.weights[0] += self.learning_rate * (label - prediction)"
   ]
  },
  {
   "cell_type": "code",
   "execution_count": 120,
   "id": "99e94ac9-44b8-40d9-9314-8966525f1218",
   "metadata": {},
   "outputs": [],
   "source": [
    "training_inputs = []\n",
    "training_inputs.append(np.array([1, 1]))\n",
    "training_inputs.append(np.array([1, 0]))\n",
    "training_inputs.append(np.array([0, 1]))\n",
    "training_inputs.append(np.array([0, 0]))\n",
    "labels = np.array([1, 0, 0, 0]) \n",
    "\n",
    "perceptron = Perceptron(2)\n",
    "perceptron.train(training_inputs, labels)"
   ]
  },
  {
   "cell_type": "code",
   "execution_count": 121,
   "id": "394b871a-31f9-42e4-9fb4-bf389dafcfaa",
   "metadata": {},
   "outputs": [
    {
     "name": "stdout",
     "output_type": "stream",
     "text": [
      "1\n",
      "0\n"
     ]
    }
   ],
   "source": [
    "inputs = np.array([1, 1])\n",
    "print(perceptron.predict(inputs))  # Output: 1\n",
    "\n",
    "inputs = np.array([0, 1])\n",
    "print(perceptron.predict(inputs))  # Output: 0"
   ]
  },
  {
   "cell_type": "markdown",
   "id": "31696011-ed19-4d84-b9ee-a84a5a070aea",
   "metadata": {},
   "source": [
    "## Activations"
   ]
  },
  {
   "cell_type": "code",
   "execution_count": 123,
   "id": "e445c038-af29-4944-887b-de80e273305f",
   "metadata": {},
   "outputs": [
    {
     "data": {
      "image/png": "[encoded data removed]",
      "text/plain": [
       "<Figure size 640x480 with 1 Axes>"
      ]
     },
     "metadata": {},
     "output_type": "display_data"
    }
   ],
   "source": [
    "def step_function(x):\n",
    "    return 1 if x >= 0 else 0\n",
    "\n",
    "import matplotlib.pyplot as plt\n",
    "import numpy as np\n",
    "\n",
    "x = np.linspace(-10, 10, 100)\n",
    "y = [step_function(i) for i in x]\n",
    "plt.plot(x, y)\n",
    "plt.show()"
   ]
  },
  {
   "cell_type": "code",
   "execution_count": 124,
   "id": "36fadfbf-f720-4e94-99c8-57f697e95f79",
   "metadata": {},
   "outputs": [
    {
     "data": {
      "image/png": "[encoded data removed]",
      "text/plain": [
       "<Figure size 640x480 with 1 Axes>"
      ]
     },
     "metadata": {},
     "output_type": "display_data"
    }
   ],
   "source": [
    "def sigmoid_function(x):\n",
    "    return 1 / (1 + np.exp(-x))\n",
    "\n",
    "y = [sigmoid_function(i) for i in x]\n",
    "plt.plot(x, y)\n",
    "plt.show()"
   ]
  },
  {
   "cell_type": "code",
   "execution_count": 125,
   "id": "5e864623-0384-4f38-8969-54d516884789",
   "metadata": {},
   "outputs": [
    {
     "data": {
      "image/png": "[encoded data removed]",
      "text/plain": [
       "<Figure size 640x480 with 1 Axes>"
      ]
     },
     "metadata": {},
     "output_type": "display_data"
    }
   ],
   "source": [
    "def relu_function(x):\n",
    "    return x if x > 0 else 0\n",
    "\n",
    "y = [relu_function(i) for i in x]\n",
    "plt.plot(x, y)\n",
    "plt.show()"
   ]
  },
  {
   "cell_type": "code",
   "execution_count": 126,
   "id": "056dc59a-5951-4353-bddb-3a24936f28d2",
   "metadata": {},
   "outputs": [
    {
     "data": {
      "image/png": "[encoded data removed]",
      "text/plain": [
       "<Figure size 640x480 with 1 Axes>"
      ]
     },
     "metadata": {},
     "output_type": "display_data"
    }
   ],
   "source": [
    "def tanh_function(x):\n",
    "    return (2 / (1 + np.exp(-2 * x))) - 1\n",
    "\n",
    "y = [tanh_function(i) for i in x]\n",
    "plt.plot(x, y)\n",
    "plt.show()"
   ]
  },
  {
   "cell_type": "code",
   "execution_count": 129,
   "id": "a61503fb-b5f8-4cd3-aacb-281a079bea59",
   "metadata": {},
   "outputs": [
    {
     "data": {
      "image/png": "[encoded data removed]",
      "text/plain": [
       "<Figure size 640x480 with 1 Axes>"
      ]
     },
     "metadata": {},
     "output_type": "display_data"
    }
   ],
   "source": [
    "def softplus_function(x):\n",
    "    return np.log(1 + np.exp(x))\n",
    "\n",
    "y = [softplus_function(i) for i in x]\n",
    "plt.plot(x, y)\n",
    "plt.show()"
   ]
  },
  {
   "cell_type": "markdown",
   "id": "3e47c291-9b14-4d81-a0da-9ff8eac4a933",
   "metadata": {},
   "source": [
    "## Backprop"
   ]
  },
  {
   "cell_type": "code",
   "execution_count": 130,
   "id": "0dacb554-9225-4d6c-ac2b-6a65ba513cc0",
   "metadata": {},
   "outputs": [],
   "source": [
    "def sigmoid(x):\n",
    "    return 1 / (1 + np.exp(-x))\n",
    "\n",
    "def sigmoid_derivative(x):\n",
    "    return x * (1.0 - x)\n",
    "\n"
   ]
  },
  {
   "cell_type": "code",
   "execution_count": 158,
   "id": "77261c37-33c4-450e-825b-72c89b286147",
   "metadata": {},
   "outputs": [],
   "source": [
    "class NeuralNetwork:\n",
    "    def __init__(self, x, y, learning_rate=0.1):\n",
    "        self.input = x\n",
    "        self.weights1 = np.random.rand(self.input.shape[1], 4) # (input_size, hidden_size)\n",
    "        self.weights2 = np.random.rand(4, 1) # (hidden_size, output_size)\n",
    "        self.y = y\n",
    "        self.output = np.zeros(self.y.shape)\n",
    "        self.learning_rate = learning_rate\n",
    "\n",
    "    def feedforward(self):\n",
    "        self.layer1 = sigmoid(self.input @ self.weights1)\n",
    "        self.output = sigmoid(self.layer1 @ self.weights2)\n",
    "\n",
    "    def backprop(self):\n",
    "        delta = 2 * (self.y - self.output) * sigmoid_derivative(self.output)\n",
    "        d_weights2 = self.layer1.T @ delta\n",
    "        d_weights1 = self.input.T @ (delta @ self.weights2.T * sigmoid_derivative(self.layer1))\n",
    "\n",
    "        self.weights1 += self.learning_rate * d_weights1\n",
    "        self.weights2 += self.learning_rate * d_weights2\n",
    "\n",
    "    def train(self, epochs):\n",
    "        for epoch in range(epochs):\n",
    "            self.feedforward()\n",
    "            self.backprop()\n",
    "\n",
    "    def predict(self, new_input):\n",
    "        layer1 = sigmoid(new_input @ self.weights1)\n",
    "        output = sigmoid(layer1 @ self.weights2)\n",
    "        return output"
   ]
  },
  {
   "cell_type": "code",
   "execution_count": 159,
   "id": "9c15bcf6-ec25-4204-8770-0f2e8fb6bf1a",
   "metadata": {},
   "outputs": [
    {
     "name": "stdout",
     "output_type": "stream",
     "text": [
      "\n",
      "Predictions:\n",
      "Input: [0 0 1] ---> Prediction: [[0.01979922]], Expected: [0]\n",
      "Input: [0 1 1] ---> Prediction: [[0.97083892]], Expected: [1]\n",
      "Input: [1 0 1] ---> Prediction: [[0.9652797]], Expected: [1]\n",
      "Input: [1 1 1] ---> Prediction: [[0.03593416]], Expected: [0]\n"
     ]
    }
   ],
   "source": [
    "X = np.array([[0, 0, 1],\n",
    "              [0, 1, 1],\n",
    "              [1, 0, 1],\n",
    "              [1, 1, 1]])\n",
    "Y = np.array([[0], [1], [1], [0]])\n",
    "nn = NeuralNetwork(X, Y)\n",
    "\n",
    "nn.train(10000)\n",
    "print(\"\\nPredictions:\")\n",
    "for i, x in enumerate(X):\n",
    "    print(f\"Input: {x} ---> Prediction: {nn.predict(np.array([x]))}, Expected: {Y[i]}\")"
   ]
  },
  {
   "cell_type": "code",
   "execution_count": null,
   "id": "52350da6-bb6e-48f9-b10b-fbff64e91e12",
   "metadata": {},
   "outputs": [],
   "source": []
  }
 ],
 "metadata": {
  "kernelspec": {
   "display_name": "Python 3 (ipykernel)",
   "language": "python",
   "name": "python3"
  },
  "language_info": {
   "codemirror_mode": {
    "name": "ipython",
    "version": 3
   },
   "file_extension": ".py",
   "mimetype": "text/x-python",
   "name": "python",
   "nbconvert_exporter": "python",
   "pygments_lexer": "ipython3",
   "version": "3.12.7"
  }
 },
 "nbformat": 4,
 "nbformat_minor": 5
}
