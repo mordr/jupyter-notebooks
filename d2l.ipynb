{
 "cells": [
  {
   "cell_type": "markdown",
   "id": "899508be-4f66-4939-99d2-f998d1a523d4",
   "metadata": {},
   "source": [
    "## Scratchpad to use for Dive into Deep Learning (D2L) book\n",
    "Using this as scratchpad to teach"
   ]
  },
  {
   "cell_type": "code",
   "execution_count": 65,
   "id": "497bcb80-2b7b-4f99-81d7-981373b373e4",
   "metadata": {},
   "outputs": [],
   "source": [
    "import torch\n",
    "from torch import nn\n",
    "from torch.nn import functional as F"
   ]
  },
  {
   "cell_type": "code",
   "execution_count": 2,
   "id": "b427c970-23a1-4693-9532-bb1b0dd95c72",
   "metadata": {},
   "outputs": [
    {
     "name": "stdout",
     "output_type": "stream",
     "text": [
      "tensor([1.], device='mps:0')\n"
     ]
    }
   ],
   "source": [
    "# Use apple silicon mps\n",
    "if torch.backends.mps.is_available():\n",
    "    mps_device = torch.device(\"mps\")\n",
    "    x = torch.ones(1, device=mps_device)\n",
    "    print (x)\n",
    "else:\n",
    "    print (\"MPS device not found.\")"
   ]
  },
  {
   "cell_type": "code",
   "execution_count": 3,
   "id": "51ccc70c-4af0-427d-a327-21923d054d0e",
   "metadata": {},
   "outputs": [
    {
     "name": "stdout",
     "output_type": "stream",
     "text": [
      "mps\n"
     ]
    }
   ],
   "source": [
    "device = mps_device\n",
    "print(device)"
   ]
  },
  {
   "cell_type": "markdown",
   "id": "2763b8a8-ca53-4d5f-9e2f-82e5931f5ddf",
   "metadata": {},
   "source": [
    "## Torch autograd - L2"
   ]
  },
  {
   "cell_type": "code",
   "execution_count": 7,
   "id": "0d6279d9-54d7-46e5-a75f-d01e85071138",
   "metadata": {},
   "outputs": [],
   "source": [
    "a = torch.tensor([2., 3], requires_grad=True)\n",
    "b = torch.tensor([6., 4], requires_grad=True)"
   ]
  },
  {
   "cell_type": "code",
   "execution_count": 8,
   "id": "0d693499-b621-45f7-9673-d155c8a9f766",
   "metadata": {},
   "outputs": [],
   "source": [
    "Q = 3*a**3 - b**2"
   ]
  },
  {
   "cell_type": "code",
   "execution_count": 9,
   "id": "0a422992-43d4-411a-8a0e-6ef1734869fc",
   "metadata": {},
   "outputs": [],
   "source": [
    "external_grad = torch.tensor([1., 1])\n",
    "Q.backward(gradient=external_grad)"
   ]
  },
  {
   "cell_type": "code",
   "execution_count": 10,
   "id": "215dffba-a0ac-4e0f-bb6f-a84687e3456e",
   "metadata": {},
   "outputs": [
    {
     "name": "stdout",
     "output_type": "stream",
     "text": [
      "tensor([36., 81.]) tensor([-12.,  -8.])\n"
     ]
    }
   ],
   "source": [
    "print(a.grad, b.grad)"
   ]
  },
  {
   "cell_type": "code",
   "execution_count": 19,
   "id": "d194a4a7-06a6-4b38-bc52-8ea535676d5a",
   "metadata": {},
   "outputs": [
    {
     "data": {
      "text/plain": [
       "tensor([0., 0.])"
      ]
     },
     "execution_count": 19,
     "metadata": {},
     "output_type": "execute_result"
    }
   ],
   "source": [
    "a.grad.zero_()\n",
    "b.grad.zero_()"
   ]
  },
  {
   "cell_type": "code",
   "execution_count": 23,
   "id": "9b4916b9-0c71-43a2-bb9e-1077ee35a8d0",
   "metadata": {},
   "outputs": [],
   "source": [
    "Q = 3*a**3 - b**2\n",
    "external_grad = torch.tensor([1., 0])\n",
    "Q.backward(gradient=external_grad) # J.T * v"
   ]
  },
  {
   "cell_type": "code",
   "execution_count": 24,
   "id": "2442145d-19f0-4c6a-9517-c8f30f30d05c",
   "metadata": {},
   "outputs": [
    {
     "name": "stdout",
     "output_type": "stream",
     "text": [
      "tensor([72.,  0.]) tensor([-24.,   0.])\n"
     ]
    }
   ],
   "source": [
    "print(a.grad, b.grad)"
   ]
  },
  {
   "cell_type": "markdown",
   "id": "259ed981-5bee-417a-aa41-cc4d36a663ff",
   "metadata": {},
   "source": [
    "## Building blocks - L3"
   ]
  },
  {
   "cell_type": "code",
   "execution_count": 30,
   "id": "b70c912d-d56c-4dd4-8d86-43255a4ecc51",
   "metadata": {},
   "outputs": [
    {
     "data": {
      "text/plain": [
       "(torch.Size([1000, 2]), torch.Size([1000, 1]))"
      ]
     },
     "execution_count": 30,
     "metadata": {},
     "output_type": "execute_result"
    }
   ],
   "source": [
    "from torch.utils import data\n",
    "\n",
    "def synthesize_data(w, b, num_examples):\n",
    "    X = torch.normal(0, 1, (num_examples, len(w)))\n",
    "    y = X @ w + b\n",
    "    y += torch.normal(0, 0.01, y.shape)\n",
    "    return X, y.reshape((-1, 1))\n",
    "\n",
    "true_w = torch.tensor([2., -3.4])\n",
    "true_b = 4.2\n",
    "features, labels = synthesize_data(true_w, true_b, 1000)\n",
    "features.shape, labels.shape"
   ]
  },
  {
   "cell_type": "code",
   "execution_count": 33,
   "id": "5678b92a-1611-46ad-98d5-9974745c9ae4",
   "metadata": {},
   "outputs": [],
   "source": [
    "def load_data(data_arrays, batch_size, is_train=True):\n",
    "    dataset = data.TensorDataset(*data_arrays)\n",
    "    return data.DataLoader(dataset, batch_size, shuffle=is_train)"
   ]
  },
  {
   "cell_type": "code",
   "execution_count": 34,
   "id": "d8cb874f-bc36-40a3-b318-b290e5b85f5f",
   "metadata": {},
   "outputs": [],
   "source": [
    "batch_size = 10\n",
    "data_iter = load_data((features, labels), batch_size)"
   ]
  },
  {
   "cell_type": "code",
   "execution_count": 42,
   "id": "73bd2b91-f56d-4848-a693-9414b7edea65",
   "metadata": {},
   "outputs": [
    {
     "data": {
      "text/plain": [
       "(Parameter containing:\n",
       " tensor([[-0.2316, -0.6634]], requires_grad=True),\n",
       " Parameter containing:\n",
       " tensor([0.6364], requires_grad=True))"
      ]
     },
     "execution_count": 42,
     "metadata": {},
     "output_type": "execute_result"
    }
   ],
   "source": [
    "from torch import nn\n",
    "\n",
    "net = nn.Sequential(\n",
    "    nn.Linear(2, 1)\n",
    ")\n",
    "net[0].weight, net[0].bias"
   ]
  },
  {
   "cell_type": "code",
   "execution_count": 50,
   "id": "1284d647-9ebd-4ae6-8fe2-8fa5bd420e3a",
   "metadata": {},
   "outputs": [
    {
     "data": {
      "text/plain": [
       "(Parameter containing:\n",
       " tensor([[ 0.0159, -0.0125]], requires_grad=True),\n",
       " Parameter containing:\n",
       " tensor([0.], requires_grad=True))"
      ]
     },
     "execution_count": 50,
     "metadata": {},
     "output_type": "execute_result"
    }
   ],
   "source": [
    "net[0].weight.data.normal_(0, 0.01)\n",
    "net[0].bias.data.fill_(0)\n",
    "net[0].weight, net[0].bias"
   ]
  },
  {
   "cell_type": "code",
   "execution_count": 55,
   "id": "6f55fc66-bb77-4bf8-92a9-11551bca714f",
   "metadata": {},
   "outputs": [],
   "source": [
    "loss = nn.MSELoss()\n",
    "optim = torch.optim.SGD(net.parameters(), lr=0.02)"
   ]
  },
  {
   "cell_type": "code",
   "execution_count": 56,
   "id": "281db6a8-39f0-44e2-9578-617ba28188d9",
   "metadata": {},
   "outputs": [
    {
     "name": "stdout",
     "output_type": "stream",
     "text": [
      "epoch -> 1 with loss -> 0.000100\n",
      "epoch -> 2 with loss -> 0.000100\n",
      "epoch -> 3 with loss -> 0.000100\n"
     ]
    }
   ],
   "source": [
    "num_epochs = 3\n",
    "for epoch in range(num_epochs):\n",
    "    for X, y in data_iter:\n",
    "        optim.zero_grad()\n",
    "        \n",
    "        l = loss(net(X), y)\n",
    "        l.backward()\n",
    "        optim.step()\n",
    "    l = loss(net(features), labels)\n",
    "    print(f'epoch -> {epoch + 1} with loss -> {l:f}')\n",
    "        "
   ]
  },
  {
   "cell_type": "code",
   "execution_count": 63,
   "id": "ff1b6e33-02dd-4c46-a964-595bb10513d0",
   "metadata": {},
   "outputs": [
    {
     "name": "stdout",
     "output_type": "stream",
     "text": [
      "tensor([0.0013, 0.0002])\n"
     ]
    }
   ],
   "source": [
    "w = net[0].weight.data\n",
    "print(abs(true_w - w.reshape(true_w.shape)))"
   ]
  },
  {
   "cell_type": "code",
   "execution_count": 64,
   "id": "b7737203-a4ce-4dc7-9ebd-bc3bf09a685d",
   "metadata": {},
   "outputs": [
    {
     "name": "stdout",
     "output_type": "stream",
     "text": [
      "tensor([0.0004])\n"
     ]
    }
   ],
   "source": [
    "b = net[0].bias.data\n",
    "print(abs(true_b - b))"
   ]
  },
  {
   "cell_type": "code",
   "execution_count": null,
   "id": "00abc16e-ad38-4b7d-9817-558c7aea72f1",
   "metadata": {},
   "outputs": [],
   "source": []
  }
 ],
 "metadata": {
  "kernelspec": {
   "display_name": "Python 3 (ipykernel)",
   "language": "python",
   "name": "python3"
  },
  "language_info": {
   "codemirror_mode": {
    "name": "ipython",
    "version": 3
   },
   "file_extension": ".py",
   "mimetype": "text/x-python",
   "name": "python",
   "nbconvert_exporter": "python",
   "pygments_lexer": "ipython3",
   "version": "3.12.7"
  }
 },
 "nbformat": 4,
 "nbformat_minor": 5
}
