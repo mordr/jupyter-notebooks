{
 "cells": [
  {
   "cell_type": "markdown",
   "id": "899508be-4f66-4939-99d2-f998d1a523d4",
   "metadata": {},
   "source": [
    "## Scratchpad to use for Dive into Deep Learning (D2L) book"
   ]
  },
  {
   "cell_type": "code",
   "execution_count": 3,
   "id": "497bcb80-2b7b-4f99-81d7-981373b373e4",
   "metadata": {},
   "outputs": [],
   "source": [
    "import torch\n",
    "from torch import nn\n",
    "from torch.nn import functional as F"
   ]
  },
  {
   "cell_type": "code",
   "execution_count": null,
   "id": "b427c970-23a1-4693-9532-bb1b0dd95c72",
   "metadata": {},
   "outputs": [],
   "source": []
  }
 ],
 "metadata": {
  "kernelspec": {
   "display_name": "Python 3 (ipykernel)",
   "language": "python",
   "name": "python3"
  },
  "language_info": {
   "codemirror_mode": {
    "name": "ipython",
    "version": 3
   },
   "file_extension": ".py",
   "mimetype": "text/x-python",
   "name": "python",
   "nbconvert_exporter": "python",
   "pygments_lexer": "ipython3",
   "version": "3.12.7"
  }
 },
 "nbformat": 4,
 "nbformat_minor": 5
}
