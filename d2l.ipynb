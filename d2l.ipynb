{
 "cells": [
  {
   "cell_type": "markdown",
   "id": "899508be-4f66-4939-99d2-f998d1a523d4",
   "metadata": {},
   "source": [
    "## Scratchpad to use for Dive into Deep Learning (D2L) book\n",
    "Using this as scratchpad to teach"
   ]
  },
  {
   "cell_type": "code",
   "execution_count": 1,
   "id": "497bcb80-2b7b-4f99-81d7-981373b373e4",
   "metadata": {},
   "outputs": [],
   "source": [
    "import torch\n",
    "from torch import nn\n",
    "from torch.nn import functional as F"
   ]
  },
  {
   "cell_type": "code",
   "execution_count": 2,
   "id": "b427c970-23a1-4693-9532-bb1b0dd95c72",
   "metadata": {},
   "outputs": [
    {
     "name": "stdout",
     "output_type": "stream",
     "text": [
      "tensor([1.], device='mps:0')\n"
     ]
    }
   ],
   "source": [
    "# Use apple silicon mps\n",
    "if torch.backends.mps.is_available():\n",
    "    mps_device = torch.device(\"mps\")\n",
    "    x = torch.ones(1, device=mps_device)\n",
    "    print (x)\n",
    "else:\n",
    "    print (\"MPS device not found.\")"
   ]
  },
  {
   "cell_type": "code",
   "execution_count": 3,
   "id": "51ccc70c-4af0-427d-a327-21923d054d0e",
   "metadata": {},
   "outputs": [
    {
     "name": "stdout",
     "output_type": "stream",
     "text": [
      "mps\n"
     ]
    }
   ],
   "source": [
    "device = mps_device\n",
    "print(device)"
   ]
  },
  {
   "cell_type": "markdown",
   "id": "2763b8a8-ca53-4d5f-9e2f-82e5931f5ddf",
   "metadata": {},
   "source": [
    "## Torch autograd - L2"
   ]
  },
  {
   "cell_type": "code",
   "execution_count": 4,
   "id": "0d6279d9-54d7-46e5-a75f-d01e85071138",
   "metadata": {},
   "outputs": [],
   "source": [
    "a = torch.tensor([2., 3], requires_grad=True)\n",
    "b = torch.tensor([6., 4], requires_grad=True)"
   ]
  },
  {
   "cell_type": "code",
   "execution_count": 5,
   "id": "0d693499-b621-45f7-9673-d155c8a9f766",
   "metadata": {},
   "outputs": [],
   "source": [
    "Q = 3*a**3 - b**2"
   ]
  },
  {
   "cell_type": "code",
   "execution_count": 6,
   "id": "0a422992-43d4-411a-8a0e-6ef1734869fc",
   "metadata": {},
   "outputs": [],
   "source": [
    "external_grad = torch.tensor([1., 1])\n",
    "Q.backward(gradient=external_grad)"
   ]
  },
  {
   "cell_type": "code",
   "execution_count": 7,
   "id": "215dffba-a0ac-4e0f-bb6f-a84687e3456e",
   "metadata": {},
   "outputs": [
    {
     "name": "stdout",
     "output_type": "stream",
     "text": [
      "tensor([36., 81.]) tensor([-12.,  -8.])\n"
     ]
    }
   ],
   "source": [
    "print(a.grad, b.grad)"
   ]
  },
  {
   "cell_type": "code",
   "execution_count": 8,
   "id": "d194a4a7-06a6-4b38-bc52-8ea535676d5a",
   "metadata": {},
   "outputs": [
    {
     "data": {
      "text/plain": [
       "tensor([0., 0.])"
      ]
     },
     "execution_count": 8,
     "metadata": {},
     "output_type": "execute_result"
    }
   ],
   "source": [
    "a.grad.zero_()\n",
    "b.grad.zero_()"
   ]
  },
  {
   "cell_type": "code",
   "execution_count": 9,
   "id": "9b4916b9-0c71-43a2-bb9e-1077ee35a8d0",
   "metadata": {},
   "outputs": [],
   "source": [
    "Q = 3*a**3 - b**2\n",
    "external_grad = torch.tensor([1., 0])\n",
    "Q.backward(gradient=external_grad) # J.T * v"
   ]
  },
  {
   "cell_type": "code",
   "execution_count": 10,
   "id": "2442145d-19f0-4c6a-9517-c8f30f30d05c",
   "metadata": {},
   "outputs": [
    {
     "name": "stdout",
     "output_type": "stream",
     "text": [
      "tensor([36.,  0.]) tensor([-12.,   0.])\n"
     ]
    }
   ],
   "source": [
    "print(a.grad, b.grad)"
   ]
  },
  {
   "cell_type": "markdown",
   "id": "259ed981-5bee-417a-aa41-cc4d36a663ff",
   "metadata": {},
   "source": [
    "## Building blocks - L3"
   ]
  },
  {
   "cell_type": "code",
   "execution_count": 11,
   "id": "b70c912d-d56c-4dd4-8d86-43255a4ecc51",
   "metadata": {},
   "outputs": [
    {
     "data": {
      "text/plain": [
       "(torch.Size([1000, 2]), torch.Size([1000, 1]))"
      ]
     },
     "execution_count": 11,
     "metadata": {},
     "output_type": "execute_result"
    }
   ],
   "source": [
    "from torch.utils import data\n",
    "\n",
    "def synthesize_data(w, b, num_examples):\n",
    "    X = torch.normal(0, 1, (num_examples, len(w)))\n",
    "    y = X @ w + b\n",
    "    y += torch.normal(0, 0.01, y.shape)\n",
    "    return X, y.reshape((-1, 1))\n",
    "\n",
    "true_w = torch.tensor([2., -3.4])\n",
    "true_b = 4.2\n",
    "features, labels = synthesize_data(true_w, true_b, 1000)\n",
    "features.shape, labels.shape"
   ]
  },
  {
   "cell_type": "code",
   "execution_count": 12,
   "id": "5678b92a-1611-46ad-98d5-9974745c9ae4",
   "metadata": {},
   "outputs": [],
   "source": [
    "def load_data(data_arrays, batch_size, is_train=True):\n",
    "    dataset = data.TensorDataset(*data_arrays)\n",
    "    return data.DataLoader(dataset, batch_size, shuffle=is_train)"
   ]
  },
  {
   "cell_type": "code",
   "execution_count": 13,
   "id": "d8cb874f-bc36-40a3-b318-b290e5b85f5f",
   "metadata": {},
   "outputs": [],
   "source": [
    "batch_size = 10\n",
    "data_iter = load_data((features, labels), batch_size)"
   ]
  },
  {
   "cell_type": "code",
   "execution_count": 14,
   "id": "73bd2b91-f56d-4848-a693-9414b7edea65",
   "metadata": {},
   "outputs": [
    {
     "data": {
      "text/plain": [
       "(Parameter containing:\n",
       " tensor([[-0.1959, -0.5737]], requires_grad=True),\n",
       " Parameter containing:\n",
       " tensor([-0.3736], requires_grad=True))"
      ]
     },
     "execution_count": 14,
     "metadata": {},
     "output_type": "execute_result"
    }
   ],
   "source": [
    "from torch import nn\n",
    "\n",
    "net = nn.Sequential(\n",
    "    nn.Linear(2, 1)\n",
    ")\n",
    "net[0].weight, net[0].bias"
   ]
  },
  {
   "cell_type": "code",
   "execution_count": 15,
   "id": "1284d647-9ebd-4ae6-8fe2-8fa5bd420e3a",
   "metadata": {},
   "outputs": [
    {
     "data": {
      "text/plain": [
       "(Parameter containing:\n",
       " tensor([[-0.0063,  0.0041]], requires_grad=True),\n",
       " Parameter containing:\n",
       " tensor([0.], requires_grad=True))"
      ]
     },
     "execution_count": 15,
     "metadata": {},
     "output_type": "execute_result"
    }
   ],
   "source": [
    "net[0].weight.data.normal_(0, 0.01)\n",
    "net[0].bias.data.fill_(0)\n",
    "net[0].weight, net[0].bias"
   ]
  },
  {
   "cell_type": "code",
   "execution_count": 16,
   "id": "6f55fc66-bb77-4bf8-92a9-11551bca714f",
   "metadata": {},
   "outputs": [],
   "source": [
    "loss = nn.MSELoss()\n",
    "optim = torch.optim.SGD(net.parameters(), lr=0.02)"
   ]
  },
  {
   "cell_type": "code",
   "execution_count": 17,
   "id": "281db6a8-39f0-44e2-9578-617ba28188d9",
   "metadata": {},
   "outputs": [
    {
     "name": "stdout",
     "output_type": "stream",
     "text": [
      "epoch -> 1 with loss -> 0.009543\n",
      "epoch -> 2 with loss -> 0.000105\n",
      "epoch -> 3 with loss -> 0.000102\n"
     ]
    }
   ],
   "source": [
    "num_epochs = 3\n",
    "for epoch in range(num_epochs):\n",
    "    for X, y in data_iter:\n",
    "        optim.zero_grad()\n",
    "        \n",
    "        l = loss(net(X), y)\n",
    "        l.backward()\n",
    "        optim.step()\n",
    "    l = loss(net(features), labels)\n",
    "    print(f'epoch -> {epoch + 1} with loss -> {l:f}')\n",
    "        "
   ]
  },
  {
   "cell_type": "code",
   "execution_count": 18,
   "id": "ff1b6e33-02dd-4c46-a964-595bb10513d0",
   "metadata": {},
   "outputs": [
    {
     "name": "stdout",
     "output_type": "stream",
     "text": [
      "tensor([2.2531e-05, 1.6689e-05])\n"
     ]
    }
   ],
   "source": [
    "w = net[0].weight.data\n",
    "print(abs(true_w - w.reshape(true_w.shape)))"
   ]
  },
  {
   "cell_type": "code",
   "execution_count": 19,
   "id": "b7737203-a4ce-4dc7-9ebd-bc3bf09a685d",
   "metadata": {},
   "outputs": [
    {
     "name": "stdout",
     "output_type": "stream",
     "text": [
      "tensor([0.0001])\n"
     ]
    }
   ],
   "source": [
    "b = net[0].bias.data\n",
    "print(abs(true_b - b))"
   ]
  },
  {
   "cell_type": "markdown",
   "id": "26e45ffd-bc41-499b-9926-59f5afcef4b3",
   "metadata": {},
   "source": [
    "## L4"
   ]
  },
  {
   "cell_type": "code",
   "execution_count": 20,
   "id": "b38837d7-48e4-4944-8419-c1b3140b4d74",
   "metadata": {},
   "outputs": [
    {
     "data": {
      "text/plain": [
       "tensor([[0.7657],\n",
       "        [1.1250],\n",
       "        [0.9059]], grad_fn=<AddmmBackward0>)"
      ]
     },
     "execution_count": 20,
     "metadata": {},
     "output_type": "execute_result"
    }
   ],
   "source": [
    "net = nn.Sequential(\n",
    "    nn.Linear(2, 4),\n",
    "    nn.Linear(4, 1)\n",
    ")\n",
    "X = torch.rand(3, 2)\n",
    "net(X)"
   ]
  },
  {
   "cell_type": "code",
   "execution_count": 21,
   "id": "1ca12227-2067-4fa7-93b0-7171ecc05c05",
   "metadata": {},
   "outputs": [
    {
     "data": {
      "text/plain": [
       "OrderedDict([('weight',\n",
       "              tensor([[-0.6436,  0.2146],\n",
       "                      [ 0.6018,  0.2799],\n",
       "                      [-0.3443, -0.0851],\n",
       "                      [-0.6666,  0.6326]])),\n",
       "             ('bias', tensor([ 0.0278,  0.5734, -0.3558, -0.3736]))])"
      ]
     },
     "execution_count": 21,
     "metadata": {},
     "output_type": "execute_result"
    }
   ],
   "source": [
    "net[0].state_dict()"
   ]
  },
  {
   "cell_type": "code",
   "execution_count": 22,
   "id": "12057f65-3348-4591-a0c6-da6fe7cb2c30",
   "metadata": {},
   "outputs": [
    {
     "data": {
      "text/plain": [
       "OrderedDict([('weight', tensor([[-0.3705,  0.4034, -0.0035, -0.4339]])),\n",
       "             ('bias', tensor([0.3543]))])"
      ]
     },
     "execution_count": 22,
     "metadata": {},
     "output_type": "execute_result"
    }
   ],
   "source": [
    "net[1].state_dict()"
   ]
  },
  {
   "cell_type": "code",
   "execution_count": 23,
   "id": "115a24db-7747-40a6-ba71-cc23dcb09b9c",
   "metadata": {},
   "outputs": [
    {
     "name": "stdout",
     "output_type": "stream",
     "text": [
      "0.weight Parameter containing:\n",
      "tensor([[-0.6436,  0.2146],\n",
      "        [ 0.6018,  0.2799],\n",
      "        [-0.3443, -0.0851],\n",
      "        [-0.6666,  0.6326]], requires_grad=True)\n",
      "0.bias Parameter containing:\n",
      "tensor([ 0.0278,  0.5734, -0.3558, -0.3736], requires_grad=True)\n",
      "1.weight Parameter containing:\n",
      "tensor([[-0.3705,  0.4034, -0.0035, -0.4339]], requires_grad=True)\n",
      "1.bias Parameter containing:\n",
      "tensor([0.3543], requires_grad=True)\n"
     ]
    }
   ],
   "source": [
    "for name, param in net.named_parameters():\n",
    "    print(name, param)"
   ]
  },
  {
   "cell_type": "code",
   "execution_count": 24,
   "id": "a1650072-eb64-4830-b174-8c360938f282",
   "metadata": {},
   "outputs": [],
   "source": [
    "def blk1():\n",
    "    return nn.Sequential(\n",
    "        nn.Linear(4, 8),\n",
    "        nn.ReLU(),\n",
    "        nn.Linear(8, 4),\n",
    "        nn.ReLU()\n",
    "    )\n",
    "    \n",
    "def blk2():\n",
    "    net = nn.Sequential()\n",
    "    for i in range(2):\n",
    "        net.add_module(f'blk_{i}', blk1())\n",
    "    return net"
   ]
  },
  {
   "cell_type": "code",
   "execution_count": 25,
   "id": "9d1a5a6d-9fb6-4fae-9134-7a81b9861560",
   "metadata": {},
   "outputs": [
    {
     "name": "stdout",
     "output_type": "stream",
     "text": [
      "Sequential(\n",
      "  (0): Sequential(\n",
      "    (blk_0): Sequential(\n",
      "      (0): Linear(in_features=4, out_features=8, bias=True)\n",
      "      (1): ReLU()\n",
      "      (2): Linear(in_features=8, out_features=4, bias=True)\n",
      "      (3): ReLU()\n",
      "    )\n",
      "    (blk_1): Sequential(\n",
      "      (0): Linear(in_features=4, out_features=8, bias=True)\n",
      "      (1): ReLU()\n",
      "      (2): Linear(in_features=8, out_features=4, bias=True)\n",
      "      (3): ReLU()\n",
      "    )\n",
      "  )\n",
      "  (1): Linear(in_features=4, out_features=1, bias=True)\n",
      ")\n"
     ]
    }
   ],
   "source": [
    "blk_net = nn.Sequential(\n",
    "    blk2(),\n",
    "    nn.Linear(4, 1)\n",
    ")\n",
    "print(blk_net)"
   ]
  },
  {
   "cell_type": "markdown",
   "id": "f32f8e79-b4ae-4ae8-a595-5a429ba5ab49",
   "metadata": {},
   "source": [
    "## L5"
   ]
  },
  {
   "cell_type": "code",
   "execution_count": 26,
   "id": "8259f597-9fb6-43e2-80fe-4e91b6a18178",
   "metadata": {},
   "outputs": [
    {
     "name": "stdout",
     "output_type": "stream",
     "text": [
      "Sequential(\n",
      "  (0): Linear(in_features=2, out_features=4, bias=True)\n",
      "  (1): Linear(in_features=4, out_features=1, bias=True)\n",
      ")\n"
     ]
    },
    {
     "data": {
      "text/plain": [
       "(tensor([-0.0171, -0.0123]), tensor(0.))"
      ]
     },
     "execution_count": 26,
     "metadata": {},
     "output_type": "execute_result"
    }
   ],
   "source": [
    "def init_weights_normal(m):\n",
    "    if type(m) == nn.Linear:\n",
    "        nn.init.normal_(m.weight, mean=0, std=0.01)\n",
    "        nn.init.zeros_(m.bias)\n",
    "\n",
    "print(net)\n",
    "net.apply(init_weights_normal)\n",
    "net[0].weight.data[0], net[0].bias.data[0]"
   ]
  },
  {
   "cell_type": "markdown",
   "id": "19001249-4781-426c-a7e3-7b4090db5e9c",
   "metadata": {},
   "source": [
    "### Load and save params\n",
    "\n",
    "```\n",
    "torch.save(net.state_dict(), 'name')\n",
    "```\n",
    "```\n",
    "clone = Net()\n",
    "clone.load_state_dict(torch.load('name'))\n",
    "```"
   ]
  },
  {
   "cell_type": "markdown",
   "id": "c63fdfc7-0b3d-47db-bdd5-891071145805",
   "metadata": {},
   "source": [
    "## L7"
   ]
  },
  {
   "cell_type": "code",
   "execution_count": 143,
   "id": "c0cea8c6-4bcf-46ed-a280-a2ac3f2eeaa2",
   "metadata": {},
   "outputs": [],
   "source": [
    "import matplotlib.pyplot as plt\n",
    "import numpy as np\n",
    "from tqdm import tqdm"
   ]
  },
  {
   "cell_type": "code",
   "execution_count": 144,
   "id": "68b8b2db-e528-49c7-a8f8-6c58204b24cd",
   "metadata": {},
   "outputs": [],
   "source": [
    "def synthetic_data(w, b, num_examples):\n",
    "    X = torch.normal(0, 1, (num_examples, len(w)))\n",
    "    y = torch.matmul(X, w) + b\n",
    "    y += torch.normal(0, 0.01, y.shape)\n",
    "    return X, y.reshape((-1, 1))\n"
   ]
  },
  {
   "cell_type": "code",
   "execution_count": 145,
   "id": "d5c92c7a-7838-4ec7-95d7-fa2a7a8ed265",
   "metadata": {},
   "outputs": [],
   "source": [
    "n_train, n_test, num_inputs, batch_size = 20, 100, 200, 5\n",
    "true_w, true_b = torch.ones(num_inputs, 1) * 0.01, 0.05\n",
    "train_data = synthetic_data(true_w, true_b, n_train)\n",
    "test_data = synthetic_data(true_w, true_b, n_test)"
   ]
  },
  {
   "cell_type": "code",
   "execution_count": 146,
   "id": "7b1d0851-d638-47d6-8675-434bcdcb151d",
   "metadata": {},
   "outputs": [
    {
     "name": "stdout",
     "output_type": "stream",
     "text": [
      "torch.Size([20, 200]) torch.Size([20, 1])\n"
     ]
    }
   ],
   "source": [
    "print(train_data[0].shape, train_data[1].shape)"
   ]
  },
  {
   "cell_type": "code",
   "execution_count": 147,
   "id": "c404dfdf-70e2-4d13-a1af-4fc1640b7f83",
   "metadata": {},
   "outputs": [],
   "source": [
    "def load_array(data_arrays, batch_size, is_train=True):\n",
    "    dataset = data.TensorDataset(*data_arrays)\n",
    "    return data.DataLoader(dataset, batch_size, shuffle=is_train)"
   ]
  },
  {
   "cell_type": "code",
   "execution_count": 148,
   "id": "e7ea75b4-5cf6-422f-8ece-a43598cf079f",
   "metadata": {},
   "outputs": [],
   "source": [
    "train_iter = load_data(train_data, batch_size)\n",
    "test_iter = load_data(test_data, batch_size, is_train=False)"
   ]
  },
  {
   "cell_type": "code",
   "execution_count": 149,
   "id": "ed213fc8-f3e0-493f-9642-f5b28dcca12b",
   "metadata": {},
   "outputs": [],
   "source": [
    "def init_params():\n",
    "    w = torch.normal(0, 1, size=(num_inputs, 1), requires_grad=True)\n",
    "    b = torch.zeros(1, requires_grad=True)\n",
    "    return [w, b]"
   ]
  },
  {
   "cell_type": "code",
   "execution_count": 150,
   "id": "36e01681-78af-4c37-a8ef-619e7a5b0356",
   "metadata": {},
   "outputs": [],
   "source": [
    "def forward(X, w, b):\n",
    "    return torch.matmul(X, w) + b"
   ]
  },
  {
   "cell_type": "code",
   "execution_count": 151,
   "id": "d499e64b-0daa-424c-8586-5b569a3334ca",
   "metadata": {},
   "outputs": [],
   "source": [
    "def squared_loss(y_hat, y):\n",
    "    return (y_hat - y.reshape(y_hat.shape))**2 / 2"
   ]
  },
  {
   "cell_type": "code",
   "execution_count": 152,
   "id": "959fa482-3f8b-4673-b4e9-2f22df38c7a0",
   "metadata": {},
   "outputs": [],
   "source": [
    "def sgd(params, lr, batch_size):\n",
    "    with torch.no_grad():\n",
    "        for param in params:\n",
    "            param -= lr * param.grad / batch_size\n",
    "            param.grad.zero_()\n",
    "    "
   ]
  },
  {
   "cell_type": "code",
   "execution_count": 153,
   "id": "87a6a9d9-c5a1-4022-973b-cd3620db901d",
   "metadata": {},
   "outputs": [],
   "source": [
    "def eval_loss(net, data_iter, loss):\n",
    "    l = 0\n",
    "    for X, y in data_iter:\n",
    "        out = net(X)\n",
    "        y = y.reshape(out.shape)\n",
    "        l += loss(out, y).sum()\n",
    "    return l\n",
    "\n",
    "def l2_penalty(w):\n",
    "    return torch.sum(w.pow(2)) / 2\n",
    "\n",
    "def l1_penalty(w):\n",
    "    return torch.sum(torch.abs(w))"
   ]
  },
  {
   "cell_type": "code",
   "execution_count": 156,
   "id": "eb52d681-2b8f-4f3b-bdd8-eedffba32a95",
   "metadata": {},
   "outputs": [
    {
     "name": "stderr",
     "output_type": "stream",
     "text": [
      "100%|████████████████████████████████████████████████████████████████████████████████████████████████████| 200/200 [00:00<00:00, 866.42it/s]\n"
     ]
    },
    {
     "data": {
      "image/png": "[encoded data removed]",
      "text/plain": [
       "<Figure size 640x480 with 1 Axes>"
      ]
     },
     "metadata": {},
     "output_type": "display_data"
    }
   ],
   "source": [
    "w, b = init_params()\n",
    "num_epochs, lr = 200, 0.001\n",
    "alpha = 5\n",
    "beta = 1\n",
    "net = lambda X: forward(X, w, b)\n",
    "train_loss = np.zeros(num_epochs)\n",
    "test_loss = np.zeros(num_epochs)\n",
    "\n",
    "for epoch in tqdm(range(num_epochs)):\n",
    "    for X, y in train_iter:\n",
    "        #l = squared_loss(net(X), y)\n",
    "        #l = squared_loss(net(X), y) + alpha * l2_penalty(w)\n",
    "        l = squared_loss(net(X), y) + alpha * l2_penalty(w) + beta * l1_penalty(w)\n",
    "        l.sum().backward() # sgd uses the computed grad\n",
    "        sgd([w, b], lr, batch_size)\n",
    "        \n",
    "    with torch.no_grad():\n",
    "        train_loss[epoch] = eval_loss(net, train_iter, squared_loss)\n",
    "        test_loss[epoch] = eval_loss(net, test_iter, squared_loss)\n",
    "\n",
    "plt.rcParams.update({'font.size': 14})\n",
    "plt.plot(np.arange(num_epochs), train_loss, label='train')\n",
    "plt.plot(np.arange(num_epochs), test_loss, label='test')\n",
    "plt.legend()\n",
    "plt.yscale('log')"
   ]
  },
  {
   "cell_type": "code",
   "execution_count": null,
   "id": "9ffcbc13-0d59-49d9-bf84-dcbfaa5b7f8d",
   "metadata": {},
   "outputs": [],
   "source": []
  },
  {
   "cell_type": "code",
   "execution_count": null,
   "id": "e540e1e3-1def-4056-9293-c0a7752cfdf6",
   "metadata": {},
   "outputs": [],
   "source": []
  }
 ],
 "metadata": {
  "kernelspec": {
   "display_name": "Python 3 (ipykernel)",
   "language": "python",
   "name": "python3"
  },
  "language_info": {
   "codemirror_mode": {
    "name": "ipython",
    "version": 3
   },
   "file_extension": ".py",
   "mimetype": "text/x-python",
   "name": "python",
   "nbconvert_exporter": "python",
   "pygments_lexer": "ipython3",
   "version": "3.12.7"
  }
 },
 "nbformat": 4,
 "nbformat_minor": 5
}
