{
 "cells": [
  {
   "cell_type": "markdown",
   "id": "cb955751-30fd-42af-9260-6a345d6fcd2e",
   "metadata": {
    "tags": []
   },
   "source": [
    "## Scratch pad to try and understand https://github.com/facebookresearch/segment-anything/tree/main/segment_anything"
   ]
  },
  {
   "cell_type": "code",
   "execution_count": 4,
   "id": "63d34557-024b-4143-9388-3f5763c60b41",
   "metadata": {
    "tags": []
   },
   "outputs": [],
   "source": [
    "import torch\n",
    "import torch.nn as nn\n",
    "import torch.nn.functional as F\n",
    "\n",
    "from typing import Type"
   ]
  },
  {
   "cell_type": "code",
   "execution_count": 18,
   "id": "0ac94c18-1316-43bb-bcb9-246a72d4ded2",
   "metadata": {
    "tags": []
   },
   "outputs": [
    {
     "name": "stdout",
     "output_type": "stream",
     "text": [
      "Using device: cuda\n",
      "Device name Tesla T4\n"
     ]
    }
   ],
   "source": [
    "device = torch.device(\"cuda\" if torch.cuda.is_available() else \"cpu\")\n",
    "print(f\"Using device: {device}\")\n",
    "\n",
    "if device.type == \"cuda\":\n",
    "    print(f'Device name {torch.cuda.get_device_name(0)}')\n"
   ]
  },
  {
   "cell_type": "code",
   "execution_count": 2,
   "id": "1e20cfed",
   "metadata": {
    "tags": []
   },
   "outputs": [],
   "source": [
    "class MLPBlock(nn.Module):\n",
    "    def __init__(\n",
    "        self,\n",
    "        embedding_dim: int,\n",
    "        mlp_dim: int,\n",
    "        activation: Type[nn.Module] = nn.GELU\n",
    "    ):\n",
    "        super().__init__()\n",
    "        self.linear_1 = nn.Linear(embedding_dim, mlp_dim)\n",
    "        self.linear_2 = nn.Linear(mlp_dim, embedding_dim)\n",
    "        self.activation = activation()\n",
    "        \n",
    "    def forward(self, x: torch.Tensor) -> torch.Tensor:\n",
    "        return self.linear_2(self.activation(self.linear_1(x)))\n",
    "        "
   ]
  },
  {
   "cell_type": "code",
   "execution_count": 3,
   "id": "9ca809ce-c4c4-4b24-868f-785e03f7f712",
   "metadata": {
    "tags": []
   },
   "outputs": [],
   "source": [
    "class LayerNorm2d(nn.Module):\n",
    "    def __init__(self, num_channels: int, eps: float = 1e-6):\n",
    "        super().__init__()\n",
    "        self.weight = nn.Parameter(torch.ones(num_channels))\n",
    "        self.bias = nn.Parameter(torch.zeros(num_channels))\n",
    "        self.eps = eps\n",
    "        \n",
    "    def forward(self, x: torch.Tensor) -> torch.Tensor:\n",
    "        u = x.mean(1, keepdim=True)\n",
    "        s = (x - u).pow(2).mean(1, keepdim=True)\n",
    "        x = (x - u) / torch.sqrt(s + self.eps)\n",
    "        x = self.weight[:, None, None] * x + self.bias[:, None, None]\n",
    "        return x"
   ]
  },
  {
   "cell_type": "code",
   "execution_count": null,
   "id": "3611e918-7d92-47c0-915a-cd674baa2aa4",
   "metadata": {},
   "outputs": [],
   "source": []
  }
 ],
 "metadata": {
  "kernelspec": {
   "display_name": "conda_pytorch_p310",
   "language": "python",
   "name": "conda_pytorch_p310"
  },
  "language_info": {
   "codemirror_mode": {
    "name": "ipython",
    "version": 3
   },
   "file_extension": ".py",
   "mimetype": "text/x-python",
   "name": "python",
   "nbconvert_exporter": "python",
   "pygments_lexer": "ipython3",
   "version": "3.10.14"
  }
 },
 "nbformat": 4,
 "nbformat_minor": 5
}
